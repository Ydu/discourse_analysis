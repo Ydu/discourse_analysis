{
 "cells": [
  {
   "cell_type": "code",
   "execution_count": 754,
   "metadata": {},
   "outputs": [],
   "source": [
    "from __future__ import print_function"
   ]
  },
  {
   "cell_type": "code",
   "execution_count": 803,
   "metadata": {},
   "outputs": [],
   "source": [
    "# imports\n",
    "from bs4 import BeautifulSoup\n",
    "import requests\n",
    "\n",
    "import numpy as np\n",
    "import matplotlib.pyplot as plt\n",
    "import re\n",
    "import pickle\n",
    "from sklearn.feature_extraction.text import TfidfVectorizer, CountVectorizer\n",
    "from sklearn.decomposition import TruncatedSVD, LatentDirichletAllocation, NMF\n",
    "from sklearn.cluster import KMeans, DBSCAN, AgglomerativeClustering\n",
    "from sklearn.preprocessing import Normalizer\n",
    "from sklearn.pipeline import make_pipeline\n",
    "from sklearn.manifold import TSNE\n",
    "import nltk\n",
    "import textstat\n",
    "from textblob import TextBlob\n",
    "import pyLDAvis\n",
    "import pyLDAvis.sklearn\n",
    "from mpl_toolkits import mplot3d\n",
    "import pandas as pd\n",
    "from pprint import pprint\n",
    "import gensim.corpora as corpora\n",
    "from gensim.utils import simple_preprocess\n",
    "from gensim.models import CoherenceModel\n",
    "import spacy\n",
    "import pyLDAvis\n",
    "import pyLDAvis.gensim  # don't skip this\n",
    "%matplotlib inline\n",
    "import warnings\n",
    "warnings.filterwarnings(\"ignore\",category=DeprecationWarning)\n",
    "from nltk.corpus import stopwords"
   ]
  },
  {
   "cell_type": "code",
   "execution_count": null,
   "metadata": {},
   "outputs": [],
   "source": [
    "nltk.download('averaged_perceptron_tagger')"
   ]
  },
  {
   "cell_type": "markdown",
   "metadata": {},
   "source": [
    "# Data Gathering"
   ]
  },
  {
   "cell_type": "code",
   "execution_count": 144,
   "metadata": {},
   "outputs": [],
   "source": [
    "# figuring out scraping\n",
    "base_url = 'http://www.emersonkent.com/famous_speeches_in_history_topic.htm'\n",
    "response = requests.get(base_url)\n",
    "page = response.text\n",
    "soup = BeautifulSoup(page, 'lxml')\n"
   ]
  },
  {
   "cell_type": "code",
   "execution_count": null,
   "metadata": {
    "scrolled": true
   },
   "outputs": [],
   "source": [
    "print(soup.prettify())"
   ]
  },
  {
   "cell_type": "code",
   "execution_count": 83,
   "metadata": {
    "scrolled": true
   },
   "outputs": [
    {
     "name": "stdout",
     "output_type": "stream",
     "text": [
      "\"speeches/paris_liberated.htm\"\n",
      "\"speeches/paris_libere.htm\"\n",
      "\"speeches/patria_o_muerte.htm\"\n",
      "\"speeches/peace_in_our_time.htm\"\n",
      "\"speeches/perils_of_indifference.htm\"\n",
      "\"speeches/plymouth_oration.htm\"\n",
      "\"speeches/politics_as_an_art.htm\"\n",
      "\"speeches/proclamation_to_the_german_nation_intro_goebbels.htm\"\n",
      "\"speeches/proclamation_to_the_german_nation.htm\"\n",
      "\"speeches/quarantine_the_aggressor.htm\"\n",
      "\"speeches/quit_india.htm\"\n",
      "\"speeches/resignation_speech.htm\"\n",
      "\"speeches/resignation_speech_nixon.htm\"\n",
      "\"speeches/resignation_speech_howe.htm\"\n",
      "\"speeches/returning_fire.htm\"\n",
      "\"speeches/rivers_of_blood.htm\"\n",
      "\"speeches/sanitas_sanitatum_omnia_sanitas.htm\"\n",
      "\"speeches/school_house_door_speech.htm\"\n",
      "\"speeches/segregation_forever.htm\"\n",
      "\"speeches/sermon_on_the_mound.htm\"\n",
      "\"speeches/sermon_on_the_mount.htm\"\n",
      "\"speeches/sermon_to_the_birds.htm\"\n",
      "\"speeches/share_the_wealth.htm\"\n",
      "\"speeches/sinners_in_the_hands_of_an_angry_god.htm\"\n",
      "\"speeches/social_security.htm\"\n",
      "\"speeches/solitude_of_self.htm\"\n",
      "\"speeches/spanish_armada_speech.htm\"\n",
      "\"speeches/speech_from_the_dock.htm\"\n",
      "\"speeches/strength_and_decency.htm\"\n",
      "\"speeches/principes_de_morale_politique.htm\"\n",
      "\"speeches/surrender_speech.htm\"\n",
      "\"speeches/surrender_hirohito.htm\"\n"
     ]
    }
   ],
   "source": [
    "# getting urls for individual speeches\n",
    "for element in soup.find(id='table6').find_all(style='text-decoration: none'):\n",
    "    link = str(element).split()[1].split('=')[1]\n",
    "    if link.split('/')[0] == '\"speeches':\n",
    "        print(link)"
   ]
  },
  {
   "cell_type": "code",
   "execution_count": null,
   "metadata": {
    "scrolled": true
   },
   "outputs": [],
   "source": [
    "# manually make a list of urls of speeches sorted alphabetically by topics\n",
    "#soup.find('blockquote')\n",
    "topic_links_list = ['http://www.emersonkent.com/famous_speeches_in_history_topic.htm',\n",
    "                    'famous_speeches_in_history_topic_from_b.htm',\n",
    "                    'famous_speeches_in_history_topic_from_e.htm',\n",
    "                    'famous_speeches_in_history_topic_from_h.htm',\n",
    "                    'famous_speeches_in_history_topic_from_j.htm',\n",
    "                    'famous_speeches_in_history_topic_from_p.htm',\n",
    "                    'famous_speeches_in_history_topic_from_t.htm',\n",
    "                    'famous_speeches_in_history_topic_from_the_k.htm',\n",
    "                    'famous_speeches_in_history_topic_from_u.htm']"
   ]
  },
  {
   "cell_type": "code",
   "execution_count": 453,
   "metadata": {},
   "outputs": [],
   "source": [
    "# getting text from a speech page\n",
    "speech_url = 'http://www.emersonkent.com/' + 'speeches/you_ve_got_to_find_what_you_love.htm'\n",
    "response = requests.get(speech_url)\n",
    "speech_page = response.text\n",
    "speech_soup = BeautifulSoup(speech_page, 'lxml')"
   ]
  },
  {
   "cell_type": "code",
   "execution_count": null,
   "metadata": {},
   "outputs": [],
   "source": [
    "print(speech_soup.prettify())"
   ]
  },
  {
   "cell_type": "code",
   "execution_count": 749,
   "metadata": {},
   "outputs": [],
   "source": [
    "edited_sentence = ''\n",
    "for block in speech_soup.find_all(align='left', style='margin-left: 20px; margin-right: 20px'):\n",
    "    full_text = block.text\n",
    "    stripped_text = block.text.encode('ascii','ignore').decode('ascii').strip().replace('\\n','').replace('\\t','').replace('\\r','').split()\n",
    "    tagged_sentence = nltk.tag.pos_tag(stripped_text)\n",
    "    edited_sentence = [word for word,tag in tagged_sentence if tag != 'NNP' and tag != 'NNPS']\n",
    "#print(' '.join(edited_sentence))\n",
    "#    if(len(block.text.strip()) > 10):\n",
    "       # speech_text += block.text.strip()"
   ]
  },
  {
   "cell_type": "code",
   "execution_count": null,
   "metadata": {},
   "outputs": [],
   "source": [
    "#speech_soup.find_all(face='Verdana', size='2')[12]\n",
    "speech_text = ''\n",
    "#speech_soup.find_all(align='left', style='margin-left: 20px; margin-right: 20px')[0]\n",
    "for block in speech_soup.find_all(align='left', style='margin-left: 20px; margin-right: 20px'):\n",
    "    if(len(block.text.strip()) > 10):\n",
    "        speech_text += block.text.strip()\n",
    "        print(speech_text)\n",
    "#speech_text = speech_text.replace('\\t', '').replace('\\r','').replace('\\n','')\n",
    "#speech_text"
   ]
  },
  {
   "cell_type": "code",
   "execution_count": null,
   "metadata": {},
   "outputs": [],
   "source": [
    "# scrape all speeches\n",
    "topic_links_list = ['famous_speeches_in_history_topic.htm',\n",
    "                    'famous_speeches_in_history_topic_from_b.htm',\n",
    "                    'famous_speeches_in_history_topic_from_e.htm',\n",
    "                    'famous_speeches_in_history_topic_from_h.htm',\n",
    "                    'famous_speeches_in_history_topic_from_j.htm',\n",
    "                    'famous_speeches_in_history_topic_from_p.htm',\n",
    "                    'famous_speeches_in_history_topic_from_t.htm',\n",
    "                    'famous_speeches_in_history_topic_from_the_k.htm',\n",
    "                    'famous_speeches_in_history_topic_from_u.htm']\n",
    "base_url = 'http://www.emersonkent.com/'\n",
    "def scraping():\n",
    "    count = 0\n",
    "    speeches_list = []\n",
    "    # go through each page with a list of speeches\n",
    "    for topic in topic_links_list:\n",
    "        # get urls in beautifulsoup\n",
    "        speech_index_url = base_url + topic\n",
    "        response = requests.get(speech_index_url)\n",
    "        speech_index_page = response.text\n",
    "        speech_index_soup = BeautifulSoup(speech_index_page, 'lxml')\n",
    "        \n",
    "        # get list of speeches on the page\n",
    "        speech_url_list = []\n",
    "        for speech_link in speech_index_soup.find(id='table6').find_all(style='text-decoration: none'):\n",
    "            link = str(speech_link).split()[1].split('=')[1].replace('\"', '')\n",
    "            if link.split('/')[0] == 'speeches':\n",
    "                speech_url_list.append(link)\n",
    "\n",
    "            \n",
    "        # get text from each speech page\n",
    "        for speech_link in speech_url_list:\n",
    "            speech_url = base_url + speech_link\n",
    "            print(speech_url)\n",
    "            print(count)\n",
    "            count+=1\n",
    "            response = requests.get(speech_url)\n",
    "            speech_page = response.text\n",
    "            speech_soup = BeautifulSoup(speech_page, 'lxml')\n",
    "            speech_text = '' # used to collect all text as a string in earlier versions\n",
    "            speech_text_word_list = []\n",
    "            tagged_sentence = []\n",
    "            for text_block in speech_soup.find_all(align='left', style='margin-left: 20px; margin-right: 20px'):\n",
    "                #print('text stripped: ' + str(len(text_block.text.strip())))\n",
    "                if(len(text_block.text.strip()) > 20):\n",
    "                    speech_text = text_block.text.strip().replace('\\n','').replace('\\t','').replace('\\r','')\n",
    "                    speech_text_encoded = speech_text.encode('ascii','ignore').decode('ascii')\n",
    "                    #print(speech_text_encoded)\n",
    "                    speech_text_word_list = speech_text_encoded.split()\n",
    "                    tagged_sentence.extend(nltk.tag.pos_tag(speech_text_word_list))\n",
    "            #for w in tagged_sentence:\n",
    "            #    print(w)\n",
    "            edited_sentence = [word for word,tag in tagged_sentence if tag == 'NNP' or tag == 'NNPS' \n",
    "                                                                    or tag == 'NN' or tag == 'NNS']\n",
    "            #print('speech text'+ speech_text)\n",
    "#             print('speech text word list: ')\n",
    "#             for e in speech_text_word_list:\n",
    "#                 print(e)\n",
    "            #print('edited sentence: ')\n",
    "            #for e in edited_sentence:\n",
    "                #print(e)\n",
    "            if(len(speech_text)-len(speech_text_encoded) > 30):\n",
    "                print('dropped this speech')\n",
    "                speeches_list.append('')\n",
    "            else:\n",
    "                speeches_list.append(' '.join(edited_sentence))\n",
    "    return speeches_list\n",
    "\n",
    "speeches_only_nouns = scraping()\n",
    "# remove list (without encode/regular diffs)= [27,32,38,49,66,67,76,77,83,95,111,124,158,159,160,170,]\n",
    "# add list (with encode/regular diffs > 50) = [8,25,80,166,202,225]\n",
    "# drop '' = [32,66,124,]"
   ]
  },
  {
   "cell_type": "code",
   "execution_count": 655,
   "metadata": {},
   "outputs": [],
   "source": [
    "speeches_no_proper_nouns = speeches_raw_no_nouns"
   ]
  },
  {
   "cell_type": "code",
   "execution_count": 470,
   "metadata": {
    "scrolled": true
   },
   "outputs": [
    {
     "name": "stdout",
     "output_type": "stream",
     "text": [
      "157\n"
     ]
    }
   ],
   "source": [
    "for idx, speech in enumerate(speeches_raw_no_nouns):\n",
    "    if(speech == ''):\n",
    "        print(idx)\n",
    "    "
   ]
  },
  {
   "cell_type": "code",
   "execution_count": 471,
   "metadata": {},
   "outputs": [
    {
     "data": {
      "text/plain": [
       "''"
      ]
     },
     "execution_count": 471,
     "metadata": {},
     "output_type": "execute_result"
    }
   ],
   "source": [
    "speeches_raw_no_nouns.pop(157)"
   ]
  },
  {
   "cell_type": "code",
   "execution_count": null,
   "metadata": {
    "scrolled": true
   },
   "outputs": [],
   "source": [
    "for speech in speeches_raw_no_nouns[-5:]:\n",
    "    print(speech + '\\n\\n')"
   ]
  },
  {
   "cell_type": "code",
   "execution_count": 179,
   "metadata": {},
   "outputs": [],
   "source": [
    "# cleaning speeches\n",
    "speech_url = 'http://www.emersonkent.com/' + 'speeches/you_ve_got_to_find_what_you_love.htm'\n",
    "response = requests.get(speech_url)\n",
    "speech_page = response.text\n",
    "speech_soup = BeautifulSoup(speech_page, 'lxml')\n",
    "speech_text = ''\n",
    "for block in speech_soup.find_all(align='left', style='margin-left: 20px; margin-right: 20px')[1:]:\n",
    "    speech_text += block.text.replace('\\t', '').replace('\\r','').replace('\\n','')\n",
    "speeches.append(speech_text)\n",
    "speech_text = ''"
   ]
  },
  {
   "cell_type": "code",
   "execution_count": 226,
   "metadata": {},
   "outputs": [],
   "source": [
    "speech_url = 'http://www.emersonkent.com/' + 'speeches/address_to_the_un_general_assembly_benedict.htm'\n",
    "response = requests.get(speech_url)\n",
    "speech_page = response.text\n",
    "speech_soup = BeautifulSoup(speech_page, 'lxml')\n",
    "speech_text = ''\n",
    "for block in speech_soup.find_all(align='left', style='margin-left: 20px; margin-right: 20px')[2:-2]:\n",
    "    speech_text += block.text.replace('\\t', '').replace('\\r','').replace('\\n','')\n",
    "speeches[25] = speech_text\n",
    "speech_text = ''"
   ]
  },
  {
   "cell_type": "code",
   "execution_count": 288,
   "metadata": {},
   "outputs": [
    {
     "data": {
      "text/plain": [
       "'In the field of world policy I would dedicate this nation to the policy of the good neighbor--the neighbor who resolutely respects himself and, because he does so, respects the rights of others--the neighbor who respects his obligations and respects the sanctity of his agreements in and with a world of neighbors.'"
      ]
     },
     "execution_count": 288,
     "metadata": {},
     "output_type": "execute_result"
    }
   ],
   "source": [
    "# test cleaned speeches\n",
    "empty = 0\n",
    "empty_inds = []\n",
    "for ind, speech in enumerate(speeches):\n",
    "    if(speech == ''):\n",
    "        empty += 1\n",
    "        empty_inds.append(ind)\n",
    "#print(empty, empty_inds)\n",
    "### list for popping: a few around 25, roughly 47, a few around earlier 20s, ~64 & 65, ~75 & 76 and one more ~5 further,\n",
    "### ~88, ~103 \n",
    "speeches[102]"
   ]
  },
  {
   "cell_type": "code",
   "execution_count": 839,
   "metadata": {},
   "outputs": [],
   "source": [
    "# save speeches\n",
    "with open('pickles/speeches.pkl', 'wb') as f:\n",
    "       pickle.dump(speeches, f)"
   ]
  },
  {
   "cell_type": "code",
   "execution_count": 840,
   "metadata": {},
   "outputs": [],
   "source": [
    "with open('pickles/speeches_raw.pkl', 'wb') as f:\n",
    "       pickle.dump(speeches_raw, f)"
   ]
  },
  {
   "cell_type": "code",
   "execution_count": 841,
   "metadata": {},
   "outputs": [],
   "source": [
    "with open('pickles/speeches_no_proper_nouns.pkl', 'wb') as f:\n",
    "       pickle.dump(speeches_no_proper_nouns, f)"
   ]
  },
  {
   "cell_type": "code",
   "execution_count": 842,
   "metadata": {},
   "outputs": [],
   "source": [
    "with open('pickles/speeches_no_nouns.pkl', 'wb') as f:\n",
    "       pickle.dump(speeches_no_nouns, f)"
   ]
  },
  {
   "cell_type": "code",
   "execution_count": 843,
   "metadata": {},
   "outputs": [],
   "source": [
    "with open('pickles/speeches_only_nouns.pkl', 'wb') as f:\n",
    "       pickle.dump(speeches_only_nouns, f)"
   ]
  },
  {
   "cell_type": "markdown",
   "metadata": {},
   "source": [
    "# Data modeling"
   ]
  },
  {
   "cell_type": "markdown",
   "metadata": {},
   "source": [
    "vectorizing"
   ]
  },
  {
   "cell_type": "code",
   "execution_count": 766,
   "metadata": {},
   "outputs": [
    {
     "name": "stderr",
     "output_type": "stream",
     "text": [
      "IOPub data rate exceeded.\n",
      "The notebook server will temporarily stop sending output\n",
      "to the client in order to avoid crashing it.\n",
      "To change this limit, set the config variable\n",
      "`--NotebookApp.iopub_data_rate_limit`.\n",
      "\n",
      "Current values:\n",
      "NotebookApp.iopub_data_rate_limit=1000000.0 (bytes/sec)\n",
      "NotebookApp.rate_limit_window=3.0 (secs)\n",
      "\n"
     ]
    }
   ],
   "source": [
    "# tf idf\n",
    "tfvectorizer = TfidfVectorizer(stop_words='english', ngram_range=(1,3))\n",
    "Xtf = tfvectorizer.fit_transform(speeches_only_nouns)\n",
    "print(tfvectorizer.get_feature_names())"
   ]
  },
  {
   "cell_type": "code",
   "execution_count": 762,
   "metadata": {},
   "outputs": [
    {
     "name": "stderr",
     "output_type": "stream",
     "text": [
      "IOPub data rate exceeded.\n",
      "The notebook server will temporarily stop sending output\n",
      "to the client in order to avoid crashing it.\n",
      "To change this limit, set the config variable\n",
      "`--NotebookApp.iopub_data_rate_limit`.\n",
      "\n",
      "Current values:\n",
      "NotebookApp.iopub_data_rate_limit=1000000.0 (bytes/sec)\n",
      "NotebookApp.rate_limit_window=3.0 (secs)\n",
      "\n"
     ]
    }
   ],
   "source": [
    "# count vectorizer\n",
    "cvectorizer = CountVectorizer(stop_words='english', ngram_range=(1,3))\n",
    "Xc = cvectorizer.fit_transform(speeches_only_nouns)\n",
    "print(cvectorizer.get_feature_names())"
   ]
  },
  {
   "cell_type": "markdown",
   "metadata": {},
   "source": [
    "dimension reducing"
   ]
  },
  {
   "cell_type": "code",
   "execution_count": 740,
   "metadata": {},
   "outputs": [],
   "source": [
    "# tf idf lsa\n",
    "tvsvd = TruncatedSVD(n_components=10, random_state=408)\n",
    "normalizer = Normalizer(copy=False)\n",
    "tvlsa = make_pipeline(tvsvd, normalizer)\n",
    "#tvsvd.fit_transform(Xtf)\n",
    "Xtvlsa = tvlsa.fit_transform(Xtf)"
   ]
  },
  {
   "cell_type": "code",
   "execution_count": 741,
   "metadata": {},
   "outputs": [],
   "source": [
    "# countvec lsa\n",
    "cvsvd = TruncatedSVD(n_components=10, random_state=493)\n",
    "normalizer = Normalizer(copy=False)\n",
    "cvlsa = make_pipeline(cvsvd, normalizer)\n",
    "Xcvlsa = cvlsa.fit_transform(Xc)"
   ]
  },
  {
   "cell_type": "code",
   "execution_count": 767,
   "metadata": {},
   "outputs": [
    {
     "data": {
      "text/plain": [
       "LatentDirichletAllocation(batch_size=128, doc_topic_prior=None,\n",
       "                          evaluate_every=-1, learning_decay=0.7,\n",
       "                          learning_method='batch', learning_offset=10.0,\n",
       "                          max_doc_update_iter=100, max_iter=10,\n",
       "                          mean_change_tol=0.001, n_components=10, n_jobs=None,\n",
       "                          perp_tol=0.1, random_state=493, topic_word_prior=None,\n",
       "                          total_samples=1000000.0, verbose=0)"
      ]
     },
     "execution_count": 767,
     "metadata": {},
     "output_type": "execute_result"
    }
   ],
   "source": [
    "# countvec lda\n",
    "cvlda = LatentDirichletAllocation(n_components=10, random_state=493)\n",
    "cvlda.fit(Xc)"
   ]
  },
  {
   "cell_type": "code",
   "execution_count": 768,
   "metadata": {},
   "outputs": [
    {
     "data": {
      "text/plain": [
       "LatentDirichletAllocation(batch_size=128, doc_topic_prior=None,\n",
       "                          evaluate_every=-1, learning_decay=0.7,\n",
       "                          learning_method='batch', learning_offset=10.0,\n",
       "                          max_doc_update_iter=100, max_iter=10,\n",
       "                          mean_change_tol=0.001, n_components=10, n_jobs=None,\n",
       "                          perp_tol=0.1, random_state=408, topic_word_prior=None,\n",
       "                          total_samples=1000000.0, verbose=0)"
      ]
     },
     "execution_count": 768,
     "metadata": {},
     "output_type": "execute_result"
    }
   ],
   "source": [
    "tvlda = LatentDirichletAllocation(n_components=10, random_state=408)\n",
    "tvlda.fit(Xtf)\n"
   ]
  },
  {
   "cell_type": "code",
   "execution_count": 695,
   "metadata": {},
   "outputs": [],
   "source": [
    "# tf idf nmf\n",
    "tvnmf = NMF(n_components=10, random_state=408)\n",
    "Xtvnmf = tvnmf.fit_transform(Xtf)"
   ]
  },
  {
   "cell_type": "code",
   "execution_count": 696,
   "metadata": {},
   "outputs": [],
   "source": [
    "# countvec nmf\n",
    "cvnmf = NMF(n_components=10, random_state=493)\n",
    "Xcvnmf = cvnmf.fit_transform(Xc)"
   ]
  },
  {
   "cell_type": "markdown",
   "metadata": {},
   "source": [
    "clustering"
   ]
  },
  {
   "cell_type": "code",
   "execution_count": 742,
   "metadata": {},
   "outputs": [],
   "source": [
    "# tf idf lsa k-means\n",
    "tvlsakmeans = KMeans(n_clusters=5, random_state=408).fit(Xtvlsa)"
   ]
  },
  {
   "cell_type": "code",
   "execution_count": 644,
   "metadata": {},
   "outputs": [
    {
     "data": {
      "text/plain": [
       "KMeans(algorithm='auto', copy_x=True, init='k-means++', max_iter=300,\n",
       "       n_clusters=8, n_init=10, n_jobs=None, precompute_distances='auto',\n",
       "       random_state=408, tol=0.0001, verbose=0)"
      ]
     },
     "execution_count": 644,
     "metadata": {},
     "output_type": "execute_result"
    }
   ],
   "source": [
    "tvlsakmeans"
   ]
  },
  {
   "cell_type": "code",
   "execution_count": 348,
   "metadata": {},
   "outputs": [],
   "source": [
    "# tf idf lsa DBSCAN\n",
    "# changing eps and min_samples can change outcome significantly\n",
    "tvlsadbscan = DBSCAN(eps=0.5, min_samples=10).fit(Xtvlsa)"
   ]
  },
  {
   "cell_type": "code",
   "execution_count": 349,
   "metadata": {},
   "outputs": [],
   "source": [
    "# tf idf lsa hierarchal\n",
    "# n_clusters can change things\n",
    "tvlsah = AgglomerativeClustering().fit(Xtvlsa)"
   ]
  },
  {
   "cell_type": "code",
   "execution_count": 351,
   "metadata": {},
   "outputs": [],
   "source": [
    "# tf idf lda k-means\n",
    "\n",
    "## DONT do this, lda expects count data and tf idf does ratios so this won't work\n",
    "tvldakmeans = KMeans(n_clusters=5, random_state=408).fit_transform(Xtvlda)"
   ]
  },
  {
   "cell_type": "code",
   "execution_count": 352,
   "metadata": {},
   "outputs": [],
   "source": [
    "# tf idf lda DBSCAN\n",
    "# changing eps and min_samples can change outcome significantly\n",
    "\n",
    "## check above cell\n",
    "tvldadbscan = DBSCAN(eps=0.5, min_samples=10).fit(Xtvlda)"
   ]
  },
  {
   "cell_type": "code",
   "execution_count": 353,
   "metadata": {},
   "outputs": [],
   "source": [
    "# tf idf lda hierarchal\n",
    "# n_clusters can change things\n",
    "\n",
    "## check above cell\n",
    "tvldah = AgglomerativeClustering().fit(Xtvlda)"
   ]
  },
  {
   "cell_type": "code",
   "execution_count": 355,
   "metadata": {},
   "outputs": [],
   "source": [
    "# tf idf nmf k-means\n",
    "tvnmfkmeans = KMeans(n_clusters=5, random_state=408).fit_transform(Xtvnmf)"
   ]
  },
  {
   "cell_type": "code",
   "execution_count": 356,
   "metadata": {},
   "outputs": [],
   "source": [
    "# tf idf nmf DBSCAN\n",
    "# changing eps and min_samples can change outcome significantly\n",
    "tvnmfdbscan = DBSCAN(eps=0.5, min_samples=10).fit(Xtvnmf)"
   ]
  },
  {
   "cell_type": "code",
   "execution_count": 357,
   "metadata": {},
   "outputs": [],
   "source": [
    "# tf idf nmf hierarchal\n",
    "# n_clusters can change things\n",
    "tvnmfh = AgglomerativeClustering().fit(Xtvnmf)"
   ]
  },
  {
   "cell_type": "code",
   "execution_count": 671,
   "metadata": {},
   "outputs": [],
   "source": [
    "# countvec lsa k-means\n",
    "cvlsakmeans = KMeans(n_clusters=5, random_state=493).fit(Xcvlsa)"
   ]
  },
  {
   "cell_type": "code",
   "execution_count": 651,
   "metadata": {},
   "outputs": [
    {
     "data": {
      "text/plain": [
       "KMeans(algorithm='auto', copy_x=True, init='k-means++', max_iter=300,\n",
       "       n_clusters=5, n_init=10, n_jobs=None, precompute_distances='auto',\n",
       "       random_state=493, tol=0.0001, verbose=0)"
      ]
     },
     "execution_count": 651,
     "metadata": {},
     "output_type": "execute_result"
    }
   ],
   "source": [
    "cvlsakmeans"
   ]
  },
  {
   "cell_type": "code",
   "execution_count": 631,
   "metadata": {},
   "outputs": [
    {
     "data": {
      "text/plain": [
       "DBSCAN(algorithm='auto', eps=0.5, leaf_size=30, metric='euclidean',\n",
       "       metric_params=None, min_samples=10, n_jobs=None, p=None)"
      ]
     },
     "execution_count": 631,
     "metadata": {},
     "output_type": "execute_result"
    }
   ],
   "source": [
    "# countvec lsa DBSCAN\n",
    "# changing eps and min_samples can change outcome significantly\n",
    "cvlsadbscan = DBSCAN(eps=0.5, min_samples=10).fit(Xcvlsa)\n",
    "cvlsadbscan"
   ]
  },
  {
   "cell_type": "code",
   "execution_count": 363,
   "metadata": {},
   "outputs": [],
   "source": [
    "# countvec lsa hierarchal\n",
    "# n_clusters can change things\n",
    "cvlsah = AgglomerativeClustering().fit(Xcvlsa)"
   ]
  },
  {
   "cell_type": "code",
   "execution_count": 364,
   "metadata": {},
   "outputs": [],
   "source": [
    "# countvec lda k-means\n",
    "cvldakmeans = KMeans(n_clusters=5, random_state=493).fit_transform(Xcvlda)"
   ]
  },
  {
   "cell_type": "code",
   "execution_count": 635,
   "metadata": {},
   "outputs": [
    {
     "data": {
      "text/plain": [
       "array([[1.00919879, 0.86423541, 1.15290791, 1.20545902, 0.47559818],\n",
       "       [0.10119494, 0.64537937, 0.58468252, 0.52198528, 0.64990903],\n",
       "       [0.59440044, 0.08307394, 0.80517765, 0.84066592, 0.574599  ],\n",
       "       ...,\n",
       "       [0.50267874, 0.54386558, 0.93138001, 0.59214129, 0.23646653],\n",
       "       [0.59440044, 0.08307394, 0.80517765, 0.84066592, 0.574599  ],\n",
       "       [0.61865229, 0.60051549, 1.00509813, 0.66785398, 0.70776977]])"
      ]
     },
     "execution_count": 635,
     "metadata": {},
     "output_type": "execute_result"
    }
   ],
   "source": [
    "cvldakmeans"
   ]
  },
  {
   "cell_type": "code",
   "execution_count": 365,
   "metadata": {},
   "outputs": [],
   "source": [
    "# countvec lda DBSCAN\n",
    "# changing eps and min_samples can change outcome significantly\n",
    "cvldadbscan = DBSCAN(eps=0.5, min_samples=10).fit(Xcvlda)"
   ]
  },
  {
   "cell_type": "code",
   "execution_count": 366,
   "metadata": {},
   "outputs": [],
   "source": [
    "# countvec lda hierarchal\n",
    "# n_clusters can change things\n",
    "cvldah = AgglomerativeClustering().fit(Xcvlda)"
   ]
  },
  {
   "cell_type": "code",
   "execution_count": 367,
   "metadata": {},
   "outputs": [],
   "source": [
    "# countvec nmf k-means\n",
    "cvnmfkmeans = KMeans(n_clusters=5, random_state=493).fit_transform(Xcvnmf)"
   ]
  },
  {
   "cell_type": "code",
   "execution_count": 368,
   "metadata": {},
   "outputs": [],
   "source": [
    "# countvec nmf DBSCAN\n",
    "# changing eps and min_samples can change outcome significantly\n",
    "cvnmfdbscan = DBSCAN(eps=0.5, min_samples=10).fit(Xcvnmf)"
   ]
  },
  {
   "cell_type": "code",
   "execution_count": 369,
   "metadata": {},
   "outputs": [],
   "source": [
    "# countvec nmf hierarchal\n",
    "# n_clusters can change things\n",
    "cvnmfh = AgglomerativeClustering().fit(Xcvnmf)"
   ]
  },
  {
   "cell_type": "markdown",
   "metadata": {},
   "source": [
    "# EDA"
   ]
  },
  {
   "cell_type": "code",
   "execution_count": 374,
   "metadata": {},
   "outputs": [
    {
     "data": {
      "text/plain": [
       "array([2, 3, 0, 1, 1, 2, 2, 3, 2, 3, 4, 3, 3, 0, 2, 3, 1, 1, 1, 0, 1, 3,\n",
       "       4, 3, 3, 3, 2, 2, 3, 2, 0, 3, 2, 0, 3, 3, 3, 3, 4, 3, 3, 2, 2, 1,\n",
       "       2, 3, 1, 2, 3, 1, 3, 2, 0, 3, 0, 3, 2, 1, 3, 4, 2, 3, 0, 0, 3, 0,\n",
       "       3, 3, 3, 3, 3, 2, 2, 3, 3, 4, 3, 2, 2, 3, 0, 1, 2, 4, 3, 3, 2, 2,\n",
       "       0, 2, 3, 4, 1, 3, 4, 0, 3, 3, 3, 4, 1, 2, 2, 2, 0, 3, 3, 3, 0, 2,\n",
       "       0, 2, 3, 0, 0, 4, 3, 3, 3, 2, 3, 0, 3, 1, 3, 0, 1, 0, 0, 0, 0, 0,\n",
       "       1, 0, 1, 1, 1, 1, 1, 0, 1, 3, 2, 0, 1, 3, 1, 1, 3, 0, 0, 0, 2, 0,\n",
       "       4, 3, 2, 1, 3, 0, 2, 0, 0, 3, 3, 3, 3, 3, 3, 2, 3, 2, 3, 3, 3, 2,\n",
       "       0, 3, 3, 1, 0, 3, 3, 2, 0, 4, 2, 3, 3, 3, 0, 1, 3, 3, 2, 3, 3, 3,\n",
       "       0, 3, 3, 1, 3, 2, 0, 0, 2, 3, 3, 2, 3, 2, 0, 2, 0, 0, 2, 3, 0, 3,\n",
       "       3, 0, 3, 3, 2, 3, 3, 3, 0, 3, 3, 3, 1, 3, 3, 3, 0, 2, 3, 0, 3, 1,\n",
       "       1, 1, 3, 3, 0, 2, 2, 0, 3, 3, 3, 0, 3, 3, 3, 3, 3, 3, 3, 3, 3, 3,\n",
       "       1, 3, 3, 3, 2, 3, 3, 3, 0, 0, 3, 0, 3, 2, 3, 2, 2, 0, 2, 1, 0, 0,\n",
       "       0, 3, 3, 1, 3, 0, 2, 1, 3, 1, 1, 2, 4, 3, 2, 1, 3, 3, 3, 0, 0, 0,\n",
       "       2, 0, 3, 1, 0, 2], dtype=int32)"
      ]
     },
     "execution_count": 374,
     "metadata": {},
     "output_type": "execute_result"
    }
   ],
   "source": [
    "tvlsakmeans.labels_"
   ]
  },
  {
   "cell_type": "code",
   "execution_count": 380,
   "metadata": {},
   "outputs": [],
   "source": [
    "# from metis topic modeling notebook\n",
    "def display_topics(model, feature_names, no_top_words, topic_names=None):\n",
    "    for ix, topic in enumerate(model.components_):\n",
    "        if not topic_names or not topic_names[ix]:\n",
    "            print(\"\\nTopic \", ix)\n",
    "        else:\n",
    "            print(\"\\nTopic: '\",topic_names[ix],\"'\")\n",
    "        print(\", \".join([feature_names[i]\n",
    "                        for i in topic.argsort()[:-no_top_words - 1:-1]]))\n"
   ]
  },
  {
   "cell_type": "markdown",
   "metadata": {},
   "source": [
    "raw speeches topics"
   ]
  },
  {
   "cell_type": "code",
   "execution_count": 720,
   "metadata": {},
   "outputs": [
    {
     "name": "stdout",
     "output_type": "stream",
     "text": [
      "\n",
      "Topic  0\n",
      "people, government, men, man, know\n",
      "\n",
      "Topic  1\n",
      "people, man, world, god, white\n",
      "\n",
      "Topic  2\n",
      "people, government, right, peace, nation\n",
      "\n",
      "Topic  3\n",
      "people, god, great, new, shall\n",
      "\n",
      "Topic  4\n",
      "people, said, just, know, let\n",
      "\n",
      "Topic  5\n",
      "people, country, men, war, world\n",
      "\n",
      "Topic  6\n",
      "war, people, world, government, peace\n",
      "\n",
      "Topic  7\n",
      "women, men, man, people, country\n",
      "\n",
      "Topic  8\n",
      "people, government, country, africa, african\n",
      "\n",
      "Topic  9\n",
      "people, make, government, country, say\n"
     ]
    }
   ],
   "source": [
    "display_topics(cvlda, cvectorizer.get_feature_names(), 5)"
   ]
  },
  {
   "cell_type": "markdown",
   "metadata": {},
   "source": [
    "topics without proper nouns"
   ]
  },
  {
   "cell_type": "code",
   "execution_count": 551,
   "metadata": {},
   "outputs": [
    {
     "name": "stdout",
     "output_type": "stream",
     "text": [
      "\n",
      "Topic  0\n",
      "people, world, war, government, freedom\n",
      "\n",
      "Topic  1\n",
      "und, der, die, den, nicht\n",
      "\n",
      "Topic  2\n",
      "la, que, et, les, le\n",
      "\n",
      "Topic  3\n",
      "peace, war, world, nuclear, nations\n",
      "\n",
      "Topic  4\n",
      "man, white, don, people, said\n",
      "\n",
      "Topic  5\n",
      "women, woman, men, vote, husband\n",
      "\n",
      "Topic  6\n",
      "jewish, jewish people, trust say, memories, remember\n",
      "\n",
      "Topic  7\n",
      "electric, radio, engineers, waves, electric waves\n",
      "\n",
      "Topic  8\n",
      "helped, leadership, national, emergency, respects\n",
      "\n",
      "Topic  9\n",
      "campaign, office, excesses, case, integrity\n"
     ]
    }
   ],
   "source": [
    "display_topics(tvnmf, tfvectorizer.get_feature_names(), 5)"
   ]
  },
  {
   "cell_type": "markdown",
   "metadata": {},
   "source": [
    "topics with no nouns"
   ]
  },
  {
   "cell_type": "code",
   "execution_count": 699,
   "metadata": {},
   "outputs": [
    {
     "name": "stdout",
     "output_type": "stream",
     "text": [
      "\n",
      "Topic  0\n",
      "make, like, say, great, small, just, good, know\n",
      "\n",
      "Topic  1\n",
      "know, say, great, said, make, let, come, just\n",
      "\n",
      "Topic  2\n",
      "said, know, great, just, come, say, like, going\n",
      "\n",
      "Topic  3\n",
      "great, know, political, german, make, shall, say, new\n",
      "\n",
      "Topic  4\n",
      "shall, great, new, come, american, did, german, long\n",
      "\n",
      "Topic  5\n",
      "la, en, great, shall, good, et, que, human\n",
      "\n",
      "Topic  6\n",
      "going, black, know, white, just, american, let, like\n",
      "\n",
      "Topic  7\n",
      "und, human, auch, new, great, nicht, des, den\n",
      "\n",
      "Topic  8\n",
      "und, great, make, know, white, shall, new, black\n",
      "\n",
      "Topic  9\n",
      "la, en, los, el, great, las, know, free\n"
     ]
    }
   ],
   "source": [
    "display_topics(cvlda, tfvectorizer.get_feature_names(), 8)"
   ]
  },
  {
   "cell_type": "markdown",
   "metadata": {},
   "source": [
    "only noun topics"
   ]
  },
  {
   "cell_type": "code",
   "execution_count": 687,
   "metadata": {},
   "outputs": [
    {
     "name": "stdout",
     "output_type": "stream",
     "text": [
      "\n",
      "Topic  0\n",
      "people, man, world, men, government\n",
      "\n",
      "Topic  1\n",
      "der, die, zu, und, das\n",
      "\n",
      "Topic  2\n",
      "que, la, les, el, le\n",
      "\n",
      "Topic  3\n",
      "peace, vietnam, war, world, president\n",
      "\n",
      "Topic  4\n",
      "party, america, campaign, watergate, president\n",
      "\n",
      "Topic  5\n",
      "vashem, god, jews, white house, lord god\n",
      "\n",
      "Topic  6\n",
      "think, radio, engineers, think fact, wonders science\n",
      "\n",
      "Topic  7\n",
      "constitution, slavery, government, trade, slave\n",
      "\n",
      "Topic  8\n",
      "slave, slavery, slave trade, fathers, constitution\n",
      "\n",
      "Topic  9\n",
      "party, tax, people, republicans, god\n"
     ]
    }
   ],
   "source": [
    "display_topics(tvsvd, tfvectorizer.get_feature_names(), 5)"
   ]
  },
  {
   "cell_type": "code",
   "execution_count": 553,
   "metadata": {},
   "outputs": [
    {
     "name": "stdout",
     "output_type": "stream",
     "text": [
      "72.19\n",
      "10.7\n",
      "9.2\n",
      "7.03\n",
      "10.8\n",
      "6.31\n",
      "196\n",
      "14.75\n",
      "11.33\n",
      "10th and 11th grade\n"
     ]
    }
   ],
   "source": [
    "print(textstat.flesch_reading_ease(speeches_raw_no_nouns[-1]))\n",
    "print(textstat.smog_index(speeches_raw_no_nouns[-1]))\n",
    "print(textstat.flesch_kincaid_grade(speeches_raw_no_nouns[-1]))\n",
    "print(textstat.coleman_liau_index(speeches_raw_no_nouns[-1]))\n",
    "print(textstat.automated_readability_index(speeches_raw_no_nouns[-1]))\n",
    "print(textstat.dale_chall_readability_score(speeches_raw_no_nouns[-1]))\n",
    "print(textstat.difficult_words(speeches_raw_no_nouns[-1]))\n",
    "print(textstat.linsear_write_formula(speeches_raw_no_nouns[-1]))\n",
    "print(textstat.gunning_fog(speeches_raw_no_nouns[-1]))\n",
    "print(textstat.text_standard(speeches_raw_no_nouns[-1]))"
   ]
  },
  {
   "cell_type": "code",
   "execution_count": 833,
   "metadata": {},
   "outputs": [
    {
     "name": "stdout",
     "output_type": "stream",
     "text": [
      "47.69990740740741\n",
      "13.766049382716051\n",
      "17.15216049382716\n",
      "15.283333333333333\n",
      "27.916666666666668\n",
      "7.532314814814816\n",
      "356.7438271604938\n",
      "19.708035714285714\n",
      "19.513425925925926\n"
     ]
    },
    {
     "ename": "TypeError",
     "evalue": "cannot perform reduce with flexible type",
     "output_type": "error",
     "traceback": [
      "\u001b[0;31m---------------------------------------------------------------------------\u001b[0m",
      "\u001b[0;31mTypeError\u001b[0m                                 Traceback (most recent call last)",
      "\u001b[0;32m<ipython-input-833-4bd8706514ec>\u001b[0m in \u001b[0;36m<module>\u001b[0;34m\u001b[0m\n\u001b[1;32m     31\u001b[0m \u001b[0mprint\u001b[0m\u001b[0;34m(\u001b[0m\u001b[0mnp\u001b[0m\u001b[0;34m.\u001b[0m\u001b[0mmean\u001b[0m\u001b[0;34m(\u001b[0m\u001b[0mlwf\u001b[0m\u001b[0;34m)\u001b[0m\u001b[0;34m)\u001b[0m\u001b[0;34m\u001b[0m\u001b[0;34m\u001b[0m\u001b[0m\n\u001b[1;32m     32\u001b[0m \u001b[0mprint\u001b[0m\u001b[0;34m(\u001b[0m\u001b[0mnp\u001b[0m\u001b[0;34m.\u001b[0m\u001b[0mmean\u001b[0m\u001b[0;34m(\u001b[0m\u001b[0mgf\u001b[0m\u001b[0;34m)\u001b[0m\u001b[0;34m)\u001b[0m\u001b[0;34m\u001b[0m\u001b[0;34m\u001b[0m\u001b[0m\n\u001b[0;32m---> 33\u001b[0;31m \u001b[0mprint\u001b[0m\u001b[0;34m(\u001b[0m\u001b[0mnp\u001b[0m\u001b[0;34m.\u001b[0m\u001b[0mmean\u001b[0m\u001b[0;34m(\u001b[0m\u001b[0mts\u001b[0m\u001b[0;34m)\u001b[0m\u001b[0;34m)\u001b[0m\u001b[0;34m\u001b[0m\u001b[0;34m\u001b[0m\u001b[0m\n\u001b[0m",
      "\u001b[0;32m~/anaconda3/envs/metis/lib/python3.6/site-packages/numpy/core/fromnumeric.py\u001b[0m in \u001b[0;36mmean\u001b[0;34m(a, axis, dtype, out, keepdims)\u001b[0m\n\u001b[1;32m   3116\u001b[0m \u001b[0;34m\u001b[0m\u001b[0m\n\u001b[1;32m   3117\u001b[0m     return _methods._mean(a, axis=axis, dtype=dtype,\n\u001b[0;32m-> 3118\u001b[0;31m                           out=out, **kwargs)\n\u001b[0m\u001b[1;32m   3119\u001b[0m \u001b[0;34m\u001b[0m\u001b[0m\n\u001b[1;32m   3120\u001b[0m \u001b[0;34m\u001b[0m\u001b[0m\n",
      "\u001b[0;32m~/anaconda3/envs/metis/lib/python3.6/site-packages/numpy/core/_methods.py\u001b[0m in \u001b[0;36m_mean\u001b[0;34m(a, axis, dtype, out, keepdims)\u001b[0m\n\u001b[1;32m     73\u001b[0m             \u001b[0mis_float16_result\u001b[0m \u001b[0;34m=\u001b[0m \u001b[0;32mTrue\u001b[0m\u001b[0;34m\u001b[0m\u001b[0;34m\u001b[0m\u001b[0m\n\u001b[1;32m     74\u001b[0m \u001b[0;34m\u001b[0m\u001b[0m\n\u001b[0;32m---> 75\u001b[0;31m     \u001b[0mret\u001b[0m \u001b[0;34m=\u001b[0m \u001b[0mumr_sum\u001b[0m\u001b[0;34m(\u001b[0m\u001b[0marr\u001b[0m\u001b[0;34m,\u001b[0m \u001b[0maxis\u001b[0m\u001b[0;34m,\u001b[0m \u001b[0mdtype\u001b[0m\u001b[0;34m,\u001b[0m \u001b[0mout\u001b[0m\u001b[0;34m,\u001b[0m \u001b[0mkeepdims\u001b[0m\u001b[0;34m)\u001b[0m\u001b[0;34m\u001b[0m\u001b[0;34m\u001b[0m\u001b[0m\n\u001b[0m\u001b[1;32m     76\u001b[0m     \u001b[0;32mif\u001b[0m \u001b[0misinstance\u001b[0m\u001b[0;34m(\u001b[0m\u001b[0mret\u001b[0m\u001b[0;34m,\u001b[0m \u001b[0mmu\u001b[0m\u001b[0;34m.\u001b[0m\u001b[0mndarray\u001b[0m\u001b[0;34m)\u001b[0m\u001b[0;34m:\u001b[0m\u001b[0;34m\u001b[0m\u001b[0;34m\u001b[0m\u001b[0m\n\u001b[1;32m     77\u001b[0m         ret = um.true_divide(\n",
      "\u001b[0;31mTypeError\u001b[0m: cannot perform reduce with flexible type"
     ]
    }
   ],
   "source": [
    "fre = []\n",
    "si = []\n",
    "fkg = []\n",
    "cli = []\n",
    "ari = []\n",
    "dcrs = []\n",
    "dw = []\n",
    "lwf = []\n",
    "gf = []\n",
    "ts = []\n",
    "\n",
    "for speech in speeches_raw: \n",
    "    fre.append(textstat.flesch_reading_ease(speech))\n",
    "    si.append(textstat.smog_index(speech))\n",
    "    fkg.append(textstat.flesch_kincaid_grade(speech))\n",
    "    cli.append(textstat.coleman_liau_index(speech))\n",
    "    ari.append(textstat.automated_readability_index(speech))\n",
    "    dcrs.append(textstat.dale_chall_readability_score(speech))\n",
    "    dw.append(textstat.difficult_words(speech))\n",
    "    lwf.append(textstat.linsear_write_formula(speech))\n",
    "    gf.append(textstat.gunning_fog(speech))\n",
    "    ts.append(textstat.text_standard(speech))\n",
    "\n",
    "print(np.mean(fre))\n",
    "print(np.mean(si))\n",
    "print(np.mean(fkg))\n",
    "print(np.mean(cli))\n",
    "print(np.mean(ari))\n",
    "print(np.mean(dcrs))\n",
    "print(np.mean(dw))\n",
    "print(np.mean(lwf))\n",
    "print(np.mean(gf))\n",
    "#print(np.mean(ts))"
   ]
  },
  {
   "cell_type": "code",
   "execution_count": 618,
   "metadata": {},
   "outputs": [
    {
     "data": {
      "text/plain": [
       "[<matplotlib.lines.Line2D at 0x1a40a83be0>]"
      ]
     },
     "execution_count": 618,
     "metadata": {},
     "output_type": "execute_result"
    },
    {
     "data": {
      "image/png": "[encoded data removed]",
      "text/plain": [
       "<Figure size 432x288 with 1 Axes>"
      ]
     },
     "metadata": {
      "needs_background": "light"
     },
     "output_type": "display_data"
    }
   ],
   "source": [
    "inertia_list = []\n",
    "for i in range(1,22):\n",
    "    tvlsakmeans = KMeans(n_clusters=i, random_state=409408).fit(Xtvlsa)\n",
    "    inertia_list.append(tvlsakmeans.inertia_)\n",
    "    #print(np.unique(tvlsakmeans.labels_, return_counts=True))\n",
    "plt.plot([1,2,3,4,5,6,7,8,9,10,11,12,13,14,15,16,17,18,19,20,21], inertia_list)"
   ]
  },
  {
   "cell_type": "code",
   "execution_count": 743,
   "metadata": {},
   "outputs": [
    {
     "data": {
      "text/plain": [
       "(array([0, 1, 2, 3, 4], dtype=int32), array([ 85,  28,  81, 103,  27]))"
      ]
     },
     "execution_count": 743,
     "metadata": {},
     "output_type": "execute_result"
    }
   ],
   "source": [
    "np.unique(tvlsakmeans.labels_, return_counts=True)"
   ]
  },
  {
   "cell_type": "code",
   "execution_count": 744,
   "metadata": {},
   "outputs": [
    {
     "data": {
      "text/plain": [
       "array([3, 2, 3, 3, 3, 3, 0, 0, 0, 2, 3, 3, 1, 2, 2, 0, 3, 3, 3, 3, 2, 1,\n",
       "       3, 2, 3, 2, 2, 4, 0, 0, 1, 0, 4, 3, 0, 3, 0, 3, 4, 2, 0, 2, 0, 0,\n",
       "       0, 0, 3, 2, 3, 4, 2, 2, 1, 3, 3, 2, 2, 2, 2, 2, 0, 3, 3, 3, 0, 1,\n",
       "       4, 4, 3, 2, 0, 3, 1, 0, 0, 0, 4, 4, 0, 3, 3, 1, 1, 4, 3, 3, 0, 3,\n",
       "       0, 0, 2, 2, 2, 0, 3, 4, 0, 0, 3, 2, 3, 2, 3, 0, 2, 1, 0, 3, 0, 0,\n",
       "       2, 4, 0, 0, 0, 2, 3, 3, 1, 0, 0, 3, 0, 3, 4, 2, 2, 2, 2, 2, 2, 0,\n",
       "       3, 2, 3, 3, 3, 2, 3, 3, 3, 3, 3, 3, 3, 3, 3, 3, 3, 3, 2, 0, 2, 2,\n",
       "       0, 3, 3, 3, 4, 4, 4, 3, 2, 3, 0, 4, 0, 0, 2, 0, 3, 3, 0, 4, 2, 3,\n",
       "       2, 3, 0, 2, 0, 0, 2, 0, 3, 3, 3, 1, 2, 1, 1, 2, 4, 4, 4, 2, 3, 0,\n",
       "       0, 3, 3, 2, 3, 2, 3, 3, 2, 3, 2, 2, 0, 0, 0, 0, 3, 0, 2, 1, 0, 0,\n",
       "       0, 4, 0, 2, 3, 3, 1, 0, 3, 2, 0, 0, 2, 1, 2, 2, 2, 0, 1, 2, 1, 3,\n",
       "       0, 2, 3, 2, 2, 0, 2, 2, 1, 2, 3, 0, 2, 3, 0, 2, 0, 3, 0, 0, 2, 2,\n",
       "       1, 0, 3, 0, 2, 2, 1, 3, 1, 3, 0, 2, 0, 0, 1, 0, 0, 2, 3, 0, 2, 2,\n",
       "       3, 3, 3, 0, 3, 3, 3, 4, 1, 2, 4, 3, 2, 0, 3, 0, 2, 3, 2, 3, 3, 1,\n",
       "       0, 0, 3, 3, 4, 4, 1, 1, 1, 4, 2, 3, 4, 0, 3, 3], dtype=int32)"
      ]
     },
     "execution_count": 744,
     "metadata": {},
     "output_type": "execute_result"
    }
   ],
   "source": [
    "tvlsakmeans.labels_"
   ]
  },
  {
   "cell_type": "code",
   "execution_count": 730,
   "metadata": {},
   "outputs": [
    {
     "data": {
      "text/plain": [
       "KMeans(algorithm='auto', copy_x=True, init='k-means++', max_iter=300,\n",
       "       n_clusters=5, n_init=10, n_jobs=None, precompute_distances='auto',\n",
       "       random_state=493, tol=0.0001, verbose=0)"
      ]
     },
     "execution_count": 730,
     "metadata": {},
     "output_type": "execute_result"
    }
   ],
   "source": [
    "cvlsakmeans"
   ]
  },
  {
   "cell_type": "code",
   "execution_count": 576,
   "metadata": {},
   "outputs": [
    {
     "data": {
      "text/plain": [
       "'- - ACTION Speech The time has come when action rather than speech is required. Eighteen months ago in this I prayed that the responsibility might not fall upon me to ask this country to accept the awful arbitrament of war. I fear that I may not be able to avoid that responsibility. at any rate, I cannot wish for conditions in which such a burden should fall upon me in which I should feel clearer than I do to-day as to where my duty lies. No man can say that the could have done more to try to keep open the way for an honorable and equitable settlement of the dispute between and have we neglected any means of making it crystal clear to the German that if they insisted on using force again in the manner in which they had used it in the past we were resolved to oppose them by force. Now that all the relevant documents are being made public we shall stand at the bar of history knowing that the responsibility for this terrible catastrophe lies on the shoulders of one man - the German who ha'"
      ]
     },
     "execution_count": 576,
     "metadata": {},
     "output_type": "execute_result"
    }
   ],
   "source": [
    "speeches_raw_no_nouns[9][0:1000]"
   ]
  },
  {
   "cell_type": "markdown",
   "metadata": {},
   "source": [
    "to do: textblob sentiment avg/variance by cluster, pyldavis and tsne, "
   ]
  },
  {
   "cell_type": "code",
   "execution_count": 748,
   "metadata": {},
   "outputs": [
    {
     "name": "stdout",
     "output_type": "stream",
     "text": [
      "0 mean:0.12568574930171234 \tvar: 0.02018963784948604\n",
      "1 mean:0.12900199277477473 \tvar: 0.009672156833014338\n",
      "2 mean:0.14421407284094312 \tvar: 0.010509442329674212\n",
      "3 mean:0.15143619891000534 \tvar: 0.014453917041025945\n"
     ]
    }
   ],
   "source": [
    "def speech_cluster_sentiments(speech_data):\n",
    "    clu0 = []\n",
    "    clu1 = []\n",
    "    clu2 = []\n",
    "    clu3 = []\n",
    "    clu4 = []\n",
    "    for idx, speech in enumerate(speeches_no_nouns):\n",
    "        blob = TextBlob(speech)\n",
    "        if(tvlsakmeans.labels_[idx] == 0):\n",
    "            clu0.append(blob.sentiment.polarity)\n",
    "        if(tvlsakmeans.labels_[idx] == 1):\n",
    "            clu1.append(blob.sentiment.polarity)\n",
    "        if(tvlsakmeans.labels_[idx] == 2):\n",
    "            clu2.append(blob.sentiment.polarity)\n",
    "        if(tvlsakmeans.labels_[idx] == 3):\n",
    "            clu3.append(blob.sentiment.polarity)\n",
    "        if(tvlsakmeans.labels_[idx] == 4):\n",
    "            clu4.append(blob.sentiment.polarity)\n",
    "    means = [np.mean(clu0), np.mean(clu1), np.mean(clu2), np.mean(clu3), np.mean(clu4)]\n",
    "    var = [np.var(clu0), np.var(clu1), np.var(clu2), np.var(clu3), np.var(clu4)]\n",
    "    for _ in range (0,4):\n",
    "        print(str(_)+ ' mean:' + str(means[_])+' \\tvar: '+str(var[_]))"
   ]
  },
  {
   "cell_type": "code",
   "execution_count": 760,
   "metadata": {},
   "outputs": [
    {
     "data": {
      "text/plain": [
       "<function pyLDAvis._display.enable_notebook(local=False, **kwargs)>"
      ]
     },
     "execution_count": 760,
     "metadata": {},
     "output_type": "execute_result"
    }
   ],
   "source": [
    "pyLDAvis.enable_notebook"
   ]
  },
  {
   "cell_type": "code",
   "execution_count": null,
   "metadata": {
    "scrolled": true
   },
   "outputs": [],
   "source": [
    "vis = pyLDAvis.sklearn.prepare(cvlda, Xc, cvectorizer)\n",
    "vis"
   ]
  },
  {
   "cell_type": "code",
   "execution_count": 776,
   "metadata": {},
   "outputs": [
    {
     "data": {
      "text/plain": [
       "(324, 500328)"
      ]
     },
     "execution_count": 776,
     "metadata": {},
     "output_type": "execute_result"
    }
   ],
   "source": [
    "Xc.shape"
   ]
  },
  {
   "cell_type": "code",
   "execution_count": 795,
   "metadata": {},
   "outputs": [],
   "source": [
    "X_tsne = TSNE(n_components=3, perplexity=50).fit_transform(Xcvlsa)\n"
   ]
  },
  {
   "cell_type": "code",
   "execution_count": 797,
   "metadata": {},
   "outputs": [
    {
     "data": {
      "text/plain": [
       "[<mpl_toolkits.mplot3d.art3d.Line3D at 0x1a433f4358>]"
      ]
     },
     "execution_count": 797,
     "metadata": {},
     "output_type": "execute_result"
    },
    {
     "data": {
      "image/png": "[encoded data removed]",
      "text/plain": [
       "<Figure size 432x288 with 1 Axes>"
      ]
     },
     "metadata": {
      "needs_background": "light"
     },
     "output_type": "display_data"
    }
   ],
   "source": [
    "fig = plt.figure()\n",
    "ax = plt.axes(projection='3d')\n",
    "ax.plot3D([x[0] for x in X_tsne], [x[1] for x in X_tsne], [x[2] for x in X_tsne])"
   ]
  },
  {
   "cell_type": "markdown",
   "metadata": {},
   "source": [
    "gensim testing"
   ]
  },
  {
   "cell_type": "code",
   "execution_count": null,
   "metadata": {
    "scrolled": true
   },
   "outputs": [],
   "source": [
    "nltk.download('stopwords')\n",
    "!python3 -m spacy download en"
   ]
  },
  {
   "cell_type": "code",
   "execution_count": 804,
   "metadata": {},
   "outputs": [],
   "source": [
    "stop_words = stopwords.words('english')\n",
    "#stop_words.extend(['people', 'said'])"
   ]
  },
  {
   "cell_type": "code",
   "execution_count": 806,
   "metadata": {},
   "outputs": [],
   "source": [
    "def sent_to_words(sentences):\n",
    "    for sentence in sentences:\n",
    "        yield(gensim.utils.simple_preprocess(str(sentence), deacc=True))\n",
    "\n",
    "speeches_tokenized = list(sent_to_words(speeches_raw))"
   ]
  },
  {
   "cell_type": "code",
   "execution_count": 814,
   "metadata": {},
   "outputs": [],
   "source": [
    "def remove_stopwords(texts):\n",
    "    return [[word for word in simple_preprocess(str(doc)) if word not in stop_words] for doc in texts]\n",
    "\n",
    "def lemmatization(texts, allowed_postags=['NOUN', 'ADJ', 'VERB', 'ADV']):\n",
    "    \"\"\"https://spacy.io/api/annotation\"\"\"\n",
    "    texts_out = []\n",
    "    for sent in texts:\n",
    "        doc = nlp(\" \".join(sent)) \n",
    "        texts_out.append([token.lemma_ for token in doc if token.pos_ in allowed_postags])\n",
    "    return texts_out\n",
    "\n",
    "speeches_words_no_stops = remove_stopwords(speeches_tokenized)\n",
    "nlp = spacy.load('en', disable=['parser', 'ner'])\n",
    "speeches_lemmatized = lemmatization(speeches_words_no_stops, allowed_postags=['NOUN', 'ADJ', 'VERB', 'ADV'])"
   ]
  },
  {
   "cell_type": "code",
   "execution_count": 815,
   "metadata": {
    "scrolled": false
   },
   "outputs": [
    {
     "name": "stdout",
     "output_type": "stream",
     "text": [
      "[[(0, 6), (1, 1), (2, 1), (3, 1), (4, 2), (5, 1), (6, 6), (7, 4), (8, 1), (9, 1), (10, 1), (11, 1), (12, 6), (13, 1), (14, 1), (15, 1), (16, 1), (17, 1), (18, 1), (19, 1), (20, 1), (21, 2), (22, 1), (23, 2), (24, 1), (25, 1), (26, 1), (27, 1), (28, 1), (29, 2), (30, 1), (31, 1), (32, 2), (33, 1), (34, 1), (35, 1), (36, 1), (37, 1), (38, 1), (39, 1), (40, 1), (41, 1), (42, 1), (43, 1), (44, 2), (45, 1), (46, 1), (47, 2), (48, 1), (49, 1), (50, 1), (51, 1), (52, 1), (53, 1), (54, 1), (55, 1), (56, 2), (57, 1), (58, 1), (59, 1), (60, 1), (61, 1), (62, 1), (63, 1), (64, 4), (65, 1), (66, 1), (67, 1), (68, 2), (69, 1), (70, 1), (71, 1), (72, 1), (73, 1), (74, 2), (75, 1), (76, 1), (77, 1), (78, 1), (79, 2), (80, 3), (81, 2), (82, 1), (83, 1), (84, 1), (85, 1), (86, 1), (87, 1), (88, 1), (89, 3), (90, 2), (91, 3), (92, 1), (93, 1), (94, 3), (95, 1), (96, 2), (97, 1), (98, 1), (99, 1), (100, 1), (101, 1), (102, 1), (103, 1), (104, 1), (105, 1), (106, 2), (107, 2), (108, 1), (109, 1), (110, 1), (111, 2), (112, 1), (113, 1), (114, 1), (115, 1), (116, 1), (117, 1), (118, 1), (119, 2), (120, 1), (121, 1), (122, 1), (123, 1), (124, 3), (125, 1), (126, 2), (127, 1), (128, 1), (129, 1), (130, 2), (131, 1), (132, 1), (133, 2), (134, 1), (135, 2), (136, 2), (137, 1), (138, 1), (139, 1), (140, 1), (141, 1), (142, 1), (143, 1), (144, 1), (145, 1), (146, 1), (147, 1), (148, 1), (149, 1), (150, 1), (151, 1), (152, 2), (153, 2), (154, 1), (155, 1), (156, 1), (157, 1), (158, 1), (159, 1), (160, 1), (161, 1), (162, 1), (163, 2), (164, 1), (165, 1), (166, 1), (167, 1), (168, 1), (169, 2), (170, 1), (171, 1), (172, 1), (173, 2), (174, 2), (175, 1), (176, 2), (177, 1), (178, 1), (179, 1), (180, 1), (181, 1), (182, 1), (183, 1), (184, 1), (185, 1), (186, 3), (187, 2), (188, 1), (189, 1), (190, 1), (191, 2), (192, 1), (193, 1), (194, 2), (195, 1), (196, 1), (197, 1), (198, 1), (199, 1), (200, 2), (201, 1), (202, 1), (203, 2), (204, 2), (205, 1), (206, 1), (207, 1), (208, 1), (209, 2), (210, 6), (211, 1), (212, 1)]]\n"
     ]
    }
   ],
   "source": [
    "id2word = corpora.Dictionary(speeches_lemmatized)\n",
    "texts = speeches_lemmatized\n",
    "corpus = [id2word.doc2bow(text) for text in texts]\n",
    "print(corpus[:1])"
   ]
  },
  {
   "cell_type": "code",
   "execution_count": 822,
   "metadata": {},
   "outputs": [],
   "source": [
    "lda_model = gensim.models.ldamodel.LdaModel(corpus=corpus,\n",
    "                                           id2word=id2word,\n",
    "                                           num_topics=10, \n",
    "                                           random_state=100,\n",
    "                                           update_every=1,\n",
    "                                           chunksize=50,\n",
    "                                           passes=10,\n",
    "                                           alpha='auto',\n",
    "                                           per_word_topics=True)"
   ]
  },
  {
   "cell_type": "code",
   "execution_count": 823,
   "metadata": {},
   "outputs": [
    {
     "name": "stdout",
     "output_type": "stream",
     "text": [
      "[(0,\n",
      "  '0.008*\"te\" + 0.006*\"ad\" + 0.005*\"cf\" + 0.004*\"qui\" + 0.004*\"esse\" + '\n",
      "  '0.004*\"quod\" + 0.004*\"cum\" + 0.004*\"non\" + 0.003*\"quid\" + 0.003*\"die\"'),\n",
      " (1,\n",
      "  '0.015*\"woman\" + 0.014*\"state\" + 0.013*\"right\" + 0.009*\"government\" + '\n",
      "  '0.009*\"man\" + 0.008*\"law\" + 0.007*\"may\" + 0.007*\"country\" + 0.006*\"make\" + '\n",
      "  '0.006*\"power\"'),\n",
      " (2,\n",
      "  '0.009*\"ethiopia\" + 0.002*\"anc\" + 0.002*\"johannesburg\" + 0.002*\"township\" + '\n",
      "  '0.002*\"tanganyika\" + 0.001*\"sharpeville\" + 0.001*\"mozambique\" + '\n",
      "  '0.001*\"sizwe\" + 0.001*\"transkei\" + 0.001*\"tshombe\"'),\n",
      " (3,\n",
      "  '0.017*\"people\" + 0.014*\"world\" + 0.012*\"nation\" + 0.010*\"country\" + '\n",
      "  '0.009*\"government\" + 0.008*\"freedom\" + 0.006*\"war\" + 0.006*\"year\" + '\n",
      "  '0.006*\"today\" + 0.005*\"german\"'),\n",
      " (4,\n",
      "  '0.009*\"must\" + 0.008*\"people\" + 0.008*\"work\" + 0.008*\"good\" + '\n",
      "  '0.007*\"american\" + 0.007*\"make\" + 0.007*\"life\" + 0.007*\"great\" + '\n",
      "  '0.006*\"year\" + 0.006*\"new\"'),\n",
      " (5,\n",
      "  '0.035*\"war\" + 0.020*\"peace\" + 0.015*\"nation\" + 0.010*\"world\" + 0.010*\"army\" '\n",
      "  '+ 0.009*\"force\" + 0.008*\"may\" + 0.008*\"german\" + 0.008*\"british\" + '\n",
      "  '0.007*\"air\"'),\n",
      " (6,\n",
      "  '0.000*\"nesciat\" + 0.000*\"nequitiaeque\" + 0.000*\"nobis\" + 0.000*\"nisi\" + '\n",
      "  '0.000*\"nimium\" + 0.000*\"nimis\" + 0.000*\"nihilne\" + 0.000*\"nihil\" + '\n",
      "  '0.000*\"nescio\" + 0.000*\"nocte\"'),\n",
      " (7,\n",
      "  '0.001*\"mandela\" + 0.001*\"kotane\" + 0.001*\"hintsa\" + 0.001*\"natal\" + '\n",
      "  '0.001*\"normalize\" + 0.000*\"oliver\" + 0.000*\"yusuf\" + 0.000*\"dadoo\" + '\n",
      "  '0.000*\"tambo\" + 0.000*\"sizwe\"'),\n",
      " (8,\n",
      "  '0.020*\"man\" + 0.011*\"would\" + 0.010*\"say\" + 0.007*\"god\" + 0.007*\"may\" + '\n",
      "  '0.007*\"day\" + 0.006*\"know\" + 0.006*\"make\" + 0.006*\"come\" + 0.006*\"great\"'),\n",
      " (9,\n",
      "  '0.027*\"go\" + 0.026*\"say\" + 0.026*\"get\" + 0.023*\"white\" + 0.020*\"know\" + '\n",
      "  '0.019*\"man\" + 0.018*\"people\" + 0.013*\"right\" + 0.013*\"black\" + '\n",
      "  '0.012*\"negro\"')]\n"
     ]
    }
   ],
   "source": [
    "pprint(lda_model.print_topics())\n",
    "doc_lda = lda_model[corpus]"
   ]
  },
  {
   "cell_type": "code",
   "execution_count": 824,
   "metadata": {},
   "outputs": [
    {
     "name": "stdout",
     "output_type": "stream",
     "text": [
      "\n",
      "Perplexity:  -8.286209866302467\n",
      "\n",
      "Coherence Score:  0.42855886199391213\n"
     ]
    }
   ],
   "source": [
    "print('\\nPerplexity: ', lda_model.log_perplexity(corpus))\n",
    "coherence_model_lda = CoherenceModel(model=lda_model, texts=speeches_lemmatized, dictionary=id2word, coherence='c_v')\n",
    "coherence_lda = coherence_model_lda.get_coherence()\n",
    "print('\\nCoherence Score: ', coherence_lda)"
   ]
  },
  {
   "cell_type": "markdown",
   "metadata": {},
   "source": []
  },
  {
   "cell_type": "markdown",
   "metadata": {},
   "source": []
  },
  {
   "cell_type": "markdown",
   "metadata": {},
   "source": []
  },
  {
   "cell_type": "code",
   "execution_count": 828,
   "metadata": {},
   "outputs": [
    {
     "name": "stderr",
     "output_type": "stream",
     "text": [
      "/Users/local/anaconda3/envs/metis/lib/python3.6/site-packages/pyLDAvis/_prepare.py:257: FutureWarning: Sorting because non-concatenation axis is not aligned. A future version\n",
      "of pandas will change to not sort by default.\n",
      "\n",
      "To accept the future behavior, pass 'sort=False'.\n",
      "\n",
      "To retain the current behavior and silence the warning, pass 'sort=True'.\n",
      "\n",
      "  return pd.concat([default_term_info] + list(topic_dfs))\n"
     ]
    },
    {
     "data": {
      "text/html": [
       "\n",
       "<link rel=\"stylesheet\" type=\"text/css\" href=\"https://cdn.rawgit.com/bmabey/pyLDAvis/files/ldavis.v1.0.0.css\">\n",
       "\n",
       "\n",
       "<div id=\"ldavis_el208261127896758485085350550\"></div>\n",
       "<script type=\"text/javascript\">\n",
       "\n",
       "var ldavis_el208261127896758485085350550_data = {\"mdsDat\": {\"x\": [-0.1826911125209618, -0.22646578720444663, -0.18022784356205457, -0.19336899345546316, -0.11063559749619613, -0.11400657416469587, 0.2965281189604704, 0.23866577827135668, 0.23641024396856603, 0.23579176720342554], \"y\": [-0.046518809147003216, 0.04243637275015181, 0.09481032920660895, -0.110230189587998, 0.25551820451154583, -0.23093610421093158, 0.0004756070239636972, -0.001578454385809318, -0.001981027137545851, -0.0019959290229821314], \"topics\": [1, 2, 3, 4, 5, 6, 7, 8, 9, 10], \"cluster\": [1, 1, 1, 1, 1, 1, 1, 1, 1, 1], \"Freq\": [28.507965087890625, 23.052303314208984, 22.085227966308594, 13.916259765625, 6.332090377807617, 5.1689453125, 0.9010546207427979, 0.02831333316862583, 0.0072681293822824955, 0.0005706019583158195]}, \"tinfo\": {\"Category\": [\"Default\", \"Default\", \"Default\", \"Default\", \"Default\", \"Default\", \"Default\", \"Default\", \"Default\", \"Default\", \"Default\", \"Default\", \"Default\", \"Default\", \"Default\", \"Default\", \"Default\", \"Default\", \"Default\", \"Default\", \"Default\", \"Default\", \"Default\", \"Default\", \"Default\", \"Default\", \"Default\", \"Default\", \"Default\", \"Default\", \"Topic1\", \"Topic1\", \"Topic1\", \"Topic1\", \"Topic1\", \"Topic1\", \"Topic1\", \"Topic1\", \"Topic1\", \"Topic1\", \"Topic1\", \"Topic1\", \"Topic1\", \"Topic1\", \"Topic1\", \"Topic1\", \"Topic1\", \"Topic1\", \"Topic1\", \"Topic1\", \"Topic1\", \"Topic1\", \"Topic1\", \"Topic1\", \"Topic1\", \"Topic1\", \"Topic1\", \"Topic1\", \"Topic1\", \"Topic1\", \"Topic1\", \"Topic1\", \"Topic1\", \"Topic1\", \"Topic1\", \"Topic1\", \"Topic1\", \"Topic1\", \"Topic1\", \"Topic1\", \"Topic1\", \"Topic1\", \"Topic1\", \"Topic1\", \"Topic1\", \"Topic1\", \"Topic1\", \"Topic1\", \"Topic1\", \"Topic1\", \"Topic1\", \"Topic1\", \"Topic1\", \"Topic1\", \"Topic1\", \"Topic1\", \"Topic1\", \"Topic1\", \"Topic1\", \"Topic1\", \"Topic1\", \"Topic1\", \"Topic1\", \"Topic1\", \"Topic1\", \"Topic1\", \"Topic1\", \"Topic1\", \"Topic1\", \"Topic1\", \"Topic1\", \"Topic1\", \"Topic1\", \"Topic1\", \"Topic1\", \"Topic1\", \"Topic1\", \"Topic1\", \"Topic1\", \"Topic1\", \"Topic1\", \"Topic1\", \"Topic2\", \"Topic2\", \"Topic2\", \"Topic2\", \"Topic2\", \"Topic2\", \"Topic2\", \"Topic2\", \"Topic2\", \"Topic2\", \"Topic2\", \"Topic2\", \"Topic2\", \"Topic2\", \"Topic2\", \"Topic2\", \"Topic2\", \"Topic2\", \"Topic2\", \"Topic2\", \"Topic2\", \"Topic2\", \"Topic2\", \"Topic2\", \"Topic2\", \"Topic2\", \"Topic2\", \"Topic2\", \"Topic2\", \"Topic2\", \"Topic2\", \"Topic2\", \"Topic2\", \"Topic2\", \"Topic2\", \"Topic2\", \"Topic2\", \"Topic2\", \"Topic2\", \"Topic2\", \"Topic2\", \"Topic2\", \"Topic2\", \"Topic2\", \"Topic2\", \"Topic2\", \"Topic2\", \"Topic2\", \"Topic2\", \"Topic2\", \"Topic2\", \"Topic2\", \"Topic2\", \"Topic2\", \"Topic2\", \"Topic2\", \"Topic2\", \"Topic2\", \"Topic2\", \"Topic2\", \"Topic2\", \"Topic2\", \"Topic2\", \"Topic2\", \"Topic2\", \"Topic2\", \"Topic2\", \"Topic2\", \"Topic2\", \"Topic2\", \"Topic2\", \"Topic2\", \"Topic2\", \"Topic2\", \"Topic2\", \"Topic2\", \"Topic2\", \"Topic2\", \"Topic2\", \"Topic3\", \"Topic3\", \"Topic3\", \"Topic3\", \"Topic3\", \"Topic3\", \"Topic3\", \"Topic3\", \"Topic3\", \"Topic3\", \"Topic3\", \"Topic3\", \"Topic3\", \"Topic3\", \"Topic3\", \"Topic3\", \"Topic3\", \"Topic3\", \"Topic3\", \"Topic3\", \"Topic3\", \"Topic3\", \"Topic3\", \"Topic3\", \"Topic3\", \"Topic3\", \"Topic3\", \"Topic3\", \"Topic3\", \"Topic3\", \"Topic3\", \"Topic3\", \"Topic3\", \"Topic3\", \"Topic3\", \"Topic3\", \"Topic3\", \"Topic3\", \"Topic3\", \"Topic3\", \"Topic3\", \"Topic3\", \"Topic3\", \"Topic3\", \"Topic3\", \"Topic3\", \"Topic3\", \"Topic3\", \"Topic3\", \"Topic3\", \"Topic3\", \"Topic3\", \"Topic3\", \"Topic3\", \"Topic3\", \"Topic3\", \"Topic3\", \"Topic3\", \"Topic3\", \"Topic3\", \"Topic3\", \"Topic3\", \"Topic3\", \"Topic3\", \"Topic3\", \"Topic3\", \"Topic3\", \"Topic3\", \"Topic3\", \"Topic3\", \"Topic3\", \"Topic3\", \"Topic3\", \"Topic3\", \"Topic3\", \"Topic3\", \"Topic3\", \"Topic3\", \"Topic3\", \"Topic3\", \"Topic3\", \"Topic3\", \"Topic3\", \"Topic3\", \"Topic3\", \"Topic3\", \"Topic3\", \"Topic4\", \"Topic4\", \"Topic4\", \"Topic4\", \"Topic4\", \"Topic4\", \"Topic4\", \"Topic4\", \"Topic4\", \"Topic4\", \"Topic4\", \"Topic4\", \"Topic4\", \"Topic4\", \"Topic4\", \"Topic4\", \"Topic4\", \"Topic4\", \"Topic4\", \"Topic4\", \"Topic4\", \"Topic4\", \"Topic4\", \"Topic4\", \"Topic4\", \"Topic4\", \"Topic4\", \"Topic4\", \"Topic4\", \"Topic4\", \"Topic4\", \"Topic4\", \"Topic4\", \"Topic4\", \"Topic4\", \"Topic4\", \"Topic4\", \"Topic4\", \"Topic4\", \"Topic4\", \"Topic4\", \"Topic4\", \"Topic4\", \"Topic4\", \"Topic4\", \"Topic4\", \"Topic4\", \"Topic4\", \"Topic4\", \"Topic4\", \"Topic4\", \"Topic4\", \"Topic4\", \"Topic4\", \"Topic4\", \"Topic4\", \"Topic4\", \"Topic4\", \"Topic4\", \"Topic4\", \"Topic4\", \"Topic4\", \"Topic4\", \"Topic4\", \"Topic4\", \"Topic4\", \"Topic4\", \"Topic4\", \"Topic4\", \"Topic4\", \"Topic4\", \"Topic4\", \"Topic4\", \"Topic4\", \"Topic4\", \"Topic4\", \"Topic4\", \"Topic5\", \"Topic5\", \"Topic5\", \"Topic5\", \"Topic5\", \"Topic5\", \"Topic5\", \"Topic5\", \"Topic5\", \"Topic5\", \"Topic5\", \"Topic5\", \"Topic5\", \"Topic5\", \"Topic5\", \"Topic5\", \"Topic5\", \"Topic5\", \"Topic5\", \"Topic5\", \"Topic5\", \"Topic5\", \"Topic5\", \"Topic5\", \"Topic5\", \"Topic5\", \"Topic5\", \"Topic5\", \"Topic5\", \"Topic5\", \"Topic5\", \"Topic5\", \"Topic5\", \"Topic5\", \"Topic5\", \"Topic5\", \"Topic5\", \"Topic5\", \"Topic5\", \"Topic5\", \"Topic5\", \"Topic5\", \"Topic5\", \"Topic5\", \"Topic5\", \"Topic5\", \"Topic5\", \"Topic5\", \"Topic5\", \"Topic5\", \"Topic5\", \"Topic5\", \"Topic5\", \"Topic5\", \"Topic5\", \"Topic5\", \"Topic5\", \"Topic5\", \"Topic5\", \"Topic5\", \"Topic5\", \"Topic5\", \"Topic5\", \"Topic5\", \"Topic5\", \"Topic5\", \"Topic5\", \"Topic5\", \"Topic5\", \"Topic5\", \"Topic6\", \"Topic6\", \"Topic6\", \"Topic6\", \"Topic6\", \"Topic6\", \"Topic6\", \"Topic6\", \"Topic6\", \"Topic6\", \"Topic6\", \"Topic6\", \"Topic6\", \"Topic6\", \"Topic6\", \"Topic6\", \"Topic6\", \"Topic6\", \"Topic6\", \"Topic6\", \"Topic6\", \"Topic6\", \"Topic6\", \"Topic6\", \"Topic6\", \"Topic6\", \"Topic6\", \"Topic6\", \"Topic6\", \"Topic6\", \"Topic6\", \"Topic6\", \"Topic6\", \"Topic6\", \"Topic6\", \"Topic6\", \"Topic6\", \"Topic6\", \"Topic6\", \"Topic6\", \"Topic6\", \"Topic6\", \"Topic6\", \"Topic6\", \"Topic6\", \"Topic6\", \"Topic6\", \"Topic6\", \"Topic6\", \"Topic6\", \"Topic6\", \"Topic6\", \"Topic6\", \"Topic6\", \"Topic6\", \"Topic6\", \"Topic6\", \"Topic6\", \"Topic6\", \"Topic6\", \"Topic6\", \"Topic6\", \"Topic6\", \"Topic6\", \"Topic6\", \"Topic6\", \"Topic6\", \"Topic6\", \"Topic6\", \"Topic6\", \"Topic6\", \"Topic6\", \"Topic6\", \"Topic6\", \"Topic6\", \"Topic7\", \"Topic7\", \"Topic7\", \"Topic7\", \"Topic7\", \"Topic7\", \"Topic7\", \"Topic7\", \"Topic7\", \"Topic7\", \"Topic7\", \"Topic7\", \"Topic7\", \"Topic7\", \"Topic7\", \"Topic7\", \"Topic7\", \"Topic7\", \"Topic7\", \"Topic7\", \"Topic7\", \"Topic7\", \"Topic7\", \"Topic7\", \"Topic7\", \"Topic7\", \"Topic7\", \"Topic7\", \"Topic7\", \"Topic7\", \"Topic7\", \"Topic7\", \"Topic7\", \"Topic7\", \"Topic8\", \"Topic8\", \"Topic8\", \"Topic8\", \"Topic8\", \"Topic8\", \"Topic8\", \"Topic8\", \"Topic8\", \"Topic8\", \"Topic8\", \"Topic8\", \"Topic8\", \"Topic8\", \"Topic8\", \"Topic8\", \"Topic8\", \"Topic8\", \"Topic8\", \"Topic8\", \"Topic8\", \"Topic8\", \"Topic8\", \"Topic8\", \"Topic8\", \"Topic8\", \"Topic8\", \"Topic8\", \"Topic8\", \"Topic8\", \"Topic8\", \"Topic8\", \"Topic8\", \"Topic8\", \"Topic8\", \"Topic8\", \"Topic8\", \"Topic9\", \"Topic9\", \"Topic9\", \"Topic9\", \"Topic9\", \"Topic9\", \"Topic9\", \"Topic9\", \"Topic9\", \"Topic9\", \"Topic9\", \"Topic9\", \"Topic9\", \"Topic9\", \"Topic9\", \"Topic9\", \"Topic9\", \"Topic9\", \"Topic9\", \"Topic9\", \"Topic9\", \"Topic9\", \"Topic9\", \"Topic9\", \"Topic9\", \"Topic9\", \"Topic9\", \"Topic9\", \"Topic9\", \"Topic9\", \"Topic9\", \"Topic9\", \"Topic9\", \"Topic9\", \"Topic9\", \"Topic9\", \"Topic9\", \"Topic9\", \"Topic9\", \"Topic9\", \"Topic9\", \"Topic9\", \"Topic9\", \"Topic9\", \"Topic9\", \"Topic9\", \"Topic9\", \"Topic9\", \"Topic9\", \"Topic9\", \"Topic9\", \"Topic10\", \"Topic10\", \"Topic10\", \"Topic10\", \"Topic10\", \"Topic10\", \"Topic10\", \"Topic10\", \"Topic10\", \"Topic10\", \"Topic10\", \"Topic10\", \"Topic10\", \"Topic10\", \"Topic10\", \"Topic10\", \"Topic10\", \"Topic10\", \"Topic10\", \"Topic10\", \"Topic10\", \"Topic10\", \"Topic10\", \"Topic10\", \"Topic10\", \"Topic10\", \"Topic10\", \"Topic10\", \"Topic10\", \"Topic10\", \"Topic10\", \"Topic10\", \"Topic10\", \"Topic10\", \"Topic10\", \"Topic10\", \"Topic10\", \"Topic10\", \"Topic10\", \"Topic10\", \"Topic10\", \"Topic10\", \"Topic10\", \"Topic10\", \"Topic10\", \"Topic10\", \"Topic10\", \"Topic10\", \"Topic10\", \"Topic10\", \"Topic10\", \"Topic10\", \"Topic10\", \"Topic10\", \"Topic10\", \"Topic10\", \"Topic10\", \"Topic10\", \"Topic10\", \"Topic10\", \"Topic10\", \"Topic10\", \"Topic10\", \"Topic10\", \"Topic10\", \"Topic10\", \"Topic10\", \"Topic10\", \"Topic10\", \"Topic10\", \"Topic10\", \"Topic10\", \"Topic10\", \"Topic10\", \"Topic10\", \"Topic10\", \"Topic10\", \"Topic10\", \"Topic10\", \"Topic10\", \"Topic10\", \"Topic10\", \"Topic10\", \"Topic10\", \"Topic10\", \"Topic10\", \"Topic10\", \"Topic10\", \"Topic10\", \"Topic10\", \"Topic10\", \"Topic10\", \"Topic10\", \"Topic10\"], \"Freq\": [1558.0, 2469.0, 1733.0, 1048.0, 3976.0, 1746.0, 1176.0, 2130.0, 3208.0, 2328.0, 687.0, 1966.0, 2175.0, 1527.0, 830.0, 970.0, 2006.0, 782.0, 2283.0, 413.0, 2081.0, 502.0, 345.0, 794.0, 1646.0, 1116.0, 547.0, 987.0, 313.0, 1260.0, 141.34498596191406, 98.11599731445312, 89.47076416015625, 84.9476547241211, 89.43572998046875, 77.66740417480469, 432.5605773925781, 77.637451171875, 96.49324035644531, 73.43993377685547, 65.80238342285156, 54.547935485839844, 53.77836227416992, 49.48988342285156, 48.30188751220703, 48.24164962768555, 45.93986892700195, 45.94893264770508, 45.28663635253906, 43.62361145019531, 42.758544921875, 42.61355972290039, 42.58661651611328, 42.3621940612793, 50.9681510925293, 41.17293167114258, 40.52326202392578, 40.07516098022461, 39.93745422363281, 39.809913635253906, 128.80433654785156, 259.3765563964844, 374.4938659667969, 148.1837921142578, 127.59202575683594, 191.0516815185547, 71.07086181640625, 66.471435546875, 267.90234375, 1843.56298828125, 249.70458984375, 80.25430297851562, 69.55783081054688, 387.53350830078125, 142.37501525878906, 107.37191772460938, 210.0546112060547, 1721.663330078125, 978.728515625, 577.0157470703125, 147.68844604492188, 320.42303466796875, 237.59303283691406, 1544.2130126953125, 376.5380554199219, 195.14613342285156, 357.1690368652344, 438.98431396484375, 486.62200927734375, 680.1306762695312, 251.96817016601562, 1108.873779296875, 299.95574951171875, 370.2799987792969, 253.53817749023438, 248.4045867919922, 863.799072265625, 820.1415405273438, 360.1407775878906, 308.88385009765625, 1056.8563232421875, 339.4641418457031, 463.8745422363281, 690.0045166015625, 598.1152954101562, 573.5929565429688, 525.1400756835938, 601.7473754882812, 449.2943115234375, 339.31964111328125, 333.5926513671875, 367.25970458984375, 83.82981872558594, 69.29352569580078, 67.14851379394531, 61.709503173828125, 53.24347686767578, 49.49867248535156, 47.38748550415039, 44.4512939453125, 44.20966720581055, 41.08660125732422, 41.017417907714844, 45.926544189453125, 39.641719818115234, 39.145267486572266, 38.03868865966797, 35.26424026489258, 33.249595642089844, 32.844478607177734, 31.996280670166016, 31.190418243408203, 31.106258392333984, 30.061296463012695, 33.0949592590332, 29.209808349609375, 28.679950714111328, 28.54014778137207, 67.28506469726562, 27.88856315612793, 27.93724250793457, 27.471162796020508, 137.35816955566406, 81.28270721435547, 94.28268432617188, 54.66717529296875, 164.31503295898438, 507.8460388183594, 533.8820190429688, 366.78857421875, 232.5657958984375, 187.4755401611328, 402.3753967285156, 125.87602233886719, 769.6858520507812, 149.15069580078125, 716.4025268554688, 176.8939971923828, 101.97389221191406, 593.0189208984375, 737.7261352539062, 679.8352661132812, 885.6820678710938, 601.0205078125, 173.0191650390625, 304.5129699707031, 344.3980407714844, 454.5484619140625, 409.5760498046875, 201.6468963623047, 475.05517578125, 606.39208984375, 428.3275146484375, 171.34005737304688, 651.0479125976562, 304.7363586425781, 564.0546875, 706.2852783203125, 781.6065673828125, 559.8522338867188, 377.837158203125, 470.4741516113281, 333.5550537109375, 350.56488037109375, 523.2361450195312, 405.61334228515625, 468.5631103515625, 470.22509765625, 538.3165893554688, 406.4767761230469, 436.8898620605469, 101.6994400024414, 91.26861572265625, 82.93257141113281, 85.00670623779297, 77.2315444946289, 73.87691497802734, 64.22764587402344, 56.95195388793945, 55.22740173339844, 52.267940521240234, 50.32963180541992, 49.59282684326172, 46.708106994628906, 45.49040603637695, 41.09153366088867, 47.76661682128906, 47.183406829833984, 40.11568069458008, 39.14665603637695, 42.24614715576172, 38.14386749267578, 38.71150588989258, 40.048980712890625, 35.78007125854492, 35.056617736816406, 34.88695526123047, 35.1067008972168, 33.041568756103516, 32.5505485534668, 32.07612991333008, 117.54081726074219, 127.95153045654297, 157.7391815185547, 693.6220703125, 200.45726013183594, 196.0381317138672, 70.6234130859375, 52.292564392089844, 69.15253448486328, 174.2056427001953, 353.8856201171875, 85.35269165039062, 109.80457305908203, 71.45970916748047, 87.90262603759766, 217.2385711669922, 81.50257110595703, 329.2025146484375, 1839.7308349609375, 253.6178741455078, 201.2876434326172, 227.08529663085938, 663.0596923828125, 164.2139434814453, 290.839111328125, 149.2563934326172, 298.49365234375, 1024.2071533203125, 977.8690185546875, 155.4641876220703, 562.603515625, 493.2894287109375, 258.7005310058594, 565.9241333007812, 668.682861328125, 603.9188232421875, 210.69224548339844, 238.362060546875, 493.0081481933594, 288.3596496582031, 419.2213439941406, 388.14215087890625, 531.4166259765625, 472.12774658203125, 563.866943359375, 445.79962158203125, 370.6045227050781, 583.4296875, 332.9110412597656, 410.45660400390625, 330.3935852050781, 327.7233581542969, 357.3295593261719, 314.8146057128906, 355.0686950683594, 313.1673583984375, 314.0616760253906, 181.6612091064453, 159.7759246826172, 92.32049560546875, 90.00436401367188, 74.04374694824219, 70.74708557128906, 61.2965087890625, 53.949344635009766, 49.446590423583984, 46.82400894165039, 40.30394744873047, 38.677120208740234, 39.52861404418945, 38.63276672363281, 37.17473220825195, 37.15672302246094, 36.103233337402344, 33.58659744262695, 33.221134185791016, 32.78219223022461, 32.265987396240234, 31.302900314331055, 29.34734535217285, 28.901351928710938, 27.253334045410156, 27.055152893066406, 26.038562774658203, 27.678903579711914, 25.20955467224121, 25.05397605895996, 114.93869018554688, 61.46710205078125, 162.83425903320312, 77.2768325805664, 52.59239959716797, 56.022708892822266, 91.4512939453125, 219.00706481933594, 78.48725128173828, 256.6905822753906, 187.62586975097656, 124.14483642578125, 209.9864959716797, 107.55351257324219, 166.65127563476562, 317.2557678222656, 452.0494689941406, 119.05805206298828, 838.4722290039062, 221.22032165527344, 187.15635681152344, 974.6598510742188, 335.7260437011719, 688.3445434570312, 600.6350708007812, 162.07342529296875, 310.56658935546875, 226.10446166992188, 299.82073974609375, 509.956787109375, 131.78961181640625, 220.88275146484375, 220.10775756835938, 311.99298095703125, 352.83282470703125, 349.4141845703125, 247.34046936035156, 228.4498291015625, 230.3507843017578, 302.64556884765625, 310.1266174316406, 312.7690124511719, 262.45916748046875, 229.13543701171875, 255.8438262939453, 232.66554260253906, 223.00135803222656, 118.23462677001953, 75.99227142333984, 59.60285186767578, 47.809791564941406, 50.36371612548828, 42.49949645996094, 36.18721008300781, 34.15407943725586, 44.34315490722656, 29.951833724975586, 29.204252243041992, 28.324447631835938, 26.61895179748535, 26.35898780822754, 26.655622482299805, 23.208789825439453, 22.899959564208984, 22.051143646240234, 21.898468017578125, 20.559146881103516, 20.479427337646484, 19.2844181060791, 19.132461547851562, 19.0355281829834, 18.739715576171875, 18.1209716796875, 17.874242782592773, 17.82672691345215, 17.333925247192383, 16.985111236572266, 328.5274963378906, 143.67764282226562, 621.1054077148438, 53.426815032958984, 351.1033935546875, 36.55619430541992, 683.388671875, 87.64934539794922, 176.93263244628906, 61.59565734863281, 733.904541015625, 67.47737121582031, 80.24275207519531, 41.38359069824219, 699.9781494140625, 540.6278076171875, 123.20014190673828, 175.468994140625, 269.9111022949219, 290.9376525878906, 172.2872314453125, 114.50251007080078, 492.84454345703125, 310.6527404785156, 498.8740234375, 359.4307556152344, 127.78816223144531, 187.89410400390625, 162.24285888671875, 145.38479614257812, 121.7320327758789, 216.86279296875, 250.12648010253906, 176.4672393798828, 152.4347381591797, 169.33111572265625, 135.46595764160156, 133.22145080566406, 130.56689453125, 133.59646606445312, 53.2043342590332, 39.77566909790039, 42.604312896728516, 28.69306755065918, 31.425617218017578, 22.139528274536133, 20.714092254638672, 21.66480255126953, 19.302370071411133, 19.058162689208984, 18.84832763671875, 18.612516403198242, 17.440744400024414, 17.300479888916016, 17.00130844116211, 16.7227725982666, 16.121074676513672, 15.474016189575195, 14.249051094055176, 13.931177139282227, 13.931177139282227, 13.931177139282227, 13.635319709777832, 12.76259708404541, 12.385542869567871, 12.068513870239258, 11.398355484008789, 11.307579040527344, 10.739228248596191, 32.7595329284668, 26.73986053466797, 109.01986694335938, 19.38361167907715, 63.31573486328125, 153.06076049804688, 126.68934631347656, 45.52656555175781, 208.22811889648438, 24.63016128540039, 763.6823120117188, 87.7440185546875, 168.6710662841797, 447.6387634277344, 108.59272766113281, 77.94757843017578, 107.91989135742188, 27.98148536682129, 178.13638305664062, 79.27680969238281, 106.42559814453125, 65.10750579833984, 204.5733642578125, 75.52281951904297, 95.22554779052734, 332.73638916015625, 38.75469207763672, 68.19471740722656, 52.860992431640625, 91.27763366699219, 215.52391052246094, 181.7283172607422, 87.15675354003906, 71.93985748291016, 127.58611297607422, 124.1184310913086, 76.94252014160156, 98.53130340576172, 144.5716094970703, 87.4630355834961, 105.44426727294922, 90.10031127929688, 112.32499694824219, 101.63732147216797, 103.54769134521484, 86.98416900634766, 29.587141036987305, 18.218645095825195, 16.789392471313477, 16.48748207092285, 15.946600914001465, 15.226262092590332, 11.847078323364258, 10.360955238342285, 10.360955238342285, 10.171955108642578, 10.113662719726562, 9.820363998413086, 9.820363998413086, 9.820363998413086, 9.279772758483887, 8.739180564880371, 8.464723587036133, 8.25833511352539, 8.209136962890625, 8.198588371276855, 8.198588371276855, 7.398906230926514, 7.2853546142578125, 6.576802730560303, 6.576802730560303, 6.576802730560303, 6.504776477813721, 6.0362043380737305, 5.802244663238525, 5.6561665534973145, 23.92937469482422, 8.738984107971191, 13.531766891479492, 10.633041381835938, 0.2861071527004242, 0.2210930585861206, 0.21531298756599426, 0.17435956001281738, 0.15010371804237366, 0.14521844685077667, 0.12210939824581146, 0.11888865381479263, 0.11888865381479263, 0.11706887930631638, 0.10513250529766083, 1.114241600036621, 0.08918794244527817, 0.08918794244527817, 0.23911383748054504, 0.05624713748693466, 0.05624713748693466, 0.056247130036354065, 0.054663240909576416, 0.05466323345899582, 0.005758682731539011, 0.005758682731539011, 0.005712455604225397, 0.005712455604225397, 0.005712455604225397, 0.005654108710587025, 0.005773110315203667, 0.005829949397593737, 0.005722958128899336, 0.005722958128899336, 0.005938153248280287, 0.005722958128899336, 0.045808784663677216, 0.03217247128486633, 0.005900157615542412, 0.011643261648714542, 0.006221268326044083, 0.040410902351140976, 0.021929733455181122, 0.02120954729616642, 0.02120954729616642, 0.01592051237821579, 0.014867405407130718, 0.014867405407130718, 0.014867405407130718, 0.014867405407130718, 0.012844201177358627, 0.01364087127149105, 0.0014784057857468724, 0.0014784057857468724, 0.0014784057857468724, 0.0014784057857468724, 0.0014784057857468724, 0.0014784057857468724, 0.0014784057857468724, 0.0014784057857468724, 0.0014784057857468724, 0.0014784057857468724, 0.0014784057857468724, 0.0014784057857468724, 0.0014784057857468724, 0.0014741980703547597, 0.0014741980703547597, 0.0014741980703547597, 0.0014741980703547597, 0.0014741980703547597, 0.0014741980703547597, 0.0014741980703547597, 0.0014741980703547597, 0.0014741980703547597, 0.0014741980703547597, 0.0014741980703547597, 0.0014741980703547597, 0.0014741980703547597, 0.0014741980703547597, 0.0014741980703547597, 0.0014741980703547597, 0.0014741980703547597, 0.0014741980703547597, 0.0014741980703547597, 0.0014741980703547597, 0.0014741980703547597, 0.0014784043887630105, 0.0014741980703547597, 0.0014741980703547597, 0.0014783964725211263, 0.0014783927472308278, 0.0014783842489123344, 0.00011557397374417633, 0.00011557397374417633, 0.00011557397374417633, 0.00011557397374417633, 0.00011557397374417633, 0.00011557397374417633, 0.00011557397374417633, 0.00011557397374417633, 0.00011557397374417633, 0.00011557397374417633, 0.00011557397374417633, 0.00011557397374417633, 0.00011557397374417633, 0.00011557397374417633, 0.00011557397374417633, 0.00011557397374417633, 0.00011557397374417633, 0.00011557397374417633, 0.00011557397374417633, 0.00011557397374417633, 0.00011557397374417633, 0.00011557397374417633, 0.00011557397374417633, 0.00011557397374417633, 0.00011557397374417633, 0.00011557397374417633, 0.00011557397374417633, 0.00011557397374417633, 0.00011557397374417633, 0.00011557397374417633, 0.00011557397374417633, 0.00011557397374417633, 0.00011557397374417633, 0.00011557397374417633, 0.00011557397374417633, 0.00011557397374417633, 0.00011557397374417633, 0.00011557397374417633, 0.00011557397374417633, 0.00011557397374417633, 0.00011557397374417633, 0.00011557397374417633, 0.00011557397374417633, 0.00011557397374417633, 0.00011557397374417633, 0.00011557397374417633, 0.00011557397374417633, 0.00011557397374417633, 0.00011557397374417633, 0.00011557397374417633, 0.00011557397374417633, 0.00011557397374417633, 0.00011557397374417633, 0.00011557397374417633, 0.00011557397374417633, 0.00011557397374417633, 0.00011557397374417633, 0.00011557397374417633, 0.00011557397374417633, 0.00011557397374417633, 0.00011557397374417633, 0.00011557397374417633, 0.00011557397374417633, 0.00011557397374417633, 0.00011557397374417633, 0.00011557397374417633, 0.00011557397374417633, 0.00011557397374417633, 0.00011557397374417633, 0.00011557397374417633, 0.00011557397374417633, 0.00011557397374417633, 0.00011557397374417633, 0.00011557397374417633, 0.00011557397374417633, 0.00011557397374417633, 0.00011557397374417633, 0.00011557397374417633, 0.00011557397374417633, 0.00011557397374417633, 0.00011557397374417633, 0.00011557397374417633, 0.00011557397374417633, 0.00011557397374417633, 0.00011557397374417633, 0.00011557397374417633, 0.00011557397374417633, 0.00011557397374417633, 0.00011557397374417633, 0.00011557397374417633, 0.00011557397374417633, 0.00011557397374417633, 0.00011557397374417633, 0.00011557397374417633], \"Term\": [\"war\", \"say\", \"go\", \"get\", \"man\", \"know\", \"peace\", \"nation\", \"people\", \"right\", \"white\", \"world\", \"woman\", \"come\", \"tell\", \"want\", \"may\", \"force\", \"state\", \"black\", \"government\", \"german\", \"negro\", \"god\", \"year\", \"shall\", \"vote\", \"thing\", \"army\", \"law\", \"exercise\", \"suffrage\", \"sex\", \"provision\", \"marriage\", \"legislature\", \"constitution\", \"commerce\", \"assert\", \"proportion\", \"establishment\", \"canal\", \"frame\", \"separation\", \"derive\", \"enjoyment\", \"fugitive\", \"controversy\", \"favorable\", \"accumulate\", \"deem\", \"earning\", \"prohibition\", \"hon\", \"original\", \"enact\", \"taxation\", \"judicial\", \"divorce\", \"retain\", \"protection\", \"property\", \"slavery\", \"legal\", \"sentiment\", \"object\", \"opposition\", \"session\", \"opinion\", \"woman\", \"husband\", \"amendment\", \"post\", \"principle\", \"proper\", \"constitutional\", \"establish\", \"state\", \"law\", \"citizen\", \"declaration\", \"subject\", \"trade\", \"right\", \"liberty\", \"declare\", \"duty\", \"slave\", \"public\", \"power\", \"regard\", \"government\", \"congress\", \"vote\", \"condition\", \"equal\", \"may\", \"country\", \"interest\", \"form\", \"man\", \"present\", \"shall\", \"make\", \"great\", \"would\", \"nation\", \"people\", \"must\", \"national\", \"political\", \"time\", \"wellesley\", \"electric\", \"watergate\", \"computer\", \"unemployment\", \"atom\", \"consumer\", \"journey\", \"scatter\", \"staff\", \"network\", \"complex\", \"presidency\", \"roosevelt\", \"nixon\", \"civic\", \"humphrey\", \"employee\", \"academic\", \"milk\", \"plaza\", \"cancer\", \"selma\", \"insurance\", \"saving\", \"queen\", \"income\", \"mermaid\", \"fun\", \"hampshire\", \"energy\", \"vision\", \"space\", \"inflation\", \"dream\", \"president\", \"america\", \"family\", \"share\", \"tonight\", \"help\", \"campaign\", \"work\", \"job\", \"american\", \"generation\", \"poverty\", \"let\", \"good\", \"life\", \"must\", \"new\", \"century\", \"problem\", \"ask\", \"way\", \"child\", \"young\", \"well\", \"year\", \"first\", \"office\", \"great\", \"hope\", \"time\", \"make\", \"people\", \"world\", \"thing\", \"come\", \"use\", \"home\", \"nation\", \"many\", \"know\", \"say\", \"man\", \"go\", \"would\", \"thou\", \"prison\", \"philip\", \"egypt\", \"mercy\", \"glorious\", \"athen\", \"shalt\", \"stone\", \"policeman\", \"flesh\", \"oppressor\", \"hypocrisy\", \"savage\", \"ireland\", \"brain\", \"sweet\", \"hellene\", \"jerusalem\", \"munster\", \"apple\", \"sword\", \"thunder\", \"horrible\", \"royal\", \"pour\", \"flame\", \"knock\", \"brute\", \"pity\", \"chain\", \"cry\", \"lord\", \"god\", \"christian\", \"soul\", \"worship\", \"sin\", \"crowd\", \"blood\", \"father\", \"divine\", \"glory\", \"crown\", \"noble\", \"death\", \"wrath\", \"hear\", \"man\", \"honor\", \"religion\", \"gentleman\", \"day\", \"boy\", \"heart\", \"eye\", \"love\", \"would\", \"say\", \"drive\", \"see\", \"think\", \"nothing\", \"come\", \"may\", \"know\", \"truth\", \"city\", \"give\", \"hand\", \"shall\", \"could\", \"go\", \"take\", \"great\", \"life\", \"thing\", \"make\", \"tell\", \"good\", \"home\", \"even\", \"many\", \"call\", \"time\", \"never\", \"people\", \"vietnam\", \"communist\", \"socialist\", \"jewish\", \"stalin\", \"reich\", \"volk\", \"vietnamese\", \"withdrawal\", \"totalitarian\", \"global\", \"generate\", \"arab\", \"implement\", \"missile\", \"australian\", \"context\", \"agenda\", \"cuban\", \"saddam\", \"turkey\", \"socialism\", \"nobel\", \"increasingly\", \"terrorism\", \"diplomatic\", \"outstanding\", \"iraq\", \"overall\", \"terrorist\", \"objective\", \"role\", \"african\", \"concept\", \"communism\", \"regime\", \"prime\", \"germany\", \"asia\", \"economic\", \"africa\", \"conference\", \"soviet\", \"threat\", \"international\", \"german\", \"freedom\", \"peaceful\", \"world\", \"struggle\", \"democracy\", \"people\", \"today\", \"nation\", \"country\", \"europe\", \"political\", \"south\", \"force\", \"government\", \"violence\", \"problem\", \"party\", \"peace\", \"war\", \"year\", \"national\", \"united\", \"also\", \"must\", \"state\", \"would\", \"take\", \"human\", \"make\", \"time\", \"new\", \"grape\", \"negroe\", \"alabama\", \"boycott\", \"kid\", \"segregation\", \"breiner\", \"waiter\", \"stuff\", \"restaurant\", \"uncle\", \"strawberry\", \"elijah\", \"muhammad\", \"nkrumah\", \"randy\", \"anyway\", \"schuknecht\", \"sam\", \"yacub\", \"charlevoix\", \"heavily\", \"salesman\", \"assistant\", \"southerner\", \"atlanta\", \"andy\", \"football\", \"moll\", \"mellon\", \"negro\", \"colored\", \"white\", \"pesticide\", \"black\", \"brown\", \"get\", \"laughter\", \"color\", \"baby\", \"go\", \"anybody\", \"ballot\", \"maybe\", \"say\", \"know\", \"start\", \"talk\", \"tell\", \"want\", \"back\", \"anything\", \"people\", \"come\", \"man\", \"right\", \"school\", \"call\", \"look\", \"vote\", \"something\", \"year\", \"make\", \"see\", \"thing\", \"time\", \"mean\", \"let\", \"think\", \"would\", \"greece\", \"disarmament\", \"italy\", \"belgium\", \"gestapo\", \"bomber\", \"imperialist\", \"fighter\", \"fleet\", \"expeditionary\", \"imperial\", \"devastation\", \"dunkirk\", \"aero\", \"cannon\", \"blockade\", \"quebec\", \"ethiopian\", \"mediterranean\", \"boulogne\", \"calais\", \"flank\", \"squadron\", \"fuhrer\", \"grip\", \"reexamine\", \"herr\", \"amien\", \"scythe\", \"naval\", \"aircraft\", \"treaty\", \"neutrality\", \"navy\", \"air\", \"french\", \"italian\", \"army\", \"belgian\", \"war\", \"ally\", \"british\", \"peace\", \"defense\", \"island\", \"arm\", \"armament\", \"german\", \"france\", \"military\", \"loss\", \"force\", \"sea\", \"attack\", \"nation\", \"aggression\", \"weapon\", \"troop\", \"enemy\", \"world\", \"may\", \"large\", \"battle\", \"power\", \"shall\", \"europe\", \"interest\", \"great\", \"far\", \"many\", \"last\", \"would\", \"government\", \"make\", \"hope\", \"te\", \"cf\", \"qui\", \"esse\", \"quod\", \"cum\", \"quid\", \"atque\", \"catilina\", \"est\", \"consul\", \"publicae\", \"rei\", \"etiam\", \"tibi\", \"quam\", \"und\", \"e\", \"omnia\", \"quae\", \"si\", \"berliner\", \"neque\", \"tam\", \"omnium\", \"nihil\", \"catiline\", \"aut\", \"ante\", \"sunt\", \"ad\", \"se\", \"non\", \"die\", \"anc\", \"township\", \"tanganyika\", \"sharpeville\", \"mozambique\", \"sizwe\", \"transkei\", \"tshombe\", \"katanga\", \"pafmeca\", \"uganda\", \"ethiopia\", \"sekhukhuniland\", \"zeerust\", \"johannesburg\", \"saracen\", \"bulhoek\", \"durban\", \"malawi\", \"paratrooper\", \"addis\", \"ababa\", \"append\", \"arbitral\", \"italo\", \"nyasaland\", \"arthur\", \"goldreich\", \"rivonia\", \"bantu\", \"conciliation\", \"liliesleaf\", \"underground\", \"algeria\", \"walwal\", \"umkhonto\", \"african\", \"mandela\", \"kotane\", \"hintsa\", \"natal\", \"normalize\", \"yusuf\", \"dadoo\", \"tambo\", \"oliver\", \"solomon\", \"sizwe\", \"gumede\", \"ngoyi\", \"chris\", \"lastthis\", \"dube\", \"lilian\", \"abduraman\", \"naicker\", \"gm\", \"josiah\", \"hani\", \"rooftop\", \"queue\", \"prisonaddress\", \"prisonit\", \"sekhukune\", \"reached\", \"salutation\", \"sash\", \"fischer\", \"mabhida\", \"mahlangu\", \"kriel\", \"alia\", \"bram\", \"slovo\", \"energize\", \"dependable\", \"cosatu\", \"calculable\", \"eradication\", \"whelm\", \"upheld\", \"unitary\", \"depict\", \"harare\", \"frontline\", \"provisional\", \"sleeve\", \"toast\", \"speechke\", \"journeyed\", \"norfolk\", \"seating\", \"partition\", \"plodding\", \"poona\", \"benare\", \"roominess\", \"speechand\", \"pandal\", \"speechbenare\", \"bengal\", \"sycophancy\", \"bose\", \"thrower\", \"benara\", \"vishwanath\", \"cantonment\", \"maharajas\", \"maharaja\", \"caught\", \"lyon\", \"jeweler\", \"banara\", \"irresponsibly\", \"horrify\", \"hindustani\", \"gorgeous\", \"felicitous\", \"examiner\", \"raison\", \"toujour\", \"steele\", \"moi\", \"conventioni\", \"astonishe\", \"prophetess\", \"residing\", \"evenu\", \"evenus\", \"foal\", \"herculean\", \"hippias\", \"horsemanship\", \"j\", \"leontium\", \"misleader\", \"nymph\", \"overshadowed\", \"patroclus\", \"plainness\", \"pretender\", \"prodicus\", \"enquirer\", \"dying\", \"drachma\", \"aristoph\", \"aforesaid\", \"agora\", \"sophist\", \"soothsayer\", \"smallest\", \"rumour\", \"refutation\", \"dial\", \"feebleness\", \"stoutly\", \"thetis\", \"woz\", \"zeus\", \"theatre\", \"trainer\", \"troy\", \"unconscious\", \"unfortunate\", \"unfrequently\", \"unintentional\", \"unintentionally\", \"untimely\", \"villainous\", \"wandering\", \"wantonness\", \"whereupon\", \"wisest\", \"writing\", \"youthful\", \"surprised\", \"superhuman\", \"shameless\", \"provoke\", \"pythian\", \"rhetorician\", \"rid\"], \"Total\": [1558.0, 2469.0, 1733.0, 1048.0, 3976.0, 1746.0, 1176.0, 2130.0, 3208.0, 2328.0, 687.0, 1966.0, 2175.0, 1527.0, 830.0, 970.0, 2006.0, 782.0, 2283.0, 413.0, 2081.0, 502.0, 345.0, 794.0, 1646.0, 1116.0, 547.0, 987.0, 313.0, 1260.0, 141.95819091796875, 98.76168823242188, 90.0838851928711, 85.56077575683594, 90.09870147705078, 78.28052520751953, 436.0328369140625, 78.27342224121094, 97.29020690917969, 74.10481262207031, 66.41748809814453, 55.16157150268555, 54.39143371582031, 50.10307312011719, 48.915061950683594, 48.8547477722168, 46.55297088623047, 46.562171936035156, 45.89982223510742, 44.23681640625, 43.371707916259766, 43.226680755615234, 43.19976806640625, 42.975345611572266, 51.70829391479492, 41.786075592041016, 41.13637924194336, 40.68830108642578, 40.55054473876953, 40.42568588256836, 131.31971740722656, 267.9632568359375, 391.68292236328125, 152.6501922607422, 132.06765747070312, 201.6191864013672, 72.89491271972656, 68.28760528564453, 290.0583190917969, 2175.44384765625, 272.98626708984375, 83.37818145751953, 71.93041229248047, 440.9930725097656, 154.41818237304688, 114.40035247802734, 235.59844970703125, 2283.15478515625, 1260.329833984375, 732.5171508789062, 163.9047088623047, 385.62353515625, 278.4556579589844, 2328.18212890625, 471.9378967285156, 231.4992218017578, 478.5719299316406, 612.807861328125, 707.833740234375, 1123.39599609375, 326.2755126953125, 2081.263671875, 415.1787109375, 547.3026123046875, 338.4140930175781, 332.3795166015625, 2006.6856689453125, 1864.8795166015625, 595.1279907226562, 481.8226013183594, 3976.94189453125, 579.033203125, 1116.39697265625, 2589.335205078125, 2086.53271484375, 2593.478271484375, 2130.662841796875, 3208.238525390625, 1964.1761474609375, 783.5512084960938, 733.2987060546875, 1761.91845703125, 84.45060729980469, 69.925048828125, 67.7691879272461, 62.33026123046875, 53.86826705932617, 50.1195068359375, 48.00900650024414, 45.072208404541016, 44.83119201660156, 41.70740509033203, 41.641204833984375, 46.63262939453125, 40.262428283691406, 39.765987396240234, 38.65940856933594, 35.885128021240234, 33.870452880859375, 33.465213775634766, 32.617218017578125, 31.811250686645508, 31.7271785736084, 30.682106018066406, 33.787933349609375, 29.830528259277344, 29.300806045532227, 29.161453247070312, 68.78016662597656, 28.509553909301758, 28.56121253967285, 28.091943740844727, 144.57586669921875, 88.34103393554688, 103.72758483886719, 58.2542839050293, 191.84817504882812, 657.3466186523438, 714.2401123046875, 479.853515625, 293.71514892578125, 238.43148803710938, 570.5864868164062, 152.90309143066406, 1263.6650390625, 196.14224243164062, 1275.3255615234375, 245.72064208984375, 127.08907318115234, 1147.073974609375, 1531.0030517578125, 1401.080322265625, 1964.1761474609375, 1242.2923583984375, 262.1773376464844, 563.7238159179688, 673.3079833984375, 988.8656005859375, 913.6053466796875, 333.4994812011719, 1140.1153564453125, 1646.14990234375, 1007.4588623046875, 266.3691711425781, 2086.53271484375, 650.0564575195312, 1761.91845703125, 2589.335205078125, 3208.238525390625, 1966.7344970703125, 987.0195922851562, 1527.0323486328125, 807.1080932617188, 897.4942016601562, 2130.662841796875, 1257.4742431640625, 1746.04541015625, 2469.3662109375, 3976.94189453125, 1733.4573974609375, 2593.478271484375, 102.32461547851562, 91.89744567871094, 83.5577621459961, 85.6893081665039, 77.8570556640625, 74.50225067138672, 64.85283660888672, 57.577144622802734, 55.85272216796875, 52.89366912841797, 50.95487594604492, 50.21821594238281, 47.33351135253906, 46.11570739746094, 41.71683120727539, 48.50132751464844, 47.91328430175781, 40.74087142944336, 39.77201461791992, 42.92116928100586, 38.76963806152344, 39.34767532348633, 40.74222946166992, 36.405296325683594, 35.68196105957031, 35.51278305053711, 35.75764465332031, 33.667076110839844, 33.17593765258789, 32.701416015625, 122.0874252319336, 135.04833984375, 169.21046447753906, 794.2809448242188, 219.4095916748047, 219.09681701660156, 75.33077239990234, 54.565818786621094, 74.0565185546875, 207.95352172851562, 480.67047119140625, 95.59521484375, 128.05551147460938, 78.47589874267578, 99.57518005371094, 290.8255615234375, 91.73235321044922, 484.0669250488281, 3976.94189453125, 367.02557373046875, 277.087646484375, 322.79925537109375, 1220.3641357421875, 220.77903747558594, 462.3588562011719, 201.33782958984375, 501.2579345703125, 2593.478271484375, 2469.3662109375, 216.96324157714844, 1293.8785400390625, 1137.748779296875, 449.49700927734375, 1527.0323486328125, 2006.6856689453125, 1746.04541015625, 348.5809631347656, 422.83453369140625, 1340.69580078125, 576.097900390625, 1116.39697265625, 995.3873291015625, 1733.4573974609375, 1460.2073974609375, 2086.53271484375, 1401.080322265625, 987.0195922851562, 2589.335205078125, 830.1868896484375, 1531.0030517578125, 897.4942016601562, 930.7913208007812, 1257.4742431640625, 868.259521484375, 1761.91845703125, 905.3291015625, 3208.238525390625, 182.2735595703125, 160.38832092285156, 92.93290710449219, 90.6192626953125, 74.65606689453125, 71.35943603515625, 61.908843994140625, 54.56166076660156, 50.05894470214844, 47.436378479003906, 40.91638946533203, 39.28961181640625, 40.1611442565918, 39.266170501708984, 37.78716278076172, 37.76921081542969, 36.7311897277832, 34.19894790649414, 33.83351135253906, 33.39456558227539, 32.88005447387695, 31.915342330932617, 29.95966911315918, 29.513734817504883, 27.865663528442383, 27.667627334594727, 26.651119232177734, 28.351045608520508, 25.822050094604492, 25.666336059570312, 121.29352569580078, 64.84795379638672, 181.904541015625, 83.5752944946289, 56.52965545654297, 60.942726135253906, 105.32542419433594, 278.43292236328125, 90.27212524414062, 347.3321228027344, 244.04954528808594, 154.4669647216797, 286.5580749511719, 132.25143432617188, 224.36289978027344, 502.0074768066406, 808.3804931640625, 162.0252227783203, 1966.7344970703125, 357.4439392089844, 316.5984802246094, 3208.238525390625, 736.1681518554688, 2130.662841796875, 1864.8795166015625, 274.5116271972656, 733.2987060546875, 474.08477783203125, 782.3435668945312, 2081.263671875, 212.5261993408203, 563.7238159179688, 581.15087890625, 1176.03515625, 1558.5435791015625, 1646.14990234375, 783.5512084960938, 688.0770263671875, 825.928466796875, 1964.1761474609375, 2283.15478515625, 2593.478271484375, 1460.2073974609375, 920.7925415039062, 2589.335205078125, 1761.91845703125, 1242.2923583984375, 118.84632110595703, 76.60382843017578, 60.244327545166016, 48.421539306640625, 51.032405853271484, 43.11153793334961, 36.79887390136719, 34.76576614379883, 45.17167663574219, 30.563480377197266, 29.815723419189453, 28.93599510192871, 27.230369567871094, 26.970409393310547, 27.336864471435547, 23.820232391357422, 23.514873504638672, 22.66264533996582, 22.510047912597656, 21.170564651489258, 21.09093475341797, 19.898561477661133, 19.743934631347656, 19.647537231445312, 19.351306915283203, 18.732467651367188, 18.485685348510742, 18.438188552856445, 17.945446014404297, 17.596553802490234, 345.8497314453125, 151.73440551757812, 687.5518798828125, 56.85423278808594, 413.0706481933594, 39.61533737182617, 1048.010009765625, 108.82766723632812, 246.5587158203125, 76.48963928222656, 1733.4573974609375, 92.08956146240234, 117.71869659423828, 50.95081329345703, 2469.3662109375, 1746.04541015625, 242.07052612304688, 414.61602783203125, 830.1868896484375, 970.7001953125, 462.82000732421875, 269.5421142578125, 3208.238525390625, 1527.0323486328125, 3976.94189453125, 2328.18212890625, 377.0498352050781, 868.259521484375, 647.5086669921875, 547.3026123046875, 384.28863525390625, 1646.14990234375, 2589.335205078125, 1293.8785400390625, 987.0195922851562, 1761.91845703125, 907.300537109375, 1147.073974609375, 1137.748779296875, 2593.478271484375, 53.84846496582031, 40.40999221801758, 43.29062271118164, 29.3272647857666, 32.20418167114258, 22.77387046813965, 21.348299026489258, 22.3546199798584, 19.936767578125, 19.692344665527344, 19.48253059387207, 19.24681282043457, 18.074918746948242, 17.935073852539062, 17.636455535888672, 17.356964111328125, 16.755361557006836, 16.108304977416992, 14.883329391479492, 14.565375328063965, 14.565375328063965, 14.565375328063965, 14.271450996398926, 13.39693832397461, 13.020236015319824, 12.70276165008545, 12.032551765441895, 11.94210147857666, 11.37350082397461, 34.72575378417969, 28.53394889831543, 125.33909606933594, 20.94542694091797, 73.277587890625, 209.58575439453125, 173.3595428466797, 55.74818801879883, 313.7237243652344, 27.859153747558594, 1558.5435791015625, 127.56067657470703, 315.8954162597656, 1176.03515625, 211.43319702148438, 135.9183807373047, 225.3861541748047, 35.4417724609375, 502.0074768066406, 158.18751525878906, 250.46987915039062, 129.01235961914062, 782.3435668945312, 165.40988159179688, 248.1102752685547, 2130.662841796875, 59.57283401489258, 172.09971618652344, 108.65128326416016, 318.250244140625, 1966.7344970703125, 2006.6856689453125, 350.5381774902344, 223.5818328857422, 1123.39599609375, 1116.39697265625, 274.5116271972656, 595.1279907226562, 2086.53271484375, 466.455078125, 1257.4742431640625, 684.69287109375, 2593.478271484375, 2081.263671875, 2589.335205078125, 650.0564575195312, 30.220111846923828, 18.85226821899414, 17.422401428222656, 17.120479583740234, 16.579599380493164, 15.85922908782959, 12.480547904968262, 10.993922233581543, 10.993922233581543, 10.805795669555664, 10.7470703125, 10.453330993652344, 10.453330993652344, 10.453330993652344, 9.912739753723145, 9.372147560119629, 9.097874641418457, 8.89179801940918, 8.84237003326416, 8.831555366516113, 8.831555366516113, 8.032559394836426, 7.918397426605225, 7.2097697257995605, 7.2097697257995605, 7.2097697257995605, 7.137784004211426, 6.669171333312988, 6.435474395751953, 6.2892374992370605, 29.288862228393555, 10.384559631347656, 82.48783111572266, 286.9051513671875, 1.004528284072876, 0.9394335150718689, 0.9338880777359009, 0.8926420211791992, 0.8698505759239197, 0.8758060932159424, 0.8404189348220825, 0.837480366230011, 0.837480366230011, 0.8353427648544312, 0.8242856860160828, 9.5669584274292, 0.8074820041656494, 0.8074820041656494, 2.9171059131622314, 0.7745287418365479, 0.7745287418365479, 0.7745287418365479, 0.7730837464332581, 0.7730837464332581, 0.7366028428077698, 0.7366028428077698, 0.7346388101577759, 0.7346388101577759, 0.7346388101577759, 0.727457582950592, 0.742814302444458, 0.7509893178939819, 0.7372697591781616, 0.7372697591781616, 0.7656077742576599, 0.7372697591781616, 8.947861671447754, 6.462889671325684, 0.767331600189209, 18.216249465942383, 181.904541015625, 0.7630572319030762, 0.7447738647460938, 0.744231104850769, 0.744231104850769, 0.7383105158805847, 0.7372199296951294, 0.7372199296951294, 0.7372199296951294, 0.7372199296951294, 0.739385187625885, 0.8758060932159424, 0.726020336151123, 0.726020336151123, 0.726020336151123, 0.726020336151123, 0.726020336151123, 0.726020336151123, 0.726020336151123, 0.726020336151123, 0.726020336151123, 0.726020336151123, 0.726020336151123, 0.726020336151123, 0.726020336151123, 0.7253811955451965, 0.7253811955451965, 0.7253811955451965, 0.7253811955451965, 0.7253811955451965, 0.7253811955451965, 0.7253811955451965, 0.7253811955451965, 0.7253811955451965, 0.7253811955451965, 0.7253811955451965, 0.7253811955451965, 0.7253811955451965, 0.7253811955451965, 0.7253811955451965, 0.7253811955451965, 0.7253811955451965, 0.7253811955451965, 0.7253811955451965, 0.7253811955451965, 0.7253811955451965, 0.7282017469406128, 0.7253811955451965, 0.7253811955451965, 0.7392370700836182, 0.740942656993866, 0.771277904510498, 0.7246496081352234, 0.7246496081352234, 0.7246739268302917, 0.7246739268302917, 0.7246739268302917, 0.7246739268302917, 0.7246739268302917, 0.7246739268302917, 0.7246739268302917, 0.7246739268302917, 0.7246739268302917, 0.7246739268302917, 0.7246739268302917, 0.7246739268302917, 0.7246739268302917, 0.7246739268302917, 0.7246739268302917, 0.7246739268302917, 0.7246739268302917, 0.7246739268302917, 0.7246739268302917, 0.7246739268302917, 0.7246739268302917, 0.7246739268302917, 0.7246739268302917, 0.7246739268302917, 0.7246739268302917, 0.7246739268302917, 0.7246739268302917, 0.7246739268302917, 0.7246739268302917, 0.7246808409690857, 0.7246808409690857, 0.7246808409690857, 0.7246808409690857, 0.7246808409690857, 0.7246808409690857, 0.7246864438056946, 0.7246864438056946, 0.7246864438056946, 0.7246864438056946, 0.7246864438056946, 0.7246864438056946, 0.7246864438056946, 0.7246864438056946, 0.7246864438056946, 0.7246864438056946, 0.7246864438056946, 0.7246864438056946, 0.7246864438056946, 0.7246864438056946, 0.7246864438056946, 0.7246864438056946, 0.7246864438056946, 0.7246864438056946, 0.7246864438056946, 0.7246864438056946, 0.7246864438056946, 0.7246864438056946, 0.7246864438056946, 0.7246864438056946, 0.7246864438056946, 0.7246864438056946, 0.7246864438056946, 0.7246864438056946, 0.7247084379196167, 0.7247084379196167, 0.7246864438056946, 0.7246864438056946, 0.7415083646774292, 0.7258020639419556, 11.972558975219727, 0.7258021235466003, 4.065262317657471, 9.650693893432617, 35.63822555541992, 1.4487112760543823, 0.7258020639419556, 3.773366928100586, 0.7246864438056946, 5.581833362579346, 2.071364164352417, 0.7246864438056946, 2.0451812744140625, 0.7246864438056946, 18.539960861206055, 17.413942337036133, 11.379637718200684, 2.5760810375213623, 14.74994945526123, 24.574249267578125, 2.3942925930023193, 0.7246864438056946, 26.03441047668457], \"loglift\": [30.0, 29.0, 28.0, 27.0, 26.0, 25.0, 24.0, 23.0, 22.0, 21.0, 20.0, 19.0, 18.0, 17.0, 16.0, 15.0, 14.0, 13.0, 12.0, 11.0, 10.0, 9.0, 8.0, 7.0, 6.0, 5.0, 4.0, 3.0, 2.0, 1.0, 1.2506999969482422, 1.2483999729156494, 1.2482000589370728, 1.2477999925613403, 1.2475999593734741, 1.2470999956130981, 1.246999979019165, 1.2467999458312988, 1.2467999458312988, 1.246000051498413, 1.2457000017166138, 1.2438000440597534, 1.2437000274658203, 1.2426999807357788, 1.242400050163269, 1.242400050163269, 1.2417000532150269, 1.2417000532150269, 1.2415000200271606, 1.2410000562667847, 1.2407000064849854, 1.2407000064849854, 1.2407000064849854, 1.2405999898910522, 1.2405999898910522, 1.2402000427246094, 1.2400000095367432, 1.239799976348877, 1.239799976348877, 1.2395999431610107, 1.2355999946594238, 1.2223999500274658, 1.2101000547409058, 1.2252999544143677, 1.2204999923706055, 1.2010999917984009, 1.229599952697754, 1.2280000448226929, 1.1755000352859497, 1.0894999504089355, 1.1657999753952026, 1.2167999744415283, 1.2214000225067139, 1.1258000135421753, 1.173799991607666, 1.19159996509552, 1.1402000188827515, 0.9726999998092651, 1.0020999908447266, 1.0163999795913696, 1.1507999897003174, 1.0698000192642212, 1.0963000059127808, 0.8443999886512756, 1.0291999578475952, 1.0842000246047974, 0.9624000191688538, 0.9214000105857849, 0.880299985408783, 0.7531999945640564, 0.9965000152587891, 0.6254000067710876, 0.9298999905586243, 0.8641999959945679, 0.9661999940872192, 0.9638000130653381, 0.4120999872684479, 0.4334999918937683, 0.7526999711990356, 0.8104000091552734, -0.07020000368356705, 0.7210000157356262, 0.3767000138759613, -0.06750000268220901, 0.005499999970197678, -0.25380000472068787, -0.14550000429153442, -0.4187000095844269, -0.22020000219345093, 0.4180999994277954, 0.4674000144004822, -0.31310001015663147, 1.4600000381469727, 1.458299994468689, 1.4581999778747559, 1.4573999643325806, 1.4557000398635864, 1.4549000263214111, 1.4543999433517456, 1.4535000324249268, 1.4534000158309937, 1.4523999691009521, 1.452299952507019, 1.4521000385284424, 1.4519000053405762, 1.45169997215271, 1.451200008392334, 1.4500000476837158, 1.4488999843597412, 1.448699951171875, 1.448199987411499, 1.447700023651123, 1.44760000705719, 1.4470000267028809, 1.4466999769210815, 1.4464000463485718, 1.4459999799728394, 1.4458999633789062, 1.4453999996185303, 1.4453999996185303, 1.4452999830245972, 1.445099949836731, 1.416200041770935, 1.3840999603271484, 1.371899962425232, 1.4039000272750854, 1.3125, 1.2094000577926636, 1.1763999462127686, 1.198699951171875, 1.2339999675750732, 1.2269999980926514, 1.1181000471115112, 1.2728999853134155, 0.9715999960899353, 1.19350004196167, 0.8906999826431274, 1.138800024986267, 1.2472000122070312, 0.807699978351593, 0.7372999787330627, 0.7443000078201294, 0.6708999872207642, 0.7412999868392944, 1.051800012588501, 0.8515999913215637, 0.796999990940094, 0.6901999711990356, 0.6650999784469604, 0.9642999768257141, 0.5920000076293945, 0.46869999170303345, 0.6121000051498413, 1.0262000560760498, 0.302700012922287, 0.7098000049591064, 0.32839998602867126, 0.16830000281333923, 0.05530000105500221, 0.21089999377727509, 0.5072000026702881, 0.29010000824928284, 0.5838000178337097, 0.5273000001907349, 0.06319999694824219, 0.3359000086784363, 0.15199999511241913, -0.19110000133514404, -0.5324000120162964, 0.017100000753998756, -0.31369999051094055, 1.50409996509552, 1.5033999681472778, 1.5027999877929688, 1.5023000240325928, 1.5022000074386597, 1.5017999410629272, 1.500599980354309, 1.4993000030517578, 1.4989999532699585, 1.4983999729156494, 1.4979000091552734, 1.4976999759674072, 1.496999979019165, 1.4966000318527222, 1.4952000379562378, 1.4950000047683716, 1.4948999881744385, 1.4947999715805054, 1.4944000244140625, 1.4944000244140625, 1.49399995803833, 1.49399995803833, 1.4931000471115112, 1.492900013923645, 1.4925999641418457, 1.4924999475479126, 1.4918999671936035, 1.4915000200271606, 1.4911999702453613, 1.4910000562667847, 1.4723000526428223, 1.4563000202178955, 1.4400999546051025, 1.3747999668121338, 1.4198999404907227, 1.3990999460220337, 1.4457000494003296, 1.4677000045776367, 1.4416999816894531, 1.3331999778747559, 1.2041000127792358, 1.3969000577926636, 1.3565000295639038, 1.416599988937378, 1.385599970817566, 1.218500018119812, 1.3919999599456787, 1.1246999502182007, 0.7394000291824341, 1.1406999826431274, 1.1907000541687012, 1.1585999727249146, 0.9002000093460083, 1.2143000364303589, 1.0467000007629395, 1.2108999490737915, 0.9919000267982483, 0.5812000036239624, 0.583899974822998, 1.176900029182434, 0.6773999929428101, 0.6746000051498413, 0.9577999711036682, 0.5175999999046326, 0.41130000352859497, 0.44859999418258667, 1.0068000555038452, 0.9370999932289124, 0.5098000168800354, 0.8181999921798706, 0.5307999849319458, 0.5684999823570251, 0.3278999924659729, 0.38119998574256897, 0.20180000364780426, 0.3650999963283539, 0.5307000279426575, 0.019999999552965164, 0.5964999794960022, 0.193900004029274, 0.5109000205993652, 0.46639999747276306, 0.25209999084472656, 0.4957999885082245, -0.09160000085830688, 0.4487000107765198, -0.8136000037193298, 1.9687000513076782, 1.9682999849319458, 1.965499997138977, 1.9652999639511108, 1.9638999700546265, 1.9635000228881836, 1.9622000455856323, 1.960800051689148, 1.9598000049591064, 1.9591000080108643, 1.9570000171661377, 1.9564000368118286, 1.9562000036239624, 1.9558000564575195, 1.9558000564575195, 1.9558000564575195, 1.9549000263214111, 1.9539999961853027, 1.9537999629974365, 1.9536000490188599, 1.9532999992370605, 1.9527000188827515, 1.9515000581741333, 1.9510999917984009, 1.9499000310897827, 1.9496999979019165, 1.9488999843597412, 1.948099970817566, 1.948099970817566, 1.9479999542236328, 1.9183000326156616, 1.9185999631881714, 1.8614000082015991, 1.8938000202178955, 1.899899959564209, 1.8878999948501587, 1.830899953842163, 1.7319999933242798, 1.832200050354004, 1.669700026512146, 1.7092000246047974, 1.753600001335144, 1.6612000465393066, 1.7654000520706177, 1.6748000383377075, 1.513200044631958, 1.3909000158309937, 1.6640000343322754, 1.1196000576019287, 1.492300033569336, 1.4464000463485718, 0.7807000279426575, 1.186900019645691, 0.842199981212616, 0.8391000032424927, 1.445199966430664, 1.1130000352859497, 1.2316999435424805, 1.0130000114440918, 0.5656999945640564, 1.4943000078201294, 1.0351999998092651, 1.0011999607086182, 0.6452000141143799, 0.48660001158714294, 0.4221999943256378, 0.8190000057220459, 0.8694999814033508, 0.6952000260353088, 0.10180000215768814, -0.02419999986886978, -0.14319999516010284, 0.25589999556541443, 0.5812000036239624, -0.3425000011920929, -0.052400000393390656, 0.25459998846054077, 2.7544000148773193, 2.751499891281128, 2.748800039291382, 2.746799945831299, 2.746299982070923, 2.7451999187469482, 2.742799997329712, 2.74180006980896, 2.740999937057495, 2.739300012588501, 2.738800048828125, 2.7381999492645264, 2.736799955368042, 2.736599922180176, 2.734299898147583, 2.7335000038146973, 2.7330000400543213, 2.7321999073028564, 2.7320001125335693, 2.7302000522613525, 2.73009991645813, 2.7281999588012695, 2.728100061416626, 2.7279000282287598, 2.727400064468384, 2.7263998985290527, 2.7258999347686768, 2.725800037384033, 2.724900007247925, 2.7242000102996826, 2.708199977874756, 2.7049999237060547, 2.657900094985962, 2.6974000930786133, 2.5969998836517334, 2.6791999340057373, 2.3320000171661377, 2.543100118637085, 2.4277000427246094, 2.5429999828338623, 1.899999976158142, 2.4486000537872314, 2.376300096511841, 2.5515999794006348, 1.498900055885315, 1.5872000455856323, 2.0841000080108643, 1.8996000289916992, 1.6360000371932983, 1.5546000003814697, 1.771399974822998, 1.90339994430542, 0.8863000273704529, 1.167099952697754, 0.6836000084877014, 0.8912000060081482, 1.6775000095367432, 1.2288999557495117, 1.375499963760376, 1.433899998664856, 1.6100000143051147, 0.7325999736785889, 0.42239999771118164, 0.767300009727478, 0.8916000127792358, 0.4171999990940094, 0.8578000068664551, 0.6065999865531921, 0.5946000218391418, -0.20640000700950623, 2.950500011444092, 2.946700096130371, 2.946500062942505, 2.9405999183654785, 2.937999963760376, 2.934299945831299, 2.932300090789795, 2.9312000274658203, 2.9302000999450684, 2.929800033569336, 2.9293999671936035, 2.928999900817871, 2.926800012588501, 2.926500082015991, 2.925800085067749, 2.925299882888794, 2.9238998889923096, 2.922300100326538, 2.9189999103546143, 2.9179999828338623, 2.9179999828338623, 2.9179999828338623, 2.9168999195098877, 2.9140000343322754, 2.9124999046325684, 2.91129994392395, 2.908400058746338, 2.907900094985962, 2.905100107192993, 2.9042000770568848, 2.897599935531616, 2.822999954223633, 2.884999990463257, 2.8164000511169434, 2.648200035095215, 2.648900032043457, 2.759999990463257, 2.5525999069213867, 2.8392999172210693, 2.2490999698638916, 2.5882999897003174, 2.3350000381469727, 1.9966000318527222, 2.2962000370025635, 2.4065001010894775, 2.226099967956543, 2.7262001037597656, 1.9263999462127686, 2.271699905395508, 2.106600046157837, 2.278599977493286, 1.6210999488830566, 2.178499937057495, 2.0048999786376953, 1.1057000160217285, 2.532599925994873, 2.036799907684326, 2.242000102996826, 1.7136000394821167, 0.7513999938964844, 0.5608000159263611, 1.5707000494003296, 1.8286000490188599, 0.7871999740600586, 0.7659000158309937, 1.690600037574768, 1.1641000509262085, 0.2930000126361847, 1.288599967956543, 0.4837999939918518, 0.934499979019165, -0.1768999993801117, -0.0568000003695488, -0.2565999925136566, 0.951200008392334, 4.688199996948242, 4.67519998550415, 4.672399997711182, 4.6717000007629395, 4.670400142669678, 4.668600082397461, 4.657299995422363, 4.650100231170654, 4.650100231170654, 4.648900032043457, 4.648600101470947, 4.646900177001953, 4.646900177001953, 4.646900177001953, 4.643400192260742, 4.639400005340576, 4.637199878692627, 4.635499954223633, 4.6350998878479, 4.635000228881836, 4.635000228881836, 4.627200126647949, 4.625999927520752, 4.617499828338623, 4.617499828338623, 4.617499828338623, 4.616499900817871, 4.609600067138672, 4.605800151824951, 4.603300094604492, 4.507299900054932, 4.536799907684326, 2.901700019836426, 1.414199948310852, 6.913700103759766, 6.722899913787842, 6.702300071716309, 6.536499977111816, 6.412600040435791, 6.372700214385986, 6.240600109100342, 6.217400074005127, 6.217400074005127, 6.204500198364258, 6.110300064086914, 6.019499778747559, 5.966400146484375, 5.966400146484375, 5.6682000160217285, 5.547100067138672, 5.547100067138672, 5.547100067138672, 5.520400047302246, 5.520400047302246, 3.3183000087738037, 3.3183000087738037, 3.3129000663757324, 3.3129000663757324, 3.3129000663757324, 3.3124001026153564, 3.3124001026153564, 3.311199903488159, 3.3111000061035156, 3.3111000061035156, 3.31030011177063, 3.3111000061035156, 2.89490008354187, 2.8668999671936035, 3.3017001152038574, 0.814300000667572, -2.1136999130249023, 6.59119987487793, 6.004199981689453, 5.971499919891357, 5.971499919891357, 5.692699909210205, 5.625699996948242, 5.625699996948242, 5.625699996948242, 5.625699996948242, 5.476500034332275, 5.367400169372559, 3.3327999114990234, 3.3327999114990234, 3.3327999114990234, 3.3327999114990234, 3.3327999114990234, 3.3327999114990234, 3.3327999114990234, 3.3327999114990234, 3.3327999114990234, 3.3327999114990234, 3.3327999114990234, 3.3327999114990234, 3.3327999114990234, 3.3308000564575195, 3.3308000564575195, 3.3308000564575195, 3.3308000564575195, 3.3308000564575195, 3.3308000564575195, 3.3308000564575195, 3.3308000564575195, 3.3308000564575195, 3.3308000564575195, 3.3308000564575195, 3.3308000564575195, 3.3308000564575195, 3.3308000564575195, 3.3308000564575195, 3.3308000564575195, 3.3308000564575195, 3.3308000564575195, 3.3308000564575195, 3.3308000564575195, 3.3308000564575195, 3.3297998905181885, 3.3308000564575195, 3.3308000564575195, 3.3148000240325928, 3.3125, 3.2723000049591064, 3.3304998874664307, 3.3304998874664307, 3.330399990081787, 3.330399990081787, 3.330399990081787, 3.330399990081787, 3.330399990081787, 3.330399990081787, 3.330399990081787, 3.330399990081787, 3.330399990081787, 3.330399990081787, 3.330399990081787, 3.330399990081787, 3.330399990081787, 3.330399990081787, 3.330399990081787, 3.330399990081787, 3.330399990081787, 3.330399990081787, 3.330399990081787, 3.330399990081787, 3.330399990081787, 3.330399990081787, 3.330399990081787, 3.330399990081787, 3.330399990081787, 3.330399990081787, 3.330399990081787, 3.330399990081787, 3.330399990081787, 3.330399990081787, 3.330399990081787, 3.330399990081787, 3.330399990081787, 3.330399990081787, 3.330399990081787, 3.330399990081787, 3.330399990081787, 3.330399990081787, 3.330399990081787, 3.330399990081787, 3.330399990081787, 3.330399990081787, 3.330399990081787, 3.330399990081787, 3.330399990081787, 3.330399990081787, 3.330399990081787, 3.330399990081787, 3.330399990081787, 3.330399990081787, 3.330399990081787, 3.330399990081787, 3.330399990081787, 3.330399990081787, 3.330399990081787, 3.330399990081787, 3.330399990081787, 3.330399990081787, 3.330399990081787, 3.330399990081787, 3.330399990081787, 3.330399990081787, 3.330399990081787, 3.330399990081787, 3.330399990081787, 3.330399990081787, 3.330399990081787, 3.307499885559082, 3.328900098800659, 0.5257999897003174, 3.328900098800659, 1.6059000492095947, 0.7414000034332275, -0.5649999976158142, 2.637700080871582, 3.328900098800659, 1.680400013923645, 3.330399990081787, 1.2889000177383423, 2.2802000045776367, 3.330399990081787, 2.2929000854492188, 3.330399990081787, 0.0885000005364418, 0.15109999477863312, 0.5766000151634216, 2.0620999336242676, 0.31709998846054077, -0.19329999387264252, 2.1352999210357666, 3.330399990081787, -0.25099998712539673], \"logprob\": [30.0, 29.0, 28.0, 27.0, 26.0, 25.0, 24.0, 23.0, 22.0, 21.0, 20.0, 19.0, 18.0, 17.0, 16.0, 15.0, 14.0, 13.0, 12.0, 11.0, 10.0, 9.0, 8.0, 7.0, 6.0, 5.0, 4.0, 3.0, 2.0, 1.0, -6.747799873352051, -7.112800121307373, -7.205100059509277, -7.256999969482422, -7.20550012588501, -7.34660005569458, -5.629300117492676, -7.34689998626709, -7.129499912261963, -7.402500152587891, -7.51230001449585, -7.699900150299072, -7.714099884033203, -7.7972002029418945, -7.821499824523926, -7.822800159454346, -7.871699810028076, -7.871500015258789, -7.886000156402588, -7.923399925231934, -7.943399906158447, -7.946800231933594, -7.947500228881836, -7.952700138092041, -7.7677998542785645, -7.981200218200684, -7.997099876403809, -8.008199691772461, -8.011699676513672, -8.014900207519531, -6.840700149536133, -6.140699863433838, -5.773399829864502, -6.700500011444092, -6.850200176239014, -6.446400165557861, -7.435299873352051, -7.502200126647949, -6.108399868011475, -4.179500102996826, -6.178699970245361, -7.313799858093262, -7.4567999839782715, -5.739200115203857, -6.740499973297119, -7.02269983291626, -6.351600170135498, -4.247900009155273, -4.812699794769287, -5.341100215911865, -6.70389986038208, -5.929299831390381, -6.228400230407715, -4.3566999435424805, -5.76800012588501, -6.42519998550415, -5.820799827575684, -5.614500045776367, -5.511499881744385, -5.176700115203857, -6.1697001457214355, -4.687900066375732, -5.9953999519348145, -5.7846999168396, -6.16349983215332, -6.183899879455566, -4.937699794769287, -4.989500045776367, -5.8125, -5.966000080108643, -4.735899925231934, -5.871600151062012, -5.5594000816345215, -5.162300109863281, -5.305200099945068, -5.347099781036377, -5.435299873352051, -5.299200057983398, -5.591300010681152, -5.872000217437744, -5.889100074768066, -5.792900085449219, -7.057799816131592, -7.248199939727783, -7.279699802398682, -7.364099979400635, -7.51170015335083, -7.58459997177124, -7.628200054168701, -7.692200183868408, -7.6975998878479, -7.770899772644043, -7.772600173950195, -7.6595001220703125, -7.806700229644775, -7.819300174713135, -7.8480000495910645, -7.923699855804443, -7.982500076293945, -7.994800090789795, -8.020999908447266, -8.046500205993652, -8.049200057983398, -8.08329963684082, -7.987199783325195, -8.112099647521973, -8.130399703979492, -8.135299682617188, -7.277599811553955, -8.15839958190918, -8.156599998474121, -8.173399925231934, -6.564000129699707, -7.088600158691406, -6.940299987792969, -7.485300064086914, -6.384799957275391, -5.256400108337402, -5.206399917602539, -5.5817999839782715, -6.037399768829346, -6.252900123596191, -5.489200115203857, -6.651299953460693, -4.84060001373291, -6.481599807739258, -4.912300109863281, -6.310999870300293, -6.8618998527526855, -5.10129976272583, -4.882999897003174, -4.964700222015381, -4.700200080871582, -5.087900161743164, -6.333199977874756, -5.767899990081787, -5.644800186157227, -5.367300033569336, -5.471499919891357, -6.180099964141846, -5.3231000900268555, -5.078999996185303, -5.426700115203857, -6.342899799346924, -5.007999897003174, -5.767099857330322, -5.151400089263916, -4.926599979400635, -4.825200080871582, -5.158899784088135, -5.55210018157959, -5.332799911499023, -5.676799774169922, -5.626999855041504, -5.226500034332275, -5.481200218200684, -5.336900234222412, -5.333399772644043, -5.1981000900268555, -5.479000091552734, -5.406899929046631, -6.821700096130371, -6.929900169372559, -7.025700092315674, -7.000999927520752, -7.09689998626709, -7.141300201416016, -7.281300067901611, -7.401500225067139, -7.432300090789795, -7.487299919128418, -7.525100231170654, -7.539899826049805, -7.599800109863281, -7.626200199127197, -7.72790002822876, -7.577400207519531, -7.589700222015381, -7.7519001960754395, -7.776400089263916, -7.700200080871582, -7.8024001121521, -7.787600040435791, -7.753600120544434, -7.866300106048584, -7.8867998123168945, -7.891600131988525, -7.885300159454346, -7.946000099182129, -7.960899829864502, -7.975599765777588, -6.6768999099731445, -6.592100143432617, -6.382800102233887, -4.901800155639648, -6.143099784851074, -6.16540002822876, -7.186399936676025, -7.4868998527526855, -7.207399845123291, -6.2835001945495605, -5.574699878692627, -6.9969000816345215, -6.744999885559082, -7.174600124359131, -6.96750020980835, -6.062699794769287, -7.043099880218506, -5.646999835968018, -3.926300048828125, -5.907899856567383, -6.138999938964844, -6.018400192260742, -4.946899890899658, -6.34250020980835, -5.770899772644043, -6.4380998611450195, -5.744999885559082, -4.51200008392334, -4.558300018310547, -6.397299766540527, -5.111100196838379, -5.242599964141846, -5.888000011444092, -5.105299949645996, -4.938399791717529, -5.040299892425537, -6.093299865722656, -5.969900131225586, -5.243199825286865, -5.7795000076293945, -5.405300140380859, -5.4822998046875, -5.1682000160217285, -5.286499977111816, -5.10890007019043, -5.343800067901611, -5.528600215911865, -5.07480001449585, -5.635799884796143, -5.426400184631348, -5.643400192260742, -5.651500225067139, -5.565100193023682, -5.691699981689453, -5.571400165557861, -5.697000026702881, -5.6940999031066895, -5.779699802398682, -5.908100128173828, -6.456600189208984, -6.48199987411499, -6.677199840545654, -6.722799777984619, -6.866099834442139, -6.993800163269043, -7.080999851226807, -7.135499954223633, -7.285399913787842, -7.326600074768066, -7.304800033569336, -7.3277997970581055, -7.366199970245361, -7.366700172424316, -7.395500183105469, -7.467700004577637, -7.478700160980225, -7.492000102996826, -7.507900238037109, -7.5381999015808105, -7.602700233459473, -7.618000030517578, -7.676700115203857, -7.684000015258789, -7.722300052642822, -7.661200046539307, -7.7546000480651855, -7.760799884796143, -6.237500190734863, -6.863399982452393, -5.889100074768066, -6.634500026702881, -7.0192999839782715, -6.956099987030029, -6.466100215911865, -5.592800140380859, -6.618899822235107, -5.434000015258789, -5.747399806976318, -6.160399913787842, -5.634799957275391, -6.303899765014648, -5.866000175476074, -5.2221999168396, -4.868100166320801, -6.202300071716309, -4.25029993057251, -5.582699775695801, -5.749899864196777, -4.099800109863281, -5.165599822998047, -4.4475998878479, -4.583899974822998, -5.893799781799316, -5.243500232696533, -5.5609002113342285, -5.27869987487793, -4.747499942779541, -6.1006999015808105, -5.584199905395508, -5.587699890136719, -5.238900184631348, -5.115900039672852, -5.1255998611450195, -5.471099853515625, -5.55049991607666, -5.542300224304199, -5.2692999839782715, -5.244900226593018, -5.236400127410889, -5.411799907684326, -5.547599792480469, -5.437300205230713, -5.532299995422363, -5.574699878692627, -5.421800136566162, -5.863800048828125, -6.1066999435424805, -6.327199935913086, -6.275199890136719, -6.444900035858154, -6.6057000160217285, -6.663599967956543, -6.402500152587891, -6.7947998046875, -6.820099830627441, -6.8506999015808105, -6.912799835205078, -6.922599792480469, -6.911399841308594, -7.049900054931641, -7.063300132751465, -7.101099967956543, -7.107999801635742, -7.17110013961792, -7.175000190734863, -7.235099792480469, -7.243100166320801, -7.2480998039245605, -7.263800144195557, -7.297399997711182, -7.311100006103516, -7.313700199127197, -7.341800212860107, -7.362100124359131, -4.399799823760986, -5.226900100708008, -3.7629001140594482, -6.216100215911865, -4.333399772644043, -6.595600128173828, -3.6673998832702637, -5.721099853515625, -5.018700122833252, -6.073800086975098, -3.596100091934204, -5.982600212097168, -5.8094000816345215, -6.47160005569458, -3.643399953842163, -3.901700019836426, -5.3805999755859375, -5.0269999504089355, -4.59630012512207, -4.521299839019775, -5.045300006866455, -5.453800201416016, -3.9941999912261963, -4.4558000564575195, -3.982100009918213, -4.309899806976318, -5.344099998474121, -4.958600044250488, -5.105299949645996, -5.215099811553955, -5.392600059509277, -4.815199851989746, -4.672500133514404, -5.021299839019775, -5.167699813842773, -5.062600135803223, -5.285699844360352, -5.3024001121521, -5.3225998878479, -5.299600124359131, -6.017300128936768, -6.308199882507324, -6.239500045776367, -6.634799957275391, -6.543900012969971, -6.894100189208984, -6.960700035095215, -6.915800094604492, -7.031199932098389, -7.044000148773193, -7.055099964141846, -7.067599773406982, -7.132699966430664, -7.140699863433838, -7.158199787139893, -7.174699783325195, -7.211299896240234, -7.252299785614014, -7.334799766540527, -7.3572998046875, -7.3572998046875, -7.3572998046875, -7.378799915313721, -7.445000171661377, -7.474899768829346, -7.500899791717529, -7.558000087738037, -7.565999984741211, -7.617599964141846, -6.502299785614014, -6.7052998542785645, -5.299900054931641, -7.0269999504089355, -5.843299865722656, -4.960599899291992, -5.149700164794922, -6.1732001304626465, -4.6528000831604, -6.787499904632568, -3.353300094604492, -5.517099857330322, -4.863500118255615, -3.887500047683716, -5.303899765014648, -5.63539981842041, -5.310100078582764, -6.659900188446045, -4.808899879455566, -5.618500232696533, -5.323999881744385, -5.815400123596191, -4.670599937438965, -5.666999816894531, -5.435200214385986, -4.184100151062012, -6.334199905395508, -5.769100189208984, -6.023799896240234, -5.47760009765625, -4.6184000968933105, -4.789000034332275, -5.523799896240234, -5.71560001373291, -5.1427001953125, -5.170199871063232, -5.648399829864502, -5.401100158691406, -5.0177001953125, -5.520299911499023, -5.3333001136779785, -5.490600109100342, -5.270100116729736, -5.370100021362305, -5.351399898529053, -5.5258002281188965, -4.8572998046875, -5.342199802398682, -5.423900127410889, -5.441999912261963, -5.475399971008301, -5.521599769592285, -5.772500038146973, -5.906599998474121, -5.906599998474121, -5.925000190734863, -5.930699825286865, -5.96019983291626, -5.96019983291626, -5.96019983291626, -6.0167999267578125, -6.0767998695373535, -6.108699798583984, -6.133399963378906, -6.139400005340576, -6.140699863433838, -6.140699863433838, -6.243299961090088, -6.258800029754639, -6.361100196838379, -6.361100196838379, -6.361100196838379, -6.372099876403809, -6.446800231933594, -6.486400127410889, -6.511899948120117, -5.069499969482422, -6.0767998695373535, -5.639599800109863, -5.88070011138916, -6.035799980163574, -6.293600082397461, -6.320000171661377, -6.531000137329102, -6.680799961090088, -6.713900089263916, -6.887199878692627, -6.914000034332275, -6.914000034332275, -6.9293999671936035, -7.036900043487549, -4.676199913024902, -7.201399803161621, -7.201399803161621, -6.215199947357178, -7.662399768829346, -7.662399768829346, -7.662399768829346, -7.690899848937988, -7.690899848937988, -9.941399574279785, -9.941399574279785, -9.94950008392334, -9.94950008392334, -9.94950008392334, -9.959799766540527, -9.938899993896484, -9.929100036621094, -9.947699546813965, -9.947699546813965, -9.910699844360352, -9.947699546813965, -7.867700099945068, -8.220999717712402, -9.917200088500977, -9.23740005493164, -9.8641996383667, -6.633200168609619, -7.244500160217285, -7.277900218963623, -7.277900218963623, -7.564700126647949, -7.6331000328063965, -7.6331000328063965, -7.6331000328063965, -7.6331000328063965, -7.779399871826172, -7.719200134277344, -9.941300392150879, -9.941300392150879, -9.941300392150879, -9.941300392150879, -9.941300392150879, -9.941300392150879, -9.941300392150879, -9.941300392150879, -9.941300392150879, -9.941300392150879, -9.941300392150879, -9.941300392150879, -9.941300392150879, -9.944199562072754, -9.944199562072754, -9.944199562072754, -9.944199562072754, -9.944199562072754, -9.944199562072754, -9.944199562072754, -9.944199562072754, -9.944199562072754, -9.944199562072754, -9.944199562072754, -9.944199562072754, -9.944199562072754, -9.944199562072754, -9.944199562072754, -9.944199562072754, -9.944199562072754, -9.944199562072754, -9.944199562072754, -9.944199562072754, -9.944199562072754, -9.941300392150879, -9.944199562072754, -9.944199562072754, -9.941300392150879, -9.941399574279785, -9.941399574279785, -9.945599555969238, -9.945599555969238, -9.945599555969238, -9.945599555969238, -9.945599555969238, -9.945599555969238, -9.945599555969238, -9.945599555969238, -9.945599555969238, -9.945599555969238, -9.945599555969238, -9.945599555969238, -9.945599555969238, -9.945599555969238, -9.945599555969238, -9.945599555969238, -9.945599555969238, -9.945599555969238, -9.945599555969238, -9.945599555969238, -9.945599555969238, -9.945599555969238, -9.945599555969238, -9.945599555969238, -9.945599555969238, -9.945599555969238, -9.945599555969238, -9.945599555969238, -9.945599555969238, -9.945599555969238, -9.945599555969238, -9.945599555969238, -9.945599555969238, -9.945599555969238, -9.945599555969238, -9.945599555969238, -9.945599555969238, -9.945599555969238, -9.945599555969238, -9.945599555969238, -9.945599555969238, -9.945599555969238, -9.945599555969238, -9.945599555969238, -9.945599555969238, -9.945599555969238, -9.945599555969238, -9.945599555969238, -9.945599555969238, -9.945599555969238, -9.945599555969238, -9.945599555969238, -9.945599555969238, -9.945599555969238, -9.945599555969238, -9.945599555969238, -9.945599555969238, -9.945599555969238, -9.945599555969238, -9.945599555969238, -9.945599555969238, -9.945599555969238, -9.945599555969238, -9.945599555969238, -9.945599555969238, -9.945599555969238, -9.945599555969238, -9.945599555969238, -9.945599555969238, -9.945599555969238, -9.945599555969238, -9.945599555969238, -9.945599555969238, -9.945599555969238, -9.945599555969238, -9.945599555969238, -9.945599555969238, -9.945599555969238, -9.945599555969238, -9.945599555969238, -9.945599555969238, -9.945599555969238, -9.945599555969238, -9.945599555969238, -9.945599555969238, -9.945599555969238, -9.945599555969238, -9.945599555969238, -9.945599555969238, -9.945599555969238, -9.945599555969238, -9.945599555969238, -9.945599555969238, -9.945599555969238]}, \"token.table\": {\"Topic\": [2, 1, 2, 7, 6, 1, 3, 4, 5, 1, 4, 5, 4, 1, 4, 6, 2, 3, 5, 6, 1, 6, 5, 5, 3, 4, 6, 1, 2, 3, 4, 5, 6, 1, 2, 1, 2, 3, 4, 5, 1, 2, 3, 4, 5, 6, 6, 5, 7, 2, 3, 5, 1, 2, 3, 4, 5, 5, 3, 4, 1, 2, 3, 4, 6, 4, 6, 1, 3, 4, 6, 4, 5, 6, 1, 2, 3, 4, 5, 1, 5, 3, 5, 2, 7, 1, 3, 4, 6, 4, 7, 2, 3, 5, 1, 2, 3, 4, 5, 1, 5, 1, 2, 3, 4, 6, 5, 6, 6, 7, 1, 3, 4, 5, 6, 1, 2, 3, 4, 5, 6, 6, 3, 5, 5, 3, 5, 3, 4, 6, 1, 5, 3, 6, 1, 2, 3, 4, 5, 2, 4, 1, 2, 6, 7, 7, 1, 2, 3, 4, 7, 1, 3, 5, 1, 2, 3, 5, 1, 3, 5, 1, 2, 3, 1, 2, 3, 4, 5, 6, 2, 1, 2, 5, 1, 5, 1, 2, 3, 4, 5, 6, 1, 2, 4, 4, 2, 2, 2, 4, 1, 2, 3, 4, 6, 1, 2, 4, 5, 1, 2, 4, 1, 2, 1, 2, 7, 2, 4, 1, 1, 2, 3, 4, 5, 6, 1, 2, 3, 4, 5, 6, 2, 3, 1, 3, 1, 2, 3, 4, 7, 1, 2, 3, 4, 5, 6, 1, 2, 3, 4, 5, 6, 1, 2, 3, 4, 6, 1, 2, 3, 4, 1, 1, 2, 3, 4, 6, 1, 2, 4, 1, 6, 1, 2, 3, 4, 5, 7, 4, 6, 1, 3, 1, 2, 5, 1, 2, 3, 4, 6, 6, 1, 2, 3, 6, 7, 1, 1, 2, 4, 3, 2, 5, 2, 1, 1, 2, 3, 4, 6, 1, 2, 1, 1, 2, 7, 7, 1, 3, 4, 1, 1, 3, 8, 6, 7, 1, 3, 4, 5, 6, 1, 2, 3, 4, 5, 6, 1, 6, 1, 2, 3, 4, 5, 6, 1, 2, 3, 4, 5, 1, 2, 3, 4, 5, 6, 1, 2, 3, 5, 1, 6, 1, 2, 3, 4, 5, 6, 3, 6, 6, 3, 5, 1, 2, 3, 4, 6, 1, 2, 3, 4, 5, 6, 1, 1, 3, 6, 1, 2, 3, 4, 6, 3, 4, 5, 6, 1, 6, 2, 4, 1, 2, 3, 4, 6, 1, 3, 3, 4, 6, 2, 4, 6, 6, 2, 3, 5, 1, 2, 3, 4, 5, 6, 4, 3, 1, 2, 3, 1, 2, 3, 4, 5, 2, 3, 5, 1, 2, 3, 4, 5, 6, 1, 2, 4, 5, 6, 5, 1, 2, 3, 4, 6, 6, 6, 2, 1, 2, 3, 5, 6, 1, 2, 3, 5, 1, 2, 3, 5, 3, 1, 2, 3, 4, 5, 6, 6, 1, 2, 3, 4, 5, 6, 7, 1, 1, 2, 3, 6, 1, 2, 3, 4, 6, 3, 1, 2, 3, 4, 5, 2, 1, 3, 3, 6, 6, 4, 2, 4, 4, 2, 4, 2, 1, 2, 3, 4, 6, 1, 4, 6, 4, 3, 1, 2, 3, 5, 6, 3, 4, 6, 6, 3, 4, 2, 5, 5, 2, 1, 5, 3, 1, 2, 3, 4, 5, 6, 1, 2, 3, 4, 5, 6, 1, 2, 3, 4, 5, 6, 2, 5, 1, 2, 3, 5, 1, 3, 5, 1, 1, 2, 3, 4, 5, 6, 1, 2, 3, 1, 2, 3, 4, 5, 6, 1, 2, 3, 4, 5, 2, 3, 1, 2, 3, 4, 6, 1, 2, 3, 5, 1, 2, 3, 4, 5, 6, 1, 2, 3, 4, 5, 6, 1, 2, 3, 4, 5, 6, 1, 1, 2, 3, 4, 6, 2, 5, 1, 2, 3, 4, 5, 6, 6, 5, 3, 2, 1, 4, 6, 2, 4, 5, 5, 3, 1, 2, 3, 4, 6, 1, 2, 3, 4, 5, 6, 1, 2, 4, 6, 1, 6, 1, 3, 6, 1, 5, 5, 7, 2, 4, 6, 1, 2, 3, 4, 5, 6, 1, 2, 3, 4, 5, 6, 7, 2, 5, 4, 1, 2, 3, 1, 4, 5, 7, 1, 2, 3, 4, 5, 6, 1, 3, 2, 4, 5, 1, 2, 3, 4, 7, 7, 1, 3, 1, 4, 3, 1, 4, 4, 1, 2, 4, 1, 2, 3, 4, 6, 1, 4, 6, 1, 2, 3, 4, 5, 6, 2, 5, 3, 3, 2, 3, 1, 2, 3, 4, 1, 3, 3, 2, 4, 1, 2, 3, 4, 5, 6, 1, 2, 3, 4, 6, 2, 1, 2, 4, 1, 4, 1, 2, 3, 4, 3, 2, 4, 5, 1, 1, 3, 1, 3, 1, 1, 2, 1, 1, 3, 1, 2, 3, 4, 7, 3, 7, 7, 6, 2, 7, 7, 7, 5, 6, 1, 2, 3, 4, 6, 1, 4, 7, 4, 1, 3, 5, 5, 1, 1, 2, 3, 5, 1, 2, 3, 4, 5, 6, 2, 4, 2, 3, 4, 5, 5, 3, 2, 1, 2, 3, 4, 5, 2, 1, 2, 3, 5, 5, 6, 1, 7, 1, 2, 3, 4, 6, 1, 2, 3, 4, 5, 6, 5, 2, 1, 3, 1, 1, 3, 1, 1, 2, 3, 4, 6, 3, 3, 1, 2, 3, 4, 6, 7, 3, 7, 1, 3, 5, 1, 3, 4, 4, 1, 2, 3, 5, 2, 3, 1, 2, 4, 5, 5, 4, 6, 1, 2, 5, 6, 2, 4, 2, 4, 5, 1, 2, 3, 4, 5, 6, 3, 5, 1, 2, 3, 4, 6, 5, 1, 3, 6, 1, 7, 3, 1, 3, 3, 3, 1, 2, 3, 4, 5, 6, 2, 3, 4, 5, 7, 1, 7, 2, 3, 5, 4, 4, 1, 3, 1, 2, 3, 4, 5, 1, 2, 3, 4, 5, 3, 1, 2, 4, 6, 3, 7, 1, 2, 3, 4, 5, 6, 1, 2, 3, 4, 5, 6, 2, 4, 5, 4, 1, 3, 1, 6, 4, 6, 3, 1, 2, 3, 4, 4, 4, 5, 3, 7, 5, 2, 1, 3, 3, 3, 1, 2, 4, 5, 6, 1, 2, 3, 4, 5, 6, 4, 4, 3, 1, 2, 3, 4, 5, 2, 4, 4, 1, 2, 3, 5, 5, 3, 1, 2, 3, 4, 5, 1, 2, 3, 4, 6, 2, 1, 2, 3, 4, 5, 6, 2, 4, 6, 1, 2, 3, 4, 5, 6, 2, 3, 1, 2, 4, 5, 4, 1, 2, 3, 4, 5, 1, 2, 3, 4, 5, 1, 2, 3, 4, 5, 6, 3, 4, 1, 2, 3, 4, 5, 6, 2, 3, 1, 3, 5, 1, 2, 3, 4, 5, 6, 1, 2, 3, 4, 5, 2, 3], \"Freq\": [0.9810769557952881, 0.9946466088294983, 0.17071335017681122, 0.8194240927696228, 0.9478633999824524, 0.09424316138029099, 0.06965798884630203, 0.7703353762626648, 0.06965798884630203, 0.08246083557605743, 0.8960744142532349, 0.016492167487740517, 0.9941826462745667, 0.08393087238073349, 0.2517926096916199, 0.6546608209609985, 0.14313949644565582, 0.11451160162687302, 0.009542632848024368, 0.7300114631652832, 0.03504597395658493, 0.9462412595748901, 0.9959443807601929, 0.9283772706985474, 0.023518219590187073, 0.29005804657936096, 0.6898677945137024, 0.23851944506168365, 0.2518377900123596, 0.16950620710849762, 0.27847447991371155, 0.0024215171579271555, 0.05811641365289688, 0.9594836235046387, 0.03598063439130783, 0.009800625964999199, 0.7476477026939392, 0.021001340821385384, 0.1372087597846985, 0.08400536328554153, 0.22347235679626465, 0.5614252686500549, 0.03920567408204079, 0.12545816600322723, 0.032932765781879425, 0.01725049689412117, 0.9211109280586243, 0.9737263917922974, 0.9323322176933289, 0.07601296156644821, 0.19546189904212952, 0.727552592754364, 0.09274988621473312, 0.10758986324071884, 0.3227696120738983, 0.04822994023561478, 0.4266494810581207, 0.9781043529510498, 0.980148434638977, 0.9959875345230103, 0.0044368295930325985, 0.07098927348852158, 0.3238885700702667, 0.11979440599679947, 0.4791776239871979, 0.19750705361366272, 0.7900282144546509, 0.06056284159421921, 0.14981333911418915, 0.1275007128715515, 0.6630037426948547, 0.8640540838241577, 0.02215523272752762, 0.09969855099916458, 0.05940817669034004, 0.5109103322029114, 0.329715371131897, 0.060893382877111435, 0.03713010996580124, 0.9867385625839233, 0.9670423269271851, 0.9868496656417847, 0.9608985185623169, 0.9776632785797119, 0.9095934629440308, 0.008060932159423828, 0.18137095868587494, 0.4272293746471405, 0.38289424777030945, 0.9796339273452759, 0.8996620178222656, 0.16995765268802643, 0.013073666021227837, 0.810567319393158, 0.004321334417909384, 0.15556803345680237, 0.37811675667762756, 0.09074801951646805, 0.37163475155830383, 0.31430861353874207, 0.6795861721038818, 0.00894527044147253, 0.15654224157333374, 0.4830446243286133, 0.026835812255740166, 0.3220297396183014, 0.10768453776836395, 0.8973711133003235, 0.9888409376144409, 0.8714532256126404, 0.012104466557502747, 0.12346556037664413, 0.01452536042779684, 0.8497335910797119, 0.9794339537620544, 0.07694026827812195, 0.009617533534765244, 0.8367254137992859, 0.0336613692343235, 0.043278902769088745, 0.9660193920135498, 0.9611836075782776, 0.742824137210846, 0.2536472678184509, 0.9912943840026855, 0.9896636605262756, 0.9782907962799072, 0.3925349712371826, 0.07280890643596649, 0.534987211227417, 0.07572824507951736, 0.933981716632843, 0.994696855545044, 0.9611836075782776, 0.11286947876214981, 0.20385609567165375, 0.36279475688934326, 0.10365564376115799, 0.2165251225233078, 0.8240513801574707, 0.1765824407339096, 0.9970709681510925, 0.97776859998703, 0.9639124870300293, 0.9095934629440308, 0.9806965589523315, 0.10679794102907181, 0.6598587036132812, 0.011442636139690876, 0.22122430801391602, 0.9547922611236572, 0.03276340663433075, 0.9665204882621765, 0.9482747316360474, 0.1784140169620514, 0.4487714469432831, 0.32618021965026855, 0.04597171023488045, 0.041019171476364136, 0.9115371704101562, 0.041019171476364136, 0.7876948714256287, 0.1993127465248108, 0.012286401353776455, 0.0993296355009079, 0.2790689766407013, 0.5628679394721985, 0.007094974163919687, 0.03547487035393715, 0.014189948327839375, 0.9753344058990479, 0.19873562455177307, 0.08111657947301865, 0.7178817391395569, 0.052723705768585205, 0.9490267038345337, 0.034052979201078415, 0.3077865242958069, 0.37065356969833374, 0.08316785097122192, 0.20366300642490387, 0.0006548649980686605, 0.9965068101882935, 0.05306949093937874, 0.9375609755516052, 0.9975788593292236, 0.986433744430542, 0.9947014451026917, 0.07179155200719833, 0.9213249087333679, 0.7505597472190857, 0.0856938287615776, 0.07091902941465378, 0.06796406954526901, 0.02659463696181774, 0.07121263444423676, 0.11652977019548416, 0.802760660648346, 0.012947752140462399, 0.7225803732872009, 0.216774120926857, 0.06021503359079361, 0.9930444955825806, 0.006880215834826231, 0.9353117942810059, 0.06118862330913544, 0.9304861426353455, 0.9789829850196838, 0.9800934791564941, 0.9879264235496521, 0.19690828025341034, 0.24010753631591797, 0.38979801535606384, 0.1426580399274826, 0.027125120162963867, 0.004018536303192377, 0.4397066831588745, 0.08901379257440567, 0.10027457773685455, 0.3222728371620178, 0.026275156065821648, 0.02252156287431717, 0.05401280149817467, 0.9317207932472229, 0.08919936418533325, 0.9047363996505737, 0.007404755800962448, 0.03702377900481224, 0.9478087425231934, 0.9753643274307251, 0.9458215236663818, 0.11799756437540054, 0.2605779767036438, 0.5432804822921753, 0.035235386341810226, 0.026221681386232376, 0.017207978293299675, 0.08596218377351761, 0.06876974552869797, 0.7461517453193665, 0.06189277023077011, 0.027507899329066277, 0.006876974832266569, 0.9029636979103088, 0.012202211655676365, 0.0061011058278381824, 0.042707741260528564, 0.03660663589835167, 0.8423354625701904, 0.025918014347553253, 0.09071304649114609, 0.03887702152132988, 0.9914296865463257, 0.014188879169523716, 0.05202588811516762, 0.1608072966337204, 0.25539982318878174, 0.5155292749404907, 0.10423296689987183, 0.303223192691803, 0.5906534790992737, 0.9812928438186646, 0.9871764183044434, 0.020912835374474525, 0.17427362501621246, 0.5088790059089661, 0.1429043710231781, 0.11502058804035187, 0.03834019601345062, 0.9758697152137756, 0.9898542165756226, 0.10460774600505829, 0.8891658186912537, 0.9864232540130615, 0.8548426628112793, 0.14073628187179565, 0.055308908224105835, 0.12444504350423813, 0.7144067287445068, 0.06452705711126328, 0.036872606724500656, 0.9405298233032227, 0.7459693551063538, 0.04388055205345154, 0.07940290123224258, 0.12955209612846375, 0.8997055292129517, 0.9947559833526611, 0.005758177489042282, 0.2533597946166992, 0.7399258017539978, 0.9919556975364685, 0.9867708683013916, 0.9915399551391602, 0.98609858751297, 0.9811881184577942, 0.05027490109205246, 0.009426544420421124, 0.35820868611335754, 0.29222285747528076, 0.2859385013580322, 0.04841748625040054, 0.9475993514060974, 0.9825043082237244, 0.7461350560188293, 0.24971453845500946, 0.9345532655715942, 0.9254292845726013, 0.8913471102714539, 0.04668961092829704, 0.059423141181468964, 0.9937142133712769, 0.10452643036842346, 0.7316849827766418, 0.10452643036842346, 0.9311966896057129, 0.9566328525543213, 0.043713994324207306, 0.03278549760580063, 0.5901389122009277, 0.050999660044908524, 0.2804981470108032, 0.17404545843601227, 0.23635803163051605, 0.35238832235336304, 0.16867367923259735, 0.03545370325446129, 0.03330499306321144, 0.9932501912117004, 0.9648419618606567, 0.089401975274086, 0.054634541273117065, 0.7400497198104858, 0.03476743400096893, 0.054634541273117065, 0.02980065904557705, 0.0458473265171051, 0.7648167610168457, 0.0833587720990181, 0.05626717209815979, 0.05001526325941086, 0.36445096135139465, 0.27869778871536255, 0.11576677113771439, 0.042876582592725754, 0.010719145648181438, 0.18651314079761505, 0.19764059782028198, 0.03328683599829674, 0.7364712953567505, 0.03328683599829674, 0.9803959727287292, 0.9841366410255432, 0.21936379373073578, 0.42483124136924744, 0.18164514005184174, 0.1240745484828949, 0.0347408726811409, 0.014888945035636425, 0.9788116812705994, 0.9611836075782776, 0.9530130624771118, 0.981260359287262, 0.9762347340583801, 0.1904534101486206, 0.006391054019331932, 0.1584981381893158, 0.3834632337093353, 0.26203322410583496, 0.6413148641586304, 0.0643390342593193, 0.1349044293165207, 0.09547082334756851, 0.02698088437318802, 0.035282693803310394, 0.9928033947944641, 0.10746739059686661, 0.38561829924583435, 0.4994072914123535, 0.22019334137439728, 0.1595783233642578, 0.04453348368406296, 0.5591426491737366, 0.016081536188721657, 0.12113553285598755, 0.11536717414855957, 0.028841793537139893, 0.7325815558433533, 0.9881216883659363, 0.9703709483146667, 0.9803505539894104, 0.992628812789917, 0.1058112159371376, 0.7203301787376404, 0.012208986096084118, 0.09767188876867294, 0.0651145949959755, 0.29430055618286133, 0.7032234072685242, 0.011952012777328491, 0.6314647197723389, 0.35457637906074524, 0.010774588212370872, 0.786544919013977, 0.2011256366968155, 0.9626079201698303, 0.24427247047424316, 0.10400664061307907, 0.6517113447189331, 0.24464908242225647, 0.2468867301940918, 0.36771950125694275, 0.06190815195441246, 0.05594110116362572, 0.02312232181429863, 0.9776033759117126, 0.9932585954666138, 0.10151847451925278, 0.03904556483030319, 0.8590024709701538, 0.006922581233084202, 0.23421400785446167, 0.30632421374320984, 0.028844090178608894, 0.4234312176704407, 0.09946102648973465, 0.8737462759017944, 0.027698008343577385, 0.18353980779647827, 0.48203691840171814, 0.2677983045578003, 0.026126662269234657, 0.025473495945334435, 0.014369664713740349, 0.5328493714332581, 0.16912801563739777, 0.24504344165325165, 0.0038438185583800077, 0.04900868609547615, 0.9928788542747498, 0.28659987449645996, 0.3120008707046509, 0.2703048884868622, 0.06182505562901497, 0.06949327886104584, 0.9842434525489807, 0.9216423034667969, 0.9611296653747559, 0.2864096462726593, 0.18573231995105743, 0.4999150335788727, 0.022565608844161034, 0.003471632255241275, 0.0495799221098423, 0.18179304897785187, 0.6796581149101257, 0.08883069455623627, 0.04325644299387932, 0.32658615708351135, 0.6293812394142151, 0.9548428654670715, 0.9818150401115417, 0.005257748067378998, 0.7045382261276245, 0.15247470140457153, 0.08412396907806396, 0.02453615702688694, 0.029793905094265938, 0.9141867756843567, 0.08245178312063217, 0.3910888731479645, 0.36769038438796997, 0.08356600254774094, 0.011142132803797722, 0.06351015716791153, 0.0011142133735120296, 0.9773045182228088, 0.14712871611118317, 0.11443344503641129, 0.6920498609542847, 0.04631830006837845, 0.17075440287590027, 0.4691900312900543, 0.12460456043481827, 0.10306797176599503, 0.13383452594280243, 0.9888671040534973, 0.28127941489219666, 0.23132246732711792, 0.23566654324531555, 0.24869880080223083, 0.002172041917219758, 0.9743005037307739, 0.9157969951629639, 0.08425332605838776, 0.9929540157318115, 0.9752326607704163, 0.9836849570274353, 0.9932214021682739, 0.9741179943084717, 0.014539075084030628, 0.9825933575630188, 0.9441365599632263, 0.05149835720658302, 0.9721584320068359, 0.6049119234085083, 0.1697113960981369, 0.02688497304916382, 0.031925905495882034, 0.16635076701641083, 0.06239890679717064, 0.7443298101425171, 0.1916537880897522, 0.9876179099082947, 0.982816755771637, 0.16921919584274292, 0.04414413869380951, 0.15450449287891388, 0.058858852833509445, 0.5738738179206848, 0.035875607281923294, 0.14350242912769318, 0.8251389265060425, 0.9932867288589478, 0.980588972568512, 0.9931663274765015, 0.7596527934074402, 0.2345236837863922, 0.6856110095977783, 0.9762113094329834, 0.9830835461616516, 0.9797695875167847, 0.9801861047744751, 0.0246270801872015, 0.2686069905757904, 0.3459245562553406, 0.049826882779598236, 0.3098430335521698, 0.0017181683797389269, 0.2881283760070801, 0.26815909147262573, 0.13407954573631287, 0.02852756343781948, 0.031380318105220795, 0.2481898069381714, 0.18402411043643951, 0.33737754821777344, 0.20447124540805817, 0.1285247802734375, 0.013144579716026783, 0.13144579529762268, 0.19296564161777496, 0.808617889881134, 0.7767807841300964, 0.04284592717885971, 0.17376403510570526, 0.007140988018363714, 0.9695369601249695, 0.013101850636303425, 0.013101850636303425, 0.9964163899421692, 0.0845629870891571, 0.5169675350189209, 0.2475864738225937, 0.022666366770863533, 0.1159471869468689, 0.012204967439174652, 0.7988339066505432, 0.10382722318172455, 0.09747045487165451, 0.0970679521560669, 0.4853397607803345, 0.31832578778266907, 0.09778168797492981, 0.0007137349457480013, 0.0007137349457480013, 0.08494094759225845, 0.29806551337242126, 0.29497674107551575, 0.0710415169596672, 0.2501896917819977, 0.06500779837369919, 0.9337484240531921, 0.05425836890935898, 0.2790430188179016, 0.14727270603179932, 0.007751195225864649, 0.503827691078186, 0.04787954315543175, 0.3311668336391449, 0.5945042967796326, 0.025934752076864243, 0.26647767424583435, 0.2726568579673767, 0.225154310464859, 0.09886707365512848, 0.0965498760342598, 0.040164750069379807, 0.26578211784362793, 0.1352798193693161, 0.4626670479774475, 0.003017393872141838, 0.125473290681839, 0.0077949343249201775, 0.14871080219745636, 0.3228694498538971, 0.28390243649482727, 0.15984423458576202, 0.0007952449377626181, 0.08350071310997009, 0.9878056049346924, 0.4305607080459595, 0.13504855334758759, 0.33338555693626404, 0.010963351465761662, 0.09069681912660599, 0.17664094269275665, 0.8046976327896118, 0.3416728973388672, 0.1741429567337036, 0.17855164408683777, 0.13005612790584564, 0.1487930417060852, 0.026452094316482544, 0.9406497478485107, 0.9660982489585876, 0.988991916179657, 0.9821268916130066, 0.015969984233379364, 0.5589494705200195, 0.42320457100868225, 0.9744979739189148, 0.9791685342788696, 0.9473155736923218, 0.9640194773674011, 0.9785380959510803, 0.228594571352005, 0.45107969641685486, 0.12626159191131592, 0.15426315367221832, 0.03971130773425102, 0.24640218913555145, 0.2454635202884674, 0.027690913528203964, 0.32290419936180115, 0.0009386750170961022, 0.15628939867019653, 0.43264561891555786, 0.2412095069885254, 0.31523147225379944, 0.010209926404058933, 0.028797071427106857, 0.950303316116333, 0.08188042789697647, 0.040940213948488235, 0.8597444295883179, 0.04915429651737213, 0.9512801766395569, 0.9921175241470337, 0.884017288684845, 0.9846016764640808, 0.047743119299411774, 0.9071192741394043, 0.10382964462041855, 0.31148892641067505, 0.34573063254356384, 0.07179709523916245, 0.11708449572324753, 0.04970568045973778, 0.24631883203983307, 0.4837830662727356, 0.00965956225991249, 0.17950685322284698, 0.0539325550198555, 0.026563795283436775, 0.9709047675132751, 0.9829431176185608, 0.987677276134491, 0.9679679870605469, 0.010042663663625717, 0.10042662918567657, 0.8837543725967407, 0.06061500310897827, 0.7031340003013611, 0.07273799926042557, 0.16972200572490692, 0.1891002506017685, 0.1090107336640358, 0.5761995911598206, 0.048943594098091125, 0.07119068503379822, 0.006674126721918583, 0.9473304748535156, 0.04959845542907715, 0.03297785297036171, 0.9481132626533508, 0.016488926485180855, 0.3003350496292114, 0.6419661641120911, 0.0037541883066296577, 0.05255863443017006, 0.9047347903251648, 0.9709047675132751, 0.9239521026611328, 0.07584681361913681, 0.974004864692688, 0.013718378730118275, 0.9956546425819397, 0.9863021373748779, 0.9755687713623047, 0.9681648015975952, 0.3131716847419739, 0.30628877878189087, 0.3785591721534729, 0.057821400463581085, 0.23808811604976654, 0.057821400463581085, 0.26529818773269653, 0.3809410035610199, 0.09257818013429642, 0.734453558921814, 0.1666407287120819, 0.187641903758049, 0.24374745786190033, 0.0978730246424675, 0.30390506982803345, 0.1536668837070465, 0.01340299379080534, 0.05276652052998543, 0.9322085380554199, 0.9933248162269592, 0.978550910949707, 0.9770802855491638, 0.983104407787323, 0.4554760456085205, 0.12000566720962524, 0.0013637007214128971, 0.42411094903945923, 0.9731627702713013, 0.027804650366306305, 0.9855605959892273, 0.8025866746902466, 0.1967124193906784, 0.6053074598312378, 0.0658716931939125, 0.08456501364707947, 0.11750086396932602, 0.011572054587304592, 0.11394023150205612, 0.5854586362838745, 0.09843995422124863, 0.20378796756267548, 0.05008348450064659, 0.06044558435678482, 0.9934820532798767, 0.17190322279930115, 0.7728038430213928, 0.05476562678813934, 0.12342698872089386, 0.8639889359474182, 0.87983238697052, 0.08616915345191956, 0.018140874803066254, 0.015873264521360397, 0.9902342557907104, 0.541045069694519, 0.39203596115112305, 0.06740889698266983, 0.9953756928443909, 0.9195808172225952, 0.07771105319261551, 0.9665504097938538, 0.02985483966767788, 0.9850912094116211, 0.9823353290557861, 0.015230005607008934, 0.993445873260498, 0.48831602931022644, 0.48831602931022644, 0.6880146861076355, 0.3065691590309143, 0.004238283261656761, 0.001412761164829135, 0.9566328525543213, 0.8353198170661926, 0.9058427214622498, 0.9602921605110168, 0.9549182057380676, 0.9944634437561035, 0.9757552742958069, 0.9614962339401245, 0.9650413990020752, 0.9655657410621643, 0.9446764588356018, 0.7723534107208252, 0.00612978870049119, 0.13792024552822113, 0.08275214582681656, 0.003064894350245595, 0.06563539803028107, 0.9188955426216125, 0.9566328525543213, 0.9949630498886108, 0.12631382048130035, 0.7254022359848022, 0.1479676216840744, 0.9815636277198792, 0.9894699454307556, 0.3072856068611145, 0.19205351173877716, 0.3456963300704956, 0.15364280343055725, 0.6631783843040466, 0.112104631960392, 0.02705973945558071, 0.04252244532108307, 0.154197558760643, 0.0004295196558814496, 0.04626205936074257, 0.9406619071960449, 0.9807376265525818, 0.980887770652771, 0.9881847500801086, 0.962320864200592, 0.9773412942886353, 0.9758063554763794, 0.989733874797821, 0.11257949471473694, 0.19033223390579224, 0.3960530459880829, 0.01741337589919567, 0.28347355127334595, 0.9814594984054565, 0.3898688852787018, 0.25726041197776794, 0.013260846957564354, 0.33947765827178955, 0.9707604646682739, 0.9671604633331299, 0.09629680961370468, 0.8666713237762451, 0.024182351306080818, 0.07859264314174652, 0.4292367398738861, 0.0181367639452219, 0.4594646990299225, 0.10665606707334518, 0.21563075482845306, 0.43512585759162903, 0.10433746129274368, 0.13602513074874878, 0.0015457401750609279, 0.9742171764373779, 0.9766800403594971, 0.9692001938819885, 0.03028750605881214, 0.9779839515686035, 0.966500461101532, 0.01464394573122263, 0.9879680275917053, 0.4156227707862854, 0.09226109087467194, 0.37531453371047974, 0.0053744325414299965, 0.11107160151004791, 0.989976167678833, 0.9491558074951172, 0.06468852609395981, 0.793285608291626, 0.10554444044828415, 0.02723727375268936, 0.01021397765725851, 0.9058427214622498, 0.9529775381088257, 0.036652982234954834, 0.7163746356964111, 0.270884245634079, 0.011422829702496529, 0.9548540115356445, 0.04340245574712753, 0.9713196754455566, 0.9899615049362183, 0.002602210734039545, 0.421558141708374, 0.25761887431144714, 0.3174697160720825, 0.10497642308473587, 0.89458167552948, 0.411318838596344, 0.025311928242444992, 0.47670799493789673, 0.0843730941414833, 0.9818458557128906, 0.7328357696533203, 0.26521673798561096, 0.05784382298588753, 0.9062198996543884, 0.028921911492943764, 0.9809794425964355, 0.9830388426780701, 0.9912121295928955, 0.152848020195961, 0.33874425292015076, 0.5081163644790649, 0.7542195320129395, 0.052120864391326904, 0.018395598977804184, 0.1357770413160324, 0.010949761606752872, 0.028907369822263718, 0.9847326874732971, 0.9676529169082642, 0.12869150936603546, 0.1510726362466812, 0.06154811382293701, 0.6182788014411926, 0.03916697949171066, 0.9740616679191589, 0.8298248648643494, 0.14003294706344604, 0.028525229543447495, 0.9922876358032227, 0.9540107250213623, 0.7763730883598328, 0.43938130140304565, 0.5272575616836548, 0.9809387922286987, 0.9911640286445618, 0.19791708886623383, 0.21161377429962158, 0.3232417404651642, 0.17942656576633453, 0.08354977518320084, 0.0034241711255162954, 0.43896034359931946, 0.06753236055374146, 0.06994423270225525, 0.4220772683620453, 0.9709047675132751, 0.996684730052948, 0.992716372013092, 0.2734324038028717, 0.40111449360847473, 0.3252279758453369, 0.9689344167709351, 0.9740385413169861, 0.4176216721534729, 0.5011460185050964, 0.08510469645261765, 0.3829711079597473, 0.37587904930114746, 0.0020263022743165493, 0.1539989709854126, 0.13271822035312653, 0.30762502551078796, 0.4333118200302124, 0.01142607256770134, 0.11513965576887131, 0.9968276023864746, 0.022684063762426376, 0.052929483354091644, 0.8166263103485107, 0.11342032253742218, 0.9817823171615601, 0.9079225659370422, 0.20829567313194275, 0.3201056122779846, 0.20148491859436035, 0.13224221765995026, 0.09591817110776901, 0.041432108730077744, 0.001358385314233601, 0.408873975276947, 0.004075156059116125, 0.4564174711704254, 0.07606957852840424, 0.05161864310503006, 0.7842923998832703, 0.1929275393486023, 0.020970383659005165, 0.9908007383346558, 0.8547141551971436, 0.14364944398403168, 0.12765370309352875, 0.8696408867835999, 0.5062066316604614, 0.48779910802841187, 0.7379597425460815, 0.12909482419490814, 0.24384579062461853, 0.6053113341331482, 0.0200814176350832, 0.9732344150543213, 0.9881287813186646, 0.9726411700248718, 0.9325754046440125, 0.8793262243270874, 0.8940683603286743, 0.9838816523551941, 0.056119516491889954, 0.954031765460968, 0.6902686953544617, 0.7950459122657776, 0.44907763600349426, 0.07993291318416595, 0.33135825395584106, 0.01453325618058443, 0.12353268265724182, 0.16230787336826324, 0.41382312774658203, 0.16726383566856384, 0.13009409606456757, 0.08672939985990524, 0.039647724479436874, 0.9984991550445557, 0.9897059202194214, 0.8957630395889282, 0.24938102066516876, 0.05646362528204918, 0.02352651208639145, 0.6210998892784119, 0.0470530241727829, 0.916901171207428, 0.07923837751150131, 0.9853196144104004, 0.6760427951812744, 0.051159996539354324, 0.00548142846673727, 0.264935702085495, 0.9779735803604126, 0.48277363181114197, 0.018543316051363945, 0.33068913221359253, 0.1627691090106964, 0.1895538866519928, 0.2997835874557495, 0.10971781611442566, 0.057746220380067825, 0.11613406240940094, 0.22649350762367249, 0.4902012348175049, 0.9886499047279358, 0.06573188304901123, 0.4601231813430786, 0.19517312943935394, 0.14258763194084167, 0.11528361588716507, 0.02123645506799221, 0.13364344835281372, 0.46484678983688354, 0.3951197564601898, 0.2315555214881897, 0.416624516248703, 0.2341868281364441, 0.09472725540399551, 0.014910771511495113, 0.007893937639892101, 0.9946642518043518, 0.48895421624183655, 0.0029088715091347694, 0.0523596853017807, 0.04072419926524162, 0.9032045602798462, 0.9788460731506348, 0.8476431369781494, 0.08182238042354584, 0.06481435894966125, 0.002758057788014412, 0.0032177341636270285, 0.15668709576129913, 0.6093387007713318, 0.07913489639759064, 0.11711964756250381, 0.03798475116491318, 0.04118502140045166, 0.28473594784736633, 0.12965653836727142, 0.42608699202537537, 0.008643769659101963, 0.1098267212510109, 0.9425098896026611, 0.05309915170073509, 0.2213243842124939, 0.16849957406520844, 0.39483654499053955, 0.1206873431801796, 0.051668062806129456, 0.043185245245695114, 0.10901279002428055, 0.8939049243927002, 0.2696877419948578, 0.7011880874633789, 0.9919432997703552, 0.20168273150920868, 0.36813172698020935, 0.07957962900400162, 0.21200984716415405, 0.13182274997234344, 0.006074781063944101, 0.002998505486175418, 0.6056981086730957, 0.35682213306427, 0.00899551622569561, 0.02698654867708683, 0.1148504987359047, 0.8613787293434143], \"Term\": [\"academic\", \"accumulate\", \"ad\", \"ad\", \"aero\", \"africa\", \"africa\", \"africa\", \"africa\", \"african\", \"african\", \"african\", \"agenda\", \"aggression\", \"aggression\", \"aggression\", \"air\", \"air\", \"air\", \"air\", \"aircraft\", \"aircraft\", \"alabama\", \"algeria\", \"ally\", \"ally\", \"ally\", \"also\", \"also\", \"also\", \"also\", \"also\", \"also\", \"amendment\", \"amendment\", \"america\", \"america\", \"america\", \"america\", \"america\", \"american\", \"american\", \"american\", \"american\", \"american\", \"american\", \"amien\", \"andy\", \"ante\", \"anybody\", \"anybody\", \"anybody\", \"anything\", \"anything\", \"anything\", \"anything\", \"anything\", \"anyway\", \"apple\", \"arab\", \"arm\", \"arm\", \"arm\", \"arm\", \"arm\", \"armament\", \"armament\", \"army\", \"army\", \"army\", \"army\", \"asia\", \"asia\", \"asia\", \"ask\", \"ask\", \"ask\", \"ask\", \"ask\", \"assert\", \"assistant\", \"athen\", \"atlanta\", \"atom\", \"atque\", \"attack\", \"attack\", \"attack\", \"attack\", \"australian\", \"aut\", \"baby\", \"baby\", \"baby\", \"back\", \"back\", \"back\", \"back\", \"back\", \"ballot\", \"ballot\", \"battle\", \"battle\", \"battle\", \"battle\", \"battle\", \"belgian\", \"belgian\", \"belgium\", \"berliner\", \"black\", \"black\", \"black\", \"black\", \"blockade\", \"blood\", \"blood\", \"blood\", \"blood\", \"blood\", \"bomber\", \"boulogne\", \"boy\", \"boy\", \"boycott\", \"brain\", \"breiner\", \"british\", \"british\", \"british\", \"brown\", \"brown\", \"brute\", \"calais\", \"call\", \"call\", \"call\", \"call\", \"call\", \"campaign\", \"campaign\", \"canal\", \"cancer\", \"cannon\", \"catilina\", \"catiline\", \"century\", \"century\", \"century\", \"century\", \"cf\", \"chain\", \"chain\", \"charlevoix\", \"child\", \"child\", \"child\", \"child\", \"christian\", \"christian\", \"christian\", \"citizen\", \"citizen\", \"citizen\", \"city\", \"city\", \"city\", \"city\", \"city\", \"city\", \"civic\", \"color\", \"color\", \"color\", \"colored\", \"colored\", \"come\", \"come\", \"come\", \"come\", \"come\", \"come\", \"commerce\", \"communism\", \"communism\", \"communist\", \"complex\", \"computer\", \"concept\", \"concept\", \"condition\", \"condition\", \"condition\", \"condition\", \"condition\", \"conference\", \"conference\", \"conference\", \"conference\", \"congress\", \"congress\", \"congress\", \"constitution\", \"constitution\", \"constitutional\", \"constitutional\", \"consul\", \"consumer\", \"context\", \"controversy\", \"could\", \"could\", \"could\", \"could\", \"could\", \"could\", \"country\", \"country\", \"country\", \"country\", \"country\", \"country\", \"crowd\", \"crowd\", \"crown\", \"crown\", \"cry\", \"cry\", \"cry\", \"cuban\", \"cum\", \"day\", \"day\", \"day\", \"day\", \"day\", \"day\", \"death\", \"death\", \"death\", \"death\", \"death\", \"death\", \"declaration\", \"declaration\", \"declaration\", \"declaration\", \"declaration\", \"declare\", \"declare\", \"declare\", \"declare\", \"deem\", \"defense\", \"defense\", \"defense\", \"defense\", \"defense\", \"democracy\", \"democracy\", \"democracy\", \"derive\", \"devastation\", \"die\", \"die\", \"die\", \"die\", \"die\", \"die\", \"diplomatic\", \"disarmament\", \"divine\", \"divine\", \"divorce\", \"dream\", \"dream\", \"drive\", \"drive\", \"drive\", \"drive\", \"drive\", \"dunkirk\", \"duty\", \"duty\", \"duty\", \"duty\", \"e\", \"earning\", \"economic\", \"economic\", \"economic\", \"egypt\", \"electric\", \"elijah\", \"employee\", \"enact\", \"enemy\", \"enemy\", \"enemy\", \"enemy\", \"enemy\", \"energy\", \"energy\", \"enjoyment\", \"equal\", \"equal\", \"esse\", \"est\", \"establish\", \"establish\", \"establish\", \"establishment\", \"ethiopia\", \"ethiopia\", \"ethiopia\", \"ethiopian\", \"etiam\", \"europe\", \"europe\", \"europe\", \"europe\", \"europe\", \"even\", \"even\", \"even\", \"even\", \"even\", \"even\", \"exercise\", \"expeditionary\", \"eye\", \"eye\", \"eye\", \"eye\", \"eye\", \"eye\", \"family\", \"family\", \"family\", \"family\", \"family\", \"far\", \"far\", \"far\", \"far\", \"far\", \"far\", \"father\", \"father\", \"father\", \"father\", \"favorable\", \"fighter\", \"first\", \"first\", \"first\", \"first\", \"first\", \"first\", \"flame\", \"flank\", \"fleet\", \"flesh\", \"football\", \"force\", \"force\", \"force\", \"force\", \"force\", \"form\", \"form\", \"form\", \"form\", \"form\", \"form\", \"frame\", \"france\", \"france\", \"france\", \"freedom\", \"freedom\", \"freedom\", \"freedom\", \"freedom\", \"french\", \"french\", \"french\", \"french\", \"fugitive\", \"fuhrer\", \"fun\", \"generate\", \"generation\", \"generation\", \"generation\", \"generation\", \"generation\", \"gentleman\", \"gentleman\", \"german\", \"german\", \"german\", \"germany\", \"germany\", \"germany\", \"gestapo\", \"get\", \"get\", \"get\", \"give\", \"give\", \"give\", \"give\", \"give\", \"give\", \"global\", \"glorious\", \"glory\", \"glory\", \"glory\", \"go\", \"go\", \"go\", \"go\", \"go\", \"god\", \"god\", \"god\", \"good\", \"good\", \"good\", \"good\", \"good\", \"good\", \"government\", \"government\", \"government\", \"government\", \"government\", \"grape\", \"great\", \"great\", \"great\", \"great\", \"great\", \"greece\", \"grip\", \"hampshire\", \"hand\", \"hand\", \"hand\", \"hand\", \"hand\", \"hear\", \"hear\", \"hear\", \"hear\", \"heart\", \"heart\", \"heart\", \"heavily\", \"hellene\", \"help\", \"help\", \"help\", \"help\", \"help\", \"help\", \"herr\", \"home\", \"home\", \"home\", \"home\", \"home\", \"home\", \"home\", \"hon\", \"honor\", \"honor\", \"honor\", \"honor\", \"hope\", \"hope\", \"hope\", \"hope\", \"hope\", \"horrible\", \"human\", \"human\", \"human\", \"human\", \"human\", \"humphrey\", \"husband\", \"husband\", \"hypocrisy\", \"imperial\", \"imperialist\", \"implement\", \"income\", \"income\", \"increasingly\", \"inflation\", \"inflation\", \"insurance\", \"interest\", \"interest\", \"interest\", \"interest\", \"interest\", \"international\", \"international\", \"international\", \"iraq\", \"ireland\", \"island\", \"island\", \"island\", \"island\", \"island\", \"italian\", \"italian\", \"italian\", \"italy\", \"jerusalem\", \"jewish\", \"job\", \"job\", \"johannesburg\", \"journey\", \"judicial\", \"kid\", \"knock\", \"know\", \"know\", \"know\", \"know\", \"know\", \"know\", \"large\", \"large\", \"large\", \"large\", \"large\", \"large\", \"last\", \"last\", \"last\", \"last\", \"last\", \"last\", \"laughter\", \"laughter\", \"law\", \"law\", \"law\", \"law\", \"legal\", \"legal\", \"legal\", \"legislature\", \"let\", \"let\", \"let\", \"let\", \"let\", \"let\", \"liberty\", \"liberty\", \"liberty\", \"life\", \"life\", \"life\", \"life\", \"life\", \"life\", \"look\", \"look\", \"look\", \"look\", \"look\", \"lord\", \"lord\", \"loss\", \"loss\", \"loss\", \"loss\", \"loss\", \"love\", \"love\", \"love\", \"love\", \"make\", \"make\", \"make\", \"make\", \"make\", \"make\", \"man\", \"man\", \"man\", \"man\", \"man\", \"man\", \"many\", \"many\", \"many\", \"many\", \"many\", \"many\", \"marriage\", \"may\", \"may\", \"may\", \"may\", \"may\", \"maybe\", \"maybe\", \"mean\", \"mean\", \"mean\", \"mean\", \"mean\", \"mean\", \"mediterranean\", \"mellon\", \"mercy\", \"mermaid\", \"military\", \"military\", \"military\", \"milk\", \"missile\", \"moll\", \"muhammad\", \"munster\", \"must\", \"must\", \"must\", \"must\", \"must\", \"nation\", \"nation\", \"nation\", \"nation\", \"nation\", \"nation\", \"national\", \"national\", \"national\", \"national\", \"naval\", \"naval\", \"navy\", \"navy\", \"navy\", \"negro\", \"negro\", \"negroe\", \"neque\", \"network\", \"neutrality\", \"neutrality\", \"never\", \"never\", \"never\", \"never\", \"never\", \"never\", \"new\", \"new\", \"new\", \"new\", \"new\", \"new\", \"nihil\", \"nixon\", \"nkrumah\", \"nobel\", \"noble\", \"noble\", \"noble\", \"non\", \"non\", \"non\", \"non\", \"nothing\", \"nothing\", \"nothing\", \"nothing\", \"nothing\", \"nothing\", \"object\", \"object\", \"objective\", \"objective\", \"objective\", \"office\", \"office\", \"office\", \"office\", \"omnia\", \"omnium\", \"opinion\", \"opinion\", \"opposition\", \"opposition\", \"oppressor\", \"original\", \"outstanding\", \"overall\", \"party\", \"party\", \"party\", \"peace\", \"peace\", \"peace\", \"peace\", \"peace\", \"peaceful\", \"peaceful\", \"peaceful\", \"people\", \"people\", \"people\", \"people\", \"people\", \"people\", \"pesticide\", \"pesticide\", \"philip\", \"pity\", \"plaza\", \"policeman\", \"political\", \"political\", \"political\", \"political\", \"post\", \"post\", \"pour\", \"poverty\", \"poverty\", \"power\", \"power\", \"power\", \"power\", \"power\", \"power\", \"present\", \"present\", \"present\", \"present\", \"present\", \"presidency\", \"president\", \"president\", \"president\", \"prime\", \"prime\", \"principle\", \"principle\", \"principle\", \"principle\", \"prison\", \"problem\", \"problem\", \"problem\", \"prohibition\", \"proper\", \"proper\", \"property\", \"property\", \"proportion\", \"protection\", \"protection\", \"provision\", \"provoke\", \"provoke\", \"public\", \"public\", \"public\", \"public\", \"publicae\", \"pythian\", \"quae\", \"quam\", \"quebec\", \"queen\", \"qui\", \"quid\", \"quod\", \"randy\", \"reexamine\", \"regard\", \"regard\", \"regard\", \"regard\", \"regard\", \"regime\", \"regime\", \"rei\", \"reich\", \"religion\", \"religion\", \"religion\", \"restaurant\", \"retain\", \"rid\", \"rid\", \"rid\", \"rid\", \"right\", \"right\", \"right\", \"right\", \"right\", \"right\", \"role\", \"role\", \"roosevelt\", \"royal\", \"saddam\", \"salesman\", \"sam\", \"savage\", \"saving\", \"say\", \"say\", \"say\", \"say\", \"say\", \"scatter\", \"school\", \"school\", \"school\", \"school\", \"schuknecht\", \"scythe\", \"se\", \"se\", \"sea\", \"sea\", \"sea\", \"sea\", \"sea\", \"see\", \"see\", \"see\", \"see\", \"see\", \"see\", \"segregation\", \"selma\", \"sentiment\", \"sentiment\", \"separation\", \"session\", \"session\", \"sex\", \"shall\", \"shall\", \"shall\", \"shall\", \"shall\", \"shalt\", \"shameless\", \"share\", \"share\", \"share\", \"share\", \"share\", \"si\", \"sin\", \"sin\", \"slave\", \"slave\", \"slave\", \"slavery\", \"slavery\", \"socialism\", \"socialist\", \"something\", \"something\", \"something\", \"something\", \"soul\", \"soul\", \"south\", \"south\", \"south\", \"south\", \"southerner\", \"soviet\", \"soviet\", \"space\", \"space\", \"space\", \"squadron\", \"staff\", \"stalin\", \"start\", \"start\", \"start\", \"state\", \"state\", \"state\", \"state\", \"state\", \"state\", \"stone\", \"strawberry\", \"struggle\", \"struggle\", \"struggle\", \"struggle\", \"struggle\", \"stuff\", \"subject\", \"subject\", \"subject\", \"suffrage\", \"sunt\", \"superhuman\", \"surprised\", \"surprised\", \"sweet\", \"sword\", \"take\", \"take\", \"take\", \"take\", \"take\", \"take\", \"talk\", \"talk\", \"talk\", \"talk\", \"tam\", \"taxation\", \"te\", \"tell\", \"tell\", \"tell\", \"terrorism\", \"terrorist\", \"theatre\", \"theatre\", \"thing\", \"thing\", \"thing\", \"thing\", \"thing\", \"think\", \"think\", \"think\", \"think\", \"think\", \"thou\", \"threat\", \"threat\", \"threat\", \"threat\", \"thunder\", \"tibi\", \"time\", \"time\", \"time\", \"time\", \"time\", \"time\", \"today\", \"today\", \"today\", \"today\", \"today\", \"today\", \"tonight\", \"tonight\", \"tonight\", \"totalitarian\", \"trade\", \"trade\", \"treaty\", \"treaty\", \"troop\", \"troop\", \"troy\", \"truth\", \"truth\", \"truth\", \"truth\", \"turkey\", \"umkhonto\", \"uncle\", \"unconscious\", \"und\", \"underground\", \"unemployment\", \"unfortunate\", \"unfortunate\", \"unfrequently\", \"unintentionally\", \"united\", \"united\", \"united\", \"united\", \"united\", \"use\", \"use\", \"use\", \"use\", \"use\", \"use\", \"vietnam\", \"vietnamese\", \"villainous\", \"violence\", \"violence\", \"violence\", \"violence\", \"violence\", \"vision\", \"vision\", \"volk\", \"vote\", \"vote\", \"vote\", \"vote\", \"waiter\", \"wandering\", \"want\", \"want\", \"want\", \"want\", \"want\", \"war\", \"war\", \"war\", \"war\", \"war\", \"watergate\", \"way\", \"way\", \"way\", \"way\", \"way\", \"way\", \"weapon\", \"weapon\", \"weapon\", \"well\", \"well\", \"well\", \"well\", \"well\", \"well\", \"wellesley\", \"whereupon\", \"white\", \"white\", \"white\", \"white\", \"withdrawal\", \"woman\", \"woman\", \"woman\", \"woman\", \"woman\", \"work\", \"work\", \"work\", \"work\", \"work\", \"world\", \"world\", \"world\", \"world\", \"world\", \"world\", \"worship\", \"worship\", \"would\", \"would\", \"would\", \"would\", \"would\", \"would\", \"wrath\", \"wrath\", \"writing\", \"writing\", \"yacub\", \"year\", \"year\", \"year\", \"year\", \"year\", \"year\", \"young\", \"young\", \"young\", \"young\", \"young\", \"youthful\", \"youthful\"]}, \"R\": 30, \"lambda.step\": 0.01, \"plot.opts\": {\"xlab\": \"PC1\", \"ylab\": \"PC2\"}, \"topic.order\": [2, 5, 9, 4, 10, 6, 1, 3, 8, 7]};\n",
       "\n",
       "function LDAvis_load_lib(url, callback){\n",
       "  var s = document.createElement('script');\n",
       "  s.src = url;\n",
       "  s.async = true;\n",
       "  s.onreadystatechange = s.onload = callback;\n",
       "  s.onerror = function(){console.warn(\"failed to load library \" + url);};\n",
       "  document.getElementsByTagName(\"head\")[0].appendChild(s);\n",
       "}\n",
       "\n",
       "if(typeof(LDAvis) !== \"undefined\"){\n",
       "   // already loaded: just create the visualization\n",
       "   !function(LDAvis){\n",
       "       new LDAvis(\"#\" + \"ldavis_el208261127896758485085350550\", ldavis_el208261127896758485085350550_data);\n",
       "   }(LDAvis);\n",
       "}else if(typeof define === \"function\" && define.amd){\n",
       "   // require.js is available: use it to load d3/LDAvis\n",
       "   require.config({paths: {d3: \"https://cdnjs.cloudflare.com/ajax/libs/d3/3.5.5/d3.min\"}});\n",
       "   require([\"d3\"], function(d3){\n",
       "      window.d3 = d3;\n",
       "      LDAvis_load_lib(\"https://cdn.rawgit.com/bmabey/pyLDAvis/files/ldavis.v1.0.0.js\", function(){\n",
       "        new LDAvis(\"#\" + \"ldavis_el208261127896758485085350550\", ldavis_el208261127896758485085350550_data);\n",
       "      });\n",
       "    });\n",
       "}else{\n",
       "    // require.js not available: dynamically load d3 & LDAvis\n",
       "    LDAvis_load_lib(\"https://cdnjs.cloudflare.com/ajax/libs/d3/3.5.5/d3.min.js\", function(){\n",
       "         LDAvis_load_lib(\"https://cdn.rawgit.com/bmabey/pyLDAvis/files/ldavis.v1.0.0.js\", function(){\n",
       "                 new LDAvis(\"#\" + \"ldavis_el208261127896758485085350550\", ldavis_el208261127896758485085350550_data);\n",
       "            })\n",
       "         });\n",
       "}\n",
       "</script>"
      ],
      "text/plain": [
       "PreparedData(topic_coordinates=              x         y  topics  cluster       Freq\n",
       "topic                                                \n",
       "1     -0.182691 -0.046519       1        1  28.507965\n",
       "4     -0.226466  0.042436       2        1  23.052303\n",
       "8     -0.180228  0.094810       3        1  22.085228\n",
       "3     -0.193369 -0.110230       4        1  13.916260\n",
       "9     -0.110636  0.255518       5        1   6.332090\n",
       "5     -0.114007 -0.230936       6        1   5.168945\n",
       "0      0.296528  0.000476       7        1   0.901055\n",
       "2      0.238666 -0.001578       8        1   0.028313\n",
       "7      0.236410 -0.001981       9        1   0.007268\n",
       "6      0.235792 -0.001996      10        1   0.000571, topic_info=      Category         Freq             Term        Total  loglift  logprob\n",
       "202    Default  1558.000000              war  1558.000000  30.0000  30.0000\n",
       "692    Default  2469.000000              say  2469.000000  29.0000  29.0000\n",
       "87     Default  1733.000000               go  1733.000000  28.0000  28.0000\n",
       "85     Default  1048.000000              get  1048.000000  27.0000  27.0000\n",
       "521    Default  3976.000000              man  3976.000000  26.0000  26.0000\n",
       "479    Default  1746.000000             know  1746.000000  25.0000  25.0000\n",
       "135    Default  1176.000000            peace  1176.000000  24.0000  24.0000\n",
       "124    Default  2130.000000           nation  2130.000000  23.0000  23.0000\n",
       "136    Default  3208.000000           people  3208.000000  22.0000  22.0000\n",
       "679    Default  2328.000000            right  2328.000000  21.0000  21.0000\n",
       "798    Default   687.000000            white   687.000000  20.0000  20.0000\n",
       "210    Default  1966.000000            world  1966.000000  19.0000  19.0000\n",
       "207    Default  2175.000000            woman  2175.000000  18.0000  18.0000\n",
       "32     Default  1527.000000             come  1527.000000  17.0000  17.0000\n",
       "751    Default   830.000000             tell   830.000000  16.0000  16.0000\n",
       "201    Default   970.000000             want   970.000000  15.0000  15.0000\n",
       "523    Default  2006.000000              may  2006.000000  14.0000  14.0000\n",
       "418    Default   782.000000            force   782.000000  13.0000  13.0000\n",
       "732    Default  2283.000000            state  2283.000000  12.0000  12.0000\n",
       "1536   Default   413.000000            black   413.000000  11.0000  11.0000\n",
       "90     Default  2081.000000       government  2081.000000  10.0000  10.0000\n",
       "1771   Default   502.000000           german   502.000000   9.0000   9.0000\n",
       "553    Default   345.000000            negro   345.000000   8.0000   8.0000\n",
       "88     Default   794.000000              god   794.000000   7.0000   7.0000\n",
       "809    Default  1646.000000             year  1646.000000   6.0000   6.0000\n",
       "707    Default  1116.000000            shall  1116.000000   5.0000   5.0000\n",
       "792    Default   547.000000             vote   547.000000   4.0000   4.0000\n",
       "761    Default   987.000000            thing   987.000000   3.0000   3.0000\n",
       "1496   Default   313.000000             army   313.000000   2.0000   2.0000\n",
       "109    Default  1260.000000              law  1260.000000   1.0000   1.0000\n",
       "...        ...          ...              ...          ...      ...      ...\n",
       "6929   Topic10     0.000116       refutation     0.724686   3.3304  -9.9456\n",
       "4441   Topic10     0.000116             dial     0.724708   3.3304  -9.9456\n",
       "4458   Topic10     0.000116       feebleness     0.724708   3.3304  -9.9456\n",
       "6944   Topic10     0.000116          stoutly     0.724686   3.3304  -9.9456\n",
       "6948   Topic10     0.000116           thetis     0.724686   3.3304  -9.9456\n",
       "20859  Topic10     0.000116              woz     0.741508   3.3075  -9.9456\n",
       "6965   Topic10     0.000116             zeus     0.725802   3.3289  -9.9456\n",
       "6947   Topic10     0.000116          theatre    11.972559   0.5258  -9.9456\n",
       "6949   Topic10     0.000116          trainer     0.725802   3.3289  -9.9456\n",
       "6950   Topic10     0.000116             troy     4.065262   1.6059  -9.9456\n",
       "6951   Topic10     0.000116      unconscious     9.650694   0.7414  -9.9456\n",
       "6952   Topic10     0.000116      unfortunate    35.638226  -0.5650  -9.9456\n",
       "6953   Topic10     0.000116     unfrequently     1.448711   2.6377  -9.9456\n",
       "6954   Topic10     0.000116    unintentional     0.725802   3.3289  -9.9456\n",
       "6955   Topic10     0.000116  unintentionally     3.773367   1.6804  -9.9456\n",
       "6956   Topic10     0.000116         untimely     0.724686   3.3304  -9.9456\n",
       "6957   Topic10     0.000116       villainous     5.581833   1.2889  -9.9456\n",
       "6958   Topic10     0.000116        wandering     2.071364   2.2802  -9.9456\n",
       "6959   Topic10     0.000116       wantonness     0.724686   3.3304  -9.9456\n",
       "6960   Topic10     0.000116        whereupon     2.045181   2.2929  -9.9456\n",
       "6961   Topic10     0.000116           wisest     0.724686   3.3304  -9.9456\n",
       "6962   Topic10     0.000116          writing    18.539961   0.0885  -9.9456\n",
       "6963   Topic10     0.000116         youthful    17.413942   0.1511  -9.9456\n",
       "6946   Topic10     0.000116        surprised    11.379638   0.5766  -9.9456\n",
       "6945   Topic10     0.000116       superhuman     2.576081   2.0621  -9.9456\n",
       "6934   Topic10     0.000116        shameless    14.749949   0.3171  -9.9456\n",
       "6927   Topic10     0.000116          provoke    24.574249  -0.1933  -9.9456\n",
       "6928   Topic10     0.000116          pythian     2.394293   2.1353  -9.9456\n",
       "6931   Topic10     0.000116      rhetorician     0.724686   3.3304  -9.9456\n",
       "6932   Topic10     0.000116              rid    26.034410  -0.2510  -9.9456\n",
       "\n",
       "[716 rows x 6 columns], token_table=       Topic      Freq        Term\n",
       "term                              \n",
       "813        2  0.981077    academic\n",
       "5730       1  0.994647  accumulate\n",
       "4947       2  0.170713          ad\n",
       "4947       7  0.819424          ad\n",
       "20590      6  0.947863        aero\n",
       "230        1  0.094243      africa\n",
       "230        3  0.069658      africa\n",
       "230        4  0.770335      africa\n",
       "230        5  0.069658      africa\n",
       "231        1  0.082461     african\n",
       "231        4  0.896074     african\n",
       "231        5  0.016492     african\n",
       "4950       4  0.994183      agenda\n",
       "1471       1  0.083931  aggression\n",
       "1471       4  0.251793  aggression\n",
       "1471       6  0.654661  aggression\n",
       "2622       2  0.143139         air\n",
       "2622       3  0.114512         air\n",
       "2622       5  0.009543         air\n",
       "2622       6  0.730011         air\n",
       "5262       1  0.035046    aircraft\n",
       "5262       6  0.946241    aircraft\n",
       "1477       5  0.995944     alabama\n",
       "5493       5  0.928377     algeria\n",
       "5          3  0.023518        ally\n",
       "5          4  0.290058        ally\n",
       "5          6  0.689868        ally\n",
       "239        1  0.238519        also\n",
       "239        2  0.251838        also\n",
       "239        3  0.169506        also\n",
       "...      ...       ...         ...\n",
       "210        3  0.129657       world\n",
       "210        4  0.426087       world\n",
       "210        5  0.008644       world\n",
       "210        6  0.109827       world\n",
       "2307       3  0.942510     worship\n",
       "2307       4  0.053099     worship\n",
       "807        1  0.221324       would\n",
       "807        2  0.168500       would\n",
       "807        3  0.394837       would\n",
       "807        4  0.120687       would\n",
       "807        5  0.051668       would\n",
       "807        6  0.043185       would\n",
       "8057       2  0.109013       wrath\n",
       "8057       3  0.893905       wrath\n",
       "6962       1  0.269688     writing\n",
       "6962       3  0.701188     writing\n",
       "8060       5  0.991943       yacub\n",
       "809        1  0.201683        year\n",
       "809        2  0.368132        year\n",
       "809        3  0.079580        year\n",
       "809        4  0.212010        year\n",
       "809        5  0.131823        year\n",
       "809        6  0.006075        year\n",
       "1456       1  0.002999       young\n",
       "1456       2  0.605698       young\n",
       "1456       3  0.356822       young\n",
       "1456       4  0.008996       young\n",
       "1456       5  0.026987       young\n",
       "6963       2  0.114850    youthful\n",
       "6963       3  0.861379    youthful\n",
       "\n",
       "[1106 rows x 3 columns], R=30, lambda_step=0.01, plot_opts={'xlab': 'PC1', 'ylab': 'PC2'}, topic_order=[2, 5, 9, 4, 10, 6, 1, 3, 8, 7])"
      ]
     },
     "execution_count": 828,
     "metadata": {},
     "output_type": "execute_result"
    }
   ],
   "source": [
    "pyLDAvis.enable_notebook()\n",
    "vis = pyLDAvis.gensim.prepare(lda_model, corpus, id2word)\n",
    "vis"
   ]
  },
  {
   "cell_type": "code",
   "execution_count": null,
   "metadata": {},
   "outputs": [],
   "source": [
    "pyLDAvis.display(vis)"
   ]
  },
  {
   "cell_type": "code",
   "execution_count": null,
   "metadata": {},
   "outputs": [],
   "source": [
    "import gensim\n",
    "dictionary = gensim.corpora.Dictionary.load('newsgroups.dict')\n",
    "corpus = gensim.corpora.MmCorpus('newsgroups.mm')\n",
    "lda = gensim.models.ldamodel.LdaModel.load('newsgroups_50.model')\n"
   ]
  },
  {
   "cell_type": "code",
   "execution_count": null,
   "metadata": {},
   "outputs": [],
   "source": []
  }
 ],
 "metadata": {
  "kernelspec": {
   "display_name": "metis",
   "language": "python",
   "name": "metis"
  },
  "language_info": {
   "codemirror_mode": {
    "name": "ipython",
    "version": 3
   },
   "file_extension": ".py",
   "mimetype": "text/x-python",
   "name": "python",
   "nbconvert_exporter": "python",
   "pygments_lexer": "ipython3",
   "version": "3.6.8"
  }
 },
 "nbformat": 4,
 "nbformat_minor": 2
}
